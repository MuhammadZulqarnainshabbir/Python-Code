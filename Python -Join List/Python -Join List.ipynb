{
 "cells": [
  {
   "cell_type": "markdown",
   "id": "c5aa6a6e",
   "metadata": {},
   "source": [
    "# Joint Two List"
   ]
  },
  {
   "cell_type": "markdown",
   "id": "a46567df",
   "metadata": {},
   "source": [
    "The easiest way to join two list is through using **+** operator"
   ]
  },
  {
   "cell_type": "markdown",
   "id": "75506e16",
   "metadata": {},
   "source": [
    "Join Two lists"
   ]
  },
  {
   "cell_type": "code",
   "execution_count": 1,
   "id": "99ead2c9",
   "metadata": {},
   "outputs": [
    {
     "name": "stdout",
     "output_type": "stream",
     "text": [
      "[1, 2, 3, 4, 5, 'one', 'two', 'three']\n"
     ]
    }
   ],
   "source": [
    "listone=[1,2,3,4,5]\n",
    "listtwo =[\"one\",\"two\",\"three\"]\n",
    "list3=listone+listtwo\n",
    "print(list3)"
   ]
  },
  {
   "cell_type": "markdown",
   "id": "12195289",
   "metadata": {},
   "source": [
    "Another way is through using **append()** function"
   ]
  },
  {
   "cell_type": "code",
   "execution_count": 3,
   "id": "076e023b",
   "metadata": {},
   "outputs": [
    {
     "name": "stdout",
     "output_type": "stream",
     "text": [
      "['one', 'two', 'three', 1, 2, 3, 4, 5]\n"
     ]
    }
   ],
   "source": [
    "listne=[1,2,3,4,5]\n",
    "listwo =[\"one\",\"two\",\"three\"]\n",
    "for x in listne:\n",
    "    listwo.append(x)\n",
    "    \n",
    "print(listwo)    "
   ]
  },
  {
   "cell_type": "markdown",
   "id": "b7c064ae",
   "metadata": {},
   "source": [
    "Another way to Join two lists is through **extend()** function, The extend function will add the extended list at the end of other list"
   ]
  },
  {
   "cell_type": "code",
   "execution_count": 4,
   "id": "9b918112",
   "metadata": {},
   "outputs": [
    {
     "name": "stdout",
     "output_type": "stream",
     "text": [
      "[1, 2, 3, 4, 5, 'one', 'two', 'three']\n"
     ]
    }
   ],
   "source": [
    "listn =[1,2,3,4,5]\n",
    "listo=[\"one\",\"two\",\"three\"]\n",
    "listn.extend(listo)\n",
    "print(listn)"
   ]
  }
 ],
 "metadata": {
  "kernelspec": {
   "display_name": "Python 3",
   "language": "python",
   "name": "python3"
  },
  "language_info": {
   "codemirror_mode": {
    "name": "ipython",
    "version": 3
   },
   "file_extension": ".py",
   "mimetype": "text/x-python",
   "name": "python",
   "nbconvert_exporter": "python",
   "pygments_lexer": "ipython3",
   "version": "3.8.8"
  }
 },
 "nbformat": 4,
 "nbformat_minor": 5
}
