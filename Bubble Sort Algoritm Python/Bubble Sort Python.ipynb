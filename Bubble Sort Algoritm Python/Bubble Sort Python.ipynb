{
 "cells": [
  {
   "cell_type": "code",
   "execution_count": 8,
   "id": "8b79c801",
   "metadata": {},
   "outputs": [
    {
     "name": "stdout",
     "output_type": "stream",
     "text": [
      "Please enter the size of your list 5\n",
      "please enter value in list 4\n",
      "please enter value in list 3\n",
      "please enter value in list 2\n",
      "please enter value in list 1\n",
      "please enter value in list 0\n",
      "unsorted array [4, 3, 2, 1, 0]\n",
      "sorted Array [0, 1, 2, 3, 4]\n"
     ]
    }
   ],
   "source": [
    "#Bubble Sort is the simplest sorting algorithm that works by repeatedly swapping the adjacent \n",
    "#elements if they are in the wrong order.\n",
    "\n",
    "a=[]\n",
    "size=int(input(\"Please enter the size of your list \"))\n",
    "for i in range(size):\n",
    "    val= int(input(\"please enter value in list \"))\n",
    "    a.append(val)\n",
    "print(\"unsorted array\",a)    \n",
    "for K in range(size):\n",
    "    for L in range(0,size-K-1):\n",
    "        if a[L] > a[L+1]:\n",
    "            t= a[L]\n",
    "            a[L]=a[L+1]\n",
    "            a[L+1]=t\n",
    "\n",
    "print(\"sorted Array\", a)"
   ]
  },
  {
   "cell_type": "code",
   "execution_count": null,
   "id": "401f5b49",
   "metadata": {},
   "outputs": [],
   "source": []
  }
 ],
 "metadata": {
  "kernelspec": {
   "display_name": "Python 3",
   "language": "python",
   "name": "python3"
  },
  "language_info": {
   "codemirror_mode": {
    "name": "ipython",
    "version": 3
   },
   "file_extension": ".py",
   "mimetype": "text/x-python",
   "name": "python",
   "nbconvert_exporter": "python",
   "pygments_lexer": "ipython3",
   "version": "3.8.8"
  }
 },
 "nbformat": 4,
 "nbformat_minor": 5
}
