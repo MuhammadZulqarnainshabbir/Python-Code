{
 "cells": [
  {
   "cell_type": "code",
   "execution_count": 2,
   "id": "03202914",
   "metadata": {},
   "outputs": [
    {
     "name": "stdout",
     "output_type": "stream",
     "text": [
      "A is not equal to B\n"
     ]
    }
   ],
   "source": [
    "a =10\n",
    "b=20\n",
    "if a==b:\n",
    "    print(\"A equal to B\")\n",
    "else:\n",
    "    print(\"A is not equal to B\")"
   ]
  },
  {
   "cell_type": "code",
   "execution_count": 8,
   "id": "842307a3",
   "metadata": {},
   "outputs": [
    {
     "name": "stdout",
     "output_type": "stream",
     "text": [
      "C is equal to D\n"
     ]
    }
   ],
   "source": [
    "c =20\n",
    "d=20\n",
    "if c!=d:\n",
    "    print(\"C is not equal to B\")\n",
    "else:\n",
    "    print(\"C is equal to D\")"
   ]
  },
  {
   "cell_type": "code",
   "execution_count": 9,
   "id": "bd19016d",
   "metadata": {},
   "outputs": [
    {
     "name": "stdout",
     "output_type": "stream",
     "text": [
      "E is less than F\n"
     ]
    }
   ],
   "source": [
    "e =10\n",
    "f=20\n",
    "if e<f:\n",
    "    print(\"E is less than F\")\n",
    "else:\n",
    "    print(\"undefined Condition\")"
   ]
  },
  {
   "cell_type": "code",
   "execution_count": 12,
   "id": "fd4f0d0e",
   "metadata": {},
   "outputs": [
    {
     "name": "stdout",
     "output_type": "stream",
     "text": [
      "G is less than or equal to H\n"
     ]
    }
   ],
   "source": [
    "G =10\n",
    "H=20\n",
    "if G<=H:\n",
    "    print(\"G is less than or equal to H\")\n",
    "else:\n",
    "    print(\"G is greater than or equal to H\")"
   ]
  },
  {
   "cell_type": "code",
   "execution_count": 14,
   "id": "7f460680",
   "metadata": {},
   "outputs": [
    {
     "name": "stdout",
     "output_type": "stream",
     "text": [
      "I is LESS than or equal to J\n"
     ]
    }
   ],
   "source": [
    "I =10\n",
    "J=20\n",
    "if I>J:\n",
    "    print(\"I is GREATER than or equal to J\")\n",
    "else:\n",
    "    print(\"I is LESS than or equal to J\")"
   ]
  },
  {
   "cell_type": "code",
   "execution_count": 15,
   "id": "31be6f63",
   "metadata": {},
   "outputs": [
    {
     "name": "stdout",
     "output_type": "stream",
     "text": [
      "K is greater than or equal to L\n"
     ]
    }
   ],
   "source": [
    "K =30\n",
    "L=20\n",
    "if K>=L:\n",
    "    print(\"K is greater than or equal to L\")\n",
    "else:\n",
    "    print(\" K is less than or equal to L\")"
   ]
  },
  {
   "cell_type": "markdown",
   "id": "003df963",
   "metadata": {},
   "source": [
    "# elif"
   ]
  },
  {
   "cell_type": "code",
   "execution_count": 19,
   "id": "18126243",
   "metadata": {},
   "outputs": [
    {
     "name": "stdout",
     "output_type": "stream",
     "text": [
      "Ali\n",
      "Your Voter ID is 20202\n"
     ]
    }
   ],
   "source": [
    "p1= str(input())\n",
    "\n",
    "if p1 == \"Ali\":\n",
    "    print(\"Your Voter ID is 20202\")\n",
    "elif p1!=\"Ali\":\n",
    "    print(\"please enter the correct Name\")"
   ]
  },
  {
   "cell_type": "markdown",
   "id": "0736c4b5",
   "metadata": {},
   "source": [
    "# Short Hand if... Else"
   ]
  },
  {
   "cell_type": "code",
   "execution_count": 20,
   "id": "1ae50470",
   "metadata": {},
   "outputs": [
    {
     "name": "stdout",
     "output_type": "stream",
     "text": [
      "y\n"
     ]
    }
   ],
   "source": [
    "x= 2\n",
    "y= 3\n",
    "print(\"X\") if x>y else print(\"y\")"
   ]
  },
  {
   "cell_type": "markdown",
   "id": "4880f307",
   "metadata": {},
   "source": [
    "# And "
   ]
  },
  {
   "cell_type": "code",
   "execution_count": 30,
   "id": "63a60b5b",
   "metadata": {},
   "outputs": [
    {
     "name": "stdout",
     "output_type": "stream",
     "text": [
      "o is greater than d\n"
     ]
    }
   ],
   "source": [
    "d=22\n",
    "p=23\n",
    "o=24\n",
    "if d<p and p<o:\n",
    "    print(\"o is greater than d\")"
   ]
  },
  {
   "cell_type": "markdown",
   "id": "6909aedf",
   "metadata": {},
   "source": [
    "# OR"
   ]
  },
  {
   "cell_type": "code",
   "execution_count": 31,
   "id": "1850d915",
   "metadata": {},
   "outputs": [
    {
     "name": "stdout",
     "output_type": "stream",
     "text": [
      "one of the condition hold\n"
     ]
    }
   ],
   "source": [
    "d=22\n",
    "p=23\n",
    "o=21\n",
    "if d<p or p<o:\n",
    "    print(\"one of the condition hold\")"
   ]
  },
  {
   "cell_type": "markdown",
   "id": "020b7052",
   "metadata": {},
   "source": [
    "# Pass"
   ]
  },
  {
   "cell_type": "markdown",
   "id": "26c72589",
   "metadata": {},
   "source": [
    " - if statements cannot be empty , but if for some mad reasons we want it to show no content we can use pass statment"
   ]
  },
  {
   "cell_type": "code",
   "execution_count": 32,
   "id": "38285264",
   "metadata": {},
   "outputs": [],
   "source": [
    "a= 23\n",
    "b=23\n",
    "if a==b:\n",
    "    pass"
   ]
  },
  {
   "cell_type": "code",
   "execution_count": null,
   "id": "9e7f353d",
   "metadata": {},
   "outputs": [],
   "source": []
  }
 ],
 "metadata": {
  "kernelspec": {
   "display_name": "Python 3",
   "language": "python",
   "name": "python3"
  },
  "language_info": {
   "codemirror_mode": {
    "name": "ipython",
    "version": 3
   },
   "file_extension": ".py",
   "mimetype": "text/x-python",
   "name": "python",
   "nbconvert_exporter": "python",
   "pygments_lexer": "ipython3",
   "version": "3.8.8"
  }
 },
 "nbformat": 4,
 "nbformat_minor": 5
}
