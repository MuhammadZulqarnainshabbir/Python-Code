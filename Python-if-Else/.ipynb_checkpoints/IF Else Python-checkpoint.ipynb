{
 "cells": [
  {
   "cell_type": "code",
   "execution_count": 2,
   "id": "0fbad20e",
   "metadata": {},
   "outputs": [
    {
     "name": "stdout",
     "output_type": "stream",
     "text": [
      "A is not equal to B\n"
     ]
    }
   ],
   "source": [
    "a =10\n",
    "b=20\n",
    "if a==b:\n",
    "    print(\"A equal to B\")\n",
    "else:\n",
    "    print(\"A is not equal to B\")"
   ]
  },
  {
   "cell_type": "code",
   "execution_count": 8,
   "id": "f0abf6a4",
   "metadata": {},
   "outputs": [
    {
     "name": "stdout",
     "output_type": "stream",
     "text": [
      "C is equal to D\n"
     ]
    }
   ],
   "source": [
    "c =20\n",
    "d=20\n",
    "if c!=d:\n",
    "    print(\"C is not equal to B\")\n",
    "else:\n",
    "    print(\"C is equal to D\")"
   ]
  },
  {
   "cell_type": "code",
   "execution_count": 9,
   "id": "eb972dbf",
   "metadata": {},
   "outputs": [
    {
     "name": "stdout",
     "output_type": "stream",
     "text": [
      "E is less than F\n"
     ]
    }
   ],
   "source": [
    "e =10\n",
    "f=20\n",
    "if e<f:\n",
    "    print(\"E is less than F\")\n",
    "else:\n",
    "    print(\"undefined Condition\")"
   ]
  },
  {
   "cell_type": "code",
   "execution_count": 12,
   "id": "b3bbb97d",
   "metadata": {},
   "outputs": [
    {
     "name": "stdout",
     "output_type": "stream",
     "text": [
      "G is less than or equal to H\n"
     ]
    }
   ],
   "source": [
    "G =10\n",
    "H=20\n",
    "if G<=H:\n",
    "    print(\"G is less than or equal to H\")\n",
    "else:\n",
    "    print(\"G is greater than or equal to H\")"
   ]
  },
  {
   "cell_type": "code",
   "execution_count": 14,
   "id": "545405fe",
   "metadata": {},
   "outputs": [
    {
     "name": "stdout",
     "output_type": "stream",
     "text": [
      "I is LESS than or equal to J\n"
     ]
    }
   ],
   "source": [
    "I =10\n",
    "J=20\n",
    "if I>J:\n",
    "    print(\"I is GREATER than or equal to J\")\n",
    "else:\n",
    "    print(\"I is LESS than or equal to J\")"
   ]
  },
  {
   "cell_type": "code",
   "execution_count": 15,
   "id": "ce9a2750",
   "metadata": {},
   "outputs": [
    {
     "name": "stdout",
     "output_type": "stream",
     "text": [
      "K is greater than or equal to L\n"
     ]
    }
   ],
   "source": [
    "K =30\n",
    "L=20\n",
    "if K>=L:\n",
    "    print(\"K is greater than or equal to L\")\n",
    "else:\n",
    "    print(\" K is less than or equal to L\")"
   ]
  },
  {
   "cell_type": "markdown",
   "id": "aac84fd5",
   "metadata": {},
   "source": [
    "# elif"
   ]
  },
  {
   "cell_type": "code",
   "execution_count": 19,
   "id": "617b892a",
   "metadata": {},
   "outputs": [
    {
     "name": "stdout",
     "output_type": "stream",
     "text": [
      "Ali\n",
      "Your Voter ID is 20202\n"
     ]
    }
   ],
   "source": [
    "p1= str(input())\n",
    "\n",
    "if p1 == \"Ali\":\n",
    "    print(\"Your Voter ID is 20202\")\n",
    "elif p1!=\"Ali\":\n",
    "    print(\"please enter the correct Name\")"
   ]
  },
  {
   "cell_type": "markdown",
   "id": "51b1e1b2",
   "metadata": {},
   "source": [
    "# Short Hand if... Else"
   ]
  },
  {
   "cell_type": "code",
   "execution_count": 20,
   "id": "7de52a4f",
   "metadata": {},
   "outputs": [
    {
     "name": "stdout",
     "output_type": "stream",
     "text": [
      "y\n"
     ]
    }
   ],
   "source": [
    "x= 2\n",
    "y= 3\n",
    "print(\"X\") if x>y else print(\"y\")"
   ]
  },
  {
   "cell_type": "markdown",
   "id": "c1340aa6",
   "metadata": {},
   "source": [
    "# And "
   ]
  },
  {
   "cell_type": "code",
   "execution_count": 27,
   "id": "b4e890fc",
   "metadata": {},
   "outputs": [
    {
     "name": "stdout",
     "output_type": "stream",
     "text": [
      "Both conditions are True\n"
     ]
    }
   ],
   "source": [
    "d="
   ]
  },
  {
   "cell_type": "code",
   "execution_count": null,
   "id": "51d74263",
   "metadata": {},
   "outputs": [],
   "source": []
  }
 ],
 "metadata": {
  "kernelspec": {
   "display_name": "Python 3",
   "language": "python",
   "name": "python3"
  },
  "language_info": {
   "codemirror_mode": {
    "name": "ipython",
    "version": 3
   },
   "file_extension": ".py",
   "mimetype": "text/x-python",
   "name": "python",
   "nbconvert_exporter": "python",
   "pygments_lexer": "ipython3",
   "version": "3.8.8"
  }
 },
 "nbformat": 4,
 "nbformat_minor": 5
}
