{
 "cells": [
  {
   "cell_type": "markdown",
   "id": "0c3de8d2",
   "metadata": {},
   "source": [
    "# The year when you celebrate your 100th Birthday finder :Simple"
   ]
  },
  {
   "cell_type": "markdown",
   "id": "66ceef88",
   "metadata": {},
   "source": [
    "### Ask the user to enter The Name and Age"
   ]
  },
  {
   "cell_type": "code",
   "execution_count": null,
   "id": "3898bc16",
   "metadata": {},
   "outputs": [],
   "source": [
    "Name = input(\"Please Enter Your Name : \")\n",
    "Age = int(input (\"Please Enter Your Age:  \"))"
   ]
  },
  {
   "cell_type": "markdown",
   "id": "45ef6b96",
   "metadata": {},
   "source": [
    "### get the current year from datetime library of python and the program will automatically count o"
   ]
  },
  {
   "cell_type": "code",
   "execution_count": 14,
   "id": "d3eadac3",
   "metadata": {},
   "outputs": [
    {
     "name": "stdout",
     "output_type": "stream",
     "text": [
      "The year When you will be 100 year old is  : 2097\n"
     ]
    }
   ],
   "source": [
    "from datetime import date\n",
    "current_year = date.today().year\n",
    "sumAge= 100-Age\n",
    "\n",
    "print(\"The year When you will be 100 year old is  :\", current_year+sumAge)"
   ]
  }
 ],
 "metadata": {
  "kernelspec": {
   "display_name": "Python 3",
   "language": "python",
   "name": "python3"
  },
  "language_info": {
   "codemirror_mode": {
    "name": "ipython",
    "version": 3
   },
   "file_extension": ".py",
   "mimetype": "text/x-python",
   "name": "python",
   "nbconvert_exporter": "python",
   "pygments_lexer": "ipython3",
   "version": "3.8.8"
  }
 },
 "nbformat": 4,
 "nbformat_minor": 5
}
