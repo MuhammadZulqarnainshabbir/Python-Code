{
 "cells": [
  {
   "cell_type": "code",
   "execution_count": 13,
   "id": "3898bc16",
   "metadata": {},
   "outputs": [
    {
     "name": "stdout",
     "output_type": "stream",
     "text": [
      "Please Enter Your Name : Ali\n",
      "Please Enter Your Age:  25\n"
     ]
    }
   ],
   "source": [
    "Name = input(\"Please Enter Your Name : \")\n",
    "Age = int(input (\"Please Enter Your Age:  \"))"
   ]
  },
  {
   "cell_type": "code",
   "execution_count": 14,
   "id": "d3eadac3",
   "metadata": {},
   "outputs": [
    {
     "name": "stdout",
     "output_type": "stream",
     "text": [
      "The year When you will be 100 year old is  : 2097\n"
     ]
    }
   ],
   "source": [
    "from datetime import date\n",
    "current_year = date.today().year\n",
    "sumAge= 100-Age\n",
    "\n",
    "print(\"The year When you will be 100 year old is  :\", current_year+sumAge)"
   ]
  },
  {
   "cell_type": "code",
   "execution_count": null,
   "id": "3d6204b0",
   "metadata": {},
   "outputs": [],
   "source": []
  }
 ],
 "metadata": {
  "kernelspec": {
   "display_name": "Python 3",
   "language": "python",
   "name": "python3"
  },
  "language_info": {
   "codemirror_mode": {
    "name": "ipython",
    "version": 3
   },
   "file_extension": ".py",
   "mimetype": "text/x-python",
   "name": "python",
   "nbconvert_exporter": "python",
   "pygments_lexer": "ipython3",
   "version": "3.8.8"
  }
 },
 "nbformat": 4,
 "nbformat_minor": 5
}
