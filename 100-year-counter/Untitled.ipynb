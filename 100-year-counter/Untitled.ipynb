{
 "cells": [
  {
   "cell_type": "code",
   "execution_count": 19,
   "id": "b27f0134",
   "metadata": {},
   "outputs": [
    {
     "name": "stdout",
     "output_type": "stream",
     "text": [
      "please enter the number22\n",
      "Not Weird\n"
     ]
    }
   ],
   "source": [
    "n= int(input(\"please enter the number\"))\n",
    "if((n%2)!=0 ):\n",
    "    print(\"Weird\")\n",
    "    \n",
    "if (n%2)==0 and 2<=n<=5:\n",
    "    print(\"Not Weird\")\n",
    "    \n",
    "if (n%2)==0 and 6<=n<=20:\n",
    "    print(\"Weird\")\n",
    "\n",
    "if (n%2)==0 and n>20:\n",
    "    print(\"Not Weird\")    \n",
    "        "
   ]
  },
  {
   "cell_type": "code",
   "execution_count": null,
   "id": "1b3e9de1",
   "metadata": {},
   "outputs": [],
   "source": []
  }
 ],
 "metadata": {
  "kernelspec": {
   "display_name": "Python 3",
   "language": "python",
   "name": "python3"
  },
  "language_info": {
   "codemirror_mode": {
    "name": "ipython",
    "version": 3
   },
   "file_extension": ".py",
   "mimetype": "text/x-python",
   "name": "python",
   "nbconvert_exporter": "python",
   "pygments_lexer": "ipython3",
   "version": "3.8.8"
  }
 },
 "nbformat": 4,
 "nbformat_minor": 5
}
