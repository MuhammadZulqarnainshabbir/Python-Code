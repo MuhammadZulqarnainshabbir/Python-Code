{
 "cells": [
  {
   "cell_type": "markdown",
   "id": "e354eacf",
   "metadata": {},
   "source": [
    "# Date Time"
   ]
  },
  {
   "cell_type": "markdown",
   "id": "6a06be27",
   "metadata": {},
   "source": [
    "- DateTime is not a python datatype but we can import datetime module to work with dates as date objects"
   ]
  },
  {
   "cell_type": "code",
   "execution_count": 1,
   "id": "77125d69",
   "metadata": {},
   "outputs": [
    {
     "name": "stdout",
     "output_type": "stream",
     "text": [
      "2022-08-16 15:42:31.014433\n"
     ]
    }
   ],
   "source": [
    "import datetime\n",
    "x = datetime.datetime.now()\n",
    "print(x)"
   ]
  },
  {
   "cell_type": "markdown",
   "id": "afd3cfc9",
   "metadata": {},
   "source": [
    "Question: Return the year and name of weekday"
   ]
  },
  {
   "cell_type": "code",
   "execution_count": 2,
   "id": "68020abf",
   "metadata": {},
   "outputs": [
    {
     "name": "stdout",
     "output_type": "stream",
     "text": [
      "2022\n"
     ]
    }
   ],
   "source": [
    "print(x.year)"
   ]
  },
  {
   "cell_type": "code",
   "execution_count": 4,
   "id": "91443fa2",
   "metadata": {},
   "outputs": [
    {
     "name": "stdout",
     "output_type": "stream",
     "text": [
      "Tuesday\n"
     ]
    }
   ],
   "source": [
    "print(x.strftime(\"%A\"))"
   ]
  },
  {
   "cell_type": "code",
   "execution_count": 5,
   "id": "055b5d56",
   "metadata": {},
   "outputs": [
    {
     "name": "stdout",
     "output_type": "stream",
     "text": [
      "16\n"
     ]
    }
   ],
   "source": [
    "print(x.day)"
   ]
  },
  {
   "cell_type": "markdown",
   "id": "a8657f1f",
   "metadata": {},
   "source": [
    "### Create a datetime object"
   ]
  },
  {
   "cell_type": "code",
   "execution_count": 14,
   "id": "25f3eafc",
   "metadata": {},
   "outputs": [
    {
     "name": "stdout",
     "output_type": "stream",
     "text": [
      "2024-05-12 00:00:00\n"
     ]
    }
   ],
   "source": [
    "y= datetime.datetime(2024,5,12)\n",
    "print(y)"
   ]
  },
  {
   "cell_type": "markdown",
   "id": "0c6f9d1a",
   "metadata": {},
   "source": [
    "Question: print weekday short version"
   ]
  },
  {
   "cell_type": "code",
   "execution_count": 13,
   "id": "46b09a65",
   "metadata": {},
   "outputs": [
    {
     "name": "stdout",
     "output_type": "stream",
     "text": [
      "Sun\n"
     ]
    }
   ],
   "source": [
    "print(y.strftime(\"%a\"))"
   ]
  },
  {
   "cell_type": "markdown",
   "id": "edbdee29",
   "metadata": {},
   "source": [
    "Question: print weekday long version"
   ]
  },
  {
   "cell_type": "code",
   "execution_count": 16,
   "id": "0d14c973",
   "metadata": {},
   "outputs": [
    {
     "name": "stdout",
     "output_type": "stream",
     "text": [
      "Sunday\n"
     ]
    }
   ],
   "source": [
    "print(y.strftime(\"%A\"))"
   ]
  },
  {
   "cell_type": "markdown",
   "id": "7bbc42dd",
   "metadata": {},
   "source": [
    "Question: week day as number 0-6, 0 is sunday"
   ]
  },
  {
   "cell_type": "code",
   "execution_count": 17,
   "id": "9ff213fb",
   "metadata": {},
   "outputs": [
    {
     "name": "stdout",
     "output_type": "stream",
     "text": [
      "0\n"
     ]
    }
   ],
   "source": [
    "print(y.strftime(\"%w\"))"
   ]
  },
  {
   "cell_type": "markdown",
   "id": "b8ad676c",
   "metadata": {},
   "source": [
    "Question: print Day of month 0-31 "
   ]
  },
  {
   "cell_type": "code",
   "execution_count": 18,
   "id": "83cb5892",
   "metadata": {},
   "outputs": [
    {
     "name": "stdout",
     "output_type": "stream",
     "text": [
      "12\n"
     ]
    }
   ],
   "source": [
    "print(y.strftime(\"%d\"))"
   ]
  },
  {
   "cell_type": "markdown",
   "id": "13d0167e",
   "metadata": {},
   "source": [
    "print the month name short version"
   ]
  },
  {
   "cell_type": "code",
   "execution_count": 30,
   "id": "a464338c",
   "metadata": {},
   "outputs": [
    {
     "name": "stdout",
     "output_type": "stream",
     "text": [
      "May\n"
     ]
    }
   ],
   "source": [
    "print(y.strftime(\"%b\"))"
   ]
  },
  {
   "cell_type": "markdown",
   "id": "ad54e8a7",
   "metadata": {},
   "source": [
    "Print Short form name of month"
   ]
  },
  {
   "cell_type": "code",
   "execution_count": 31,
   "id": "4c6c0884",
   "metadata": {},
   "outputs": [
    {
     "name": "stdout",
     "output_type": "stream",
     "text": [
      "May\n"
     ]
    }
   ],
   "source": [
    "print(y.strftime(\"%B\"))"
   ]
  },
  {
   "cell_type": "markdown",
   "id": "7297bcf8",
   "metadata": {},
   "source": [
    "print full form of Month"
   ]
  },
  {
   "cell_type": "code",
   "execution_count": 21,
   "id": "da270468",
   "metadata": {},
   "outputs": [
    {
     "name": "stdout",
     "output_type": "stream",
     "text": [
      "05\n"
     ]
    }
   ],
   "source": [
    "print(y.strftime(\"%m\"))"
   ]
  },
  {
   "cell_type": "code",
   "execution_count": 22,
   "id": "64e7a606",
   "metadata": {},
   "outputs": [
    {
     "name": "stdout",
     "output_type": "stream",
     "text": [
      "24\n"
     ]
    }
   ],
   "source": [
    "print(y.strftime(\"%y\"))"
   ]
  },
  {
   "cell_type": "code",
   "execution_count": 23,
   "id": "0c8c8880",
   "metadata": {},
   "outputs": [
    {
     "name": "stdout",
     "output_type": "stream",
     "text": [
      "2024\n"
     ]
    }
   ],
   "source": [
    "print(y.strftime(\"%Y\"))"
   ]
  },
  {
   "cell_type": "code",
   "execution_count": 24,
   "id": "76a21632",
   "metadata": {},
   "outputs": [
    {
     "name": "stdout",
     "output_type": "stream",
     "text": [
      "00\n"
     ]
    }
   ],
   "source": [
    "print(y.strftime(\"%H\"))"
   ]
  },
  {
   "cell_type": "code",
   "execution_count": 26,
   "id": "6bfbb0f6",
   "metadata": {},
   "outputs": [
    {
     "name": "stdout",
     "output_type": "stream",
     "text": [
      "12\n"
     ]
    }
   ],
   "source": [
    "print(y.strftime(\"%I\"))"
   ]
  },
  {
   "cell_type": "code",
   "execution_count": 27,
   "id": "29ff677c",
   "metadata": {},
   "outputs": [
    {
     "name": "stdout",
     "output_type": "stream",
     "text": [
      "AM\n"
     ]
    }
   ],
   "source": [
    "print(y.strftime(\"%p\"))"
   ]
  },
  {
   "cell_type": "code",
   "execution_count": 28,
   "id": "6cd56715",
   "metadata": {},
   "outputs": [
    {
     "name": "stdout",
     "output_type": "stream",
     "text": [
      "00\n"
     ]
    }
   ],
   "source": [
    "print(y.strftime(\"%M\"))"
   ]
  },
  {
   "cell_type": "code",
   "execution_count": 29,
   "id": "6366a158",
   "metadata": {},
   "outputs": [
    {
     "name": "stdout",
     "output_type": "stream",
     "text": [
      "00\n"
     ]
    }
   ],
   "source": [
    "print(y.strftime(\"%S\"))"
   ]
  },
  {
   "cell_type": "code",
   "execution_count": null,
   "id": "63a9f83c",
   "metadata": {},
   "outputs": [],
   "source": []
  }
 ],
 "metadata": {
  "kernelspec": {
   "display_name": "Python 3",
   "language": "python",
   "name": "python3"
  },
  "language_info": {
   "codemirror_mode": {
    "name": "ipython",
    "version": 3
   },
   "file_extension": ".py",
   "mimetype": "text/x-python",
   "name": "python",
   "nbconvert_exporter": "python",
   "pygments_lexer": "ipython3",
   "version": "3.8.8"
  }
 },
 "nbformat": 4,
 "nbformat_minor": 5
}
