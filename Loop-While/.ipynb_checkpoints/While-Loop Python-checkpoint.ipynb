{
 "cells": [
  {
   "cell_type": "markdown",
   "id": "df8da02f",
   "metadata": {},
   "source": [
    "#### Print i as long as i is less than 6"
   ]
  },
  {
   "cell_type": "code",
   "execution_count": 1,
   "id": "607dc4a0",
   "metadata": {},
   "outputs": [
    {
     "name": "stdout",
     "output_type": "stream",
     "text": [
      "1\n",
      "2\n",
      "3\n",
      "4\n",
      "5\n"
     ]
    }
   ],
   "source": [
    "i = 1\n",
    "while i<6 :\n",
    "    print(i)\n",
    "    i=i+1"
   ]
  },
  {
   "cell_type": "markdown",
   "id": "eaed3ad2",
   "metadata": {},
   "source": [
    " - with **break** statement we can stop the while loop even if the condition is true"
   ]
  },
  {
   "cell_type": "code",
   "execution_count": 6,
   "id": "85e36d75",
   "metadata": {},
   "outputs": [
    {
     "name": "stdout",
     "output_type": "stream",
     "text": [
      "1\n"
     ]
    }
   ],
   "source": [
    "i = 1\n",
    "while i<6 :\n",
    "    print(i)\n",
    "    break\n",
    "    i=i+1\n",
    "    "
   ]
  },
  {
   "cell_type": "markdown",
   "id": "63eef0a3",
   "metadata": {},
   "source": [
    "- as we can the loop stops after the first iteration even the condition is true"
   ]
  },
  {
   "cell_type": "markdown",
   "id": "bbbe9585",
   "metadata": {},
   "source": [
    "- 1: with the **continue** we can stop at the current iteration and continue with next"
   ]
  },
  {
   "cell_type": "code",
   "execution_count": null,
   "id": "8a9b59c7",
   "metadata": {},
   "outputs": [],
   "source": [
    "i= 0\n",
    "while i<6:\n",
    "    \n",
    "    i =i+1\n",
    "    print(i)\n",
    "    "
   ]
  },
  {
   "cell_type": "markdown",
   "id": "64a8d6b2",
   "metadata": {},
   "source": [
    "### else"
   ]
  },
  {
   "cell_type": "code",
   "execution_count": null,
   "id": "e24951f1",
   "metadata": {},
   "outputs": [],
   "source": [
    "i = 1\n",
    "while i < 6:\n",
    "  print(i)\n",
    "  i += 1\n",
    "else:\n",
    "  print(\"i is no longer less than 6\")"
   ]
  }
 ],
 "metadata": {
  "kernelspec": {
   "display_name": "Python 3",
   "language": "python",
   "name": "python3"
  },
  "language_info": {
   "codemirror_mode": {
    "name": "ipython",
    "version": 3
   },
   "file_extension": ".py",
   "mimetype": "text/x-python",
   "name": "python",
   "nbconvert_exporter": "python",
   "pygments_lexer": "ipython3",
   "version": "3.8.8"
  }
 },
 "nbformat": 4,
 "nbformat_minor": 5
}
