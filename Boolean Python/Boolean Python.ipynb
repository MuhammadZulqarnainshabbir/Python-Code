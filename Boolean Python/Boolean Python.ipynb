{
 "cells": [
  {
   "cell_type": "code",
   "execution_count": null,
   "id": "776c20ca",
   "metadata": {},
   "outputs": [],
   "source": [
    "# Boolean function are often used when we want to know wheater an express is true or false"
   ]
  },
  {
   "cell_type": "code",
   "execution_count": 2,
   "id": "da2d0ef9",
   "metadata": {},
   "outputs": [
    {
     "name": "stdout",
     "output_type": "stream",
     "text": [
      "x is greater than x\n"
     ]
    }
   ],
   "source": [
    "x=10\n",
    "y=20\n",
    "if x>y:\n",
    "    print(\"x is greater than y\")\n",
    "else:\n",
    "    print(\"Y is greater than x\")"
   ]
  },
  {
   "cell_type": "code",
   "execution_count": 3,
   "id": "d321ff9d",
   "metadata": {},
   "outputs": [
    {
     "name": "stdout",
     "output_type": "stream",
     "text": [
      "True\n",
      "True\n",
      "False\n"
     ]
    }
   ],
   "source": [
    "print(10>9) #10 is greater than 9 so the condition is true\n",
    "print(10==10) #10 is equal to 10 that way the condition is true\n",
    "print(10<9) # 10 is not less than 9 so thats way the conditon is false"
   ]
  },
  {
   "cell_type": "code",
   "execution_count": 4,
   "id": "9322eeed",
   "metadata": {},
   "outputs": [],
   "source": [
    "# Most values are evaluated as true except the empty values"
   ]
  },
  {
   "cell_type": "code",
   "execution_count": 6,
   "id": "6ff9260a",
   "metadata": {},
   "outputs": [
    {
     "name": "stdout",
     "output_type": "stream",
     "text": [
      "False\n",
      "False\n",
      "False\n",
      "False\n",
      "False\n",
      "False\n"
     ]
    }
   ],
   "source": [
    "print(bool())\n",
    "print(bool([]))\n",
    "print(bool(0))\n",
    "print(bool(None))\n",
    "print(bool({}))\n",
    "print(bool(False))\n"
   ]
  }
 ],
 "metadata": {
  "kernelspec": {
   "display_name": "Python 3",
   "language": "python",
   "name": "python3"
  },
  "language_info": {
   "codemirror_mode": {
    "name": "ipython",
    "version": 3
   },
   "file_extension": ".py",
   "mimetype": "text/x-python",
   "name": "python",
   "nbconvert_exporter": "python",
   "pygments_lexer": "ipython3",
   "version": "3.8.8"
  }
 },
 "nbformat": 4,
 "nbformat_minor": 5
}
