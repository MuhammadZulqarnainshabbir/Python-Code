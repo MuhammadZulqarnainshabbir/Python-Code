{
 "cells": [
  {
   "cell_type": "code",
   "execution_count": null,
   "id": "582ff542",
   "metadata": {},
   "outputs": [],
   "source": [
    "# What are operators in Pythons \n",
    "\n",
    "# Operator are used to perform differnt operation on varibales and values e.g sum , subtract , modulus"
   ]
  },
  {
   "cell_type": "code",
   "execution_count": 1,
   "id": "f0f01289",
   "metadata": {},
   "outputs": [],
   "source": [
    "# Airthmatics Operation"
   ]
  },
  {
   "cell_type": "code",
   "execution_count": 3,
   "id": "234bb8e6",
   "metadata": {},
   "outputs": [
    {
     "name": "stdout",
     "output_type": "stream",
     "text": [
      "50\n"
     ]
    }
   ],
   "source": [
    "# Addition operation\n",
    "\n",
    "x=20\n",
    "y=30\n",
    "print(x+y)"
   ]
  },
  {
   "cell_type": "code",
   "execution_count": 4,
   "id": "61571508",
   "metadata": {},
   "outputs": [
    {
     "name": "stdout",
     "output_type": "stream",
     "text": [
      "10\n"
     ]
    }
   ],
   "source": [
    "# Subtraction Operation\n",
    "x=20\n",
    "y=30\n",
    "print(y-x)"
   ]
  },
  {
   "cell_type": "code",
   "execution_count": 5,
   "id": "b6342915",
   "metadata": {},
   "outputs": [
    {
     "name": "stdout",
     "output_type": "stream",
     "text": [
      "0.6666666666666666\n"
     ]
    }
   ],
   "source": [
    "# Division operation\n",
    "x=20\n",
    "y=30\n",
    "print(x/y)"
   ]
  },
  {
   "cell_type": "code",
   "execution_count": 6,
   "id": "b6574bc8",
   "metadata": {},
   "outputs": [
    {
     "name": "stdout",
     "output_type": "stream",
     "text": [
      "600\n"
     ]
    }
   ],
   "source": [
    "# Multiplication operations\n",
    "x=20\n",
    "y=30\n",
    "print(x*y)"
   ]
  },
  {
   "cell_type": "code",
   "execution_count": 7,
   "id": "3873b1ab",
   "metadata": {},
   "outputs": [
    {
     "name": "stdout",
     "output_type": "stream",
     "text": [
      "1073741824000000000000000000000000000000\n"
     ]
    }
   ],
   "source": [
    "# exponential Function\n",
    "x=20\n",
    "y=30\n",
    "print(x**y)"
   ]
  },
  {
   "cell_type": "code",
   "execution_count": 8,
   "id": "9e16a835",
   "metadata": {},
   "outputs": [
    {
     "name": "stdout",
     "output_type": "stream",
     "text": [
      "0\n"
     ]
    }
   ],
   "source": [
    "#flooring function\n",
    "x=20\n",
    "y=30\n",
    "print(x//y)"
   ]
  },
  {
   "cell_type": "code",
   "execution_count": 9,
   "id": "d319bc5b",
   "metadata": {},
   "outputs": [
    {
     "name": "stdout",
     "output_type": "stream",
     "text": [
      "20\n"
     ]
    }
   ],
   "source": [
    "#Modulus Function\n",
    "x=20\n",
    "y=30\n",
    "print(x%y)"
   ]
  },
  {
   "cell_type": "code",
   "execution_count": null,
   "id": "5dfc748f",
   "metadata": {},
   "outputs": [],
   "source": []
  }
 ],
 "metadata": {
  "kernelspec": {
   "display_name": "Python 3",
   "language": "python",
   "name": "python3"
  },
  "language_info": {
   "codemirror_mode": {
    "name": "ipython",
    "version": 3
   },
   "file_extension": ".py",
   "mimetype": "text/x-python",
   "name": "python",
   "nbconvert_exporter": "python",
   "pygments_lexer": "ipython3",
   "version": "3.8.8"
  }
 },
 "nbformat": 4,
 "nbformat_minor": 5
}
