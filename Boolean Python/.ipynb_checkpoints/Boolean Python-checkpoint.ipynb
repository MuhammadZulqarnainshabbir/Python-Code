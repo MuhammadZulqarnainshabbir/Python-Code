{
 "cells": [
  {
   "cell_type": "code",
   "execution_count": null,
   "id": "e7a8ea41",
   "metadata": {},
   "outputs": [],
   "source": [
    "# Boolean function are often used when we want to know wheater an express is true or false"
   ]
  },
  {
   "cell_type": "code",
   "execution_count": 2,
   "id": "a0352f80",
   "metadata": {},
   "outputs": [
    {
     "name": "stdout",
     "output_type": "stream",
     "text": [
      "x is greater than x\n"
     ]
    }
   ],
   "source": [
    "x=10\n",
    "y=20\n",
    "if x>y:\n",
    "    print(\"x is greater than y\")\n",
    "else:\n",
    "    print(\"Y is greater than x\")"
   ]
  },
  {
   "cell_type": "code",
   "execution_count": 7,
   "id": "2f529348",
   "metadata": {},
   "outputs": [
    {
     "name": "stdout",
     "output_type": "stream",
     "text": [
      "True\n",
      "True\n",
      "False\n"
     ]
    }
   ],
   "source": [
    "print(10>9) #10 is greater than 9 so the condition is true\n",
    "print(10==10) #10 is equal to 10 that way the condition is true\n",
    "print(10<9) # 10 is not less than 9 so thats way the conditon is false"
   ]
  },
  {
   "cell_type": "code",
   "execution_count": 4,
   "id": "23fc034a",
   "metadata": {},
   "outputs": [],
   "source": [
    "# Most values are evaluated as true except the empty values"
   ]
  },
  {
   "cell_type": "code",
   "execution_count": 6,
   "id": "96fef563",
   "metadata": {},
   "outputs": [
    {
     "name": "stdout",
     "output_type": "stream",
     "text": [
      "False\n",
      "False\n",
      "False\n",
      "False\n",
      "False\n",
      "False\n"
     ]
    }
   ],
   "source": [
    "print(bool())\n",
    "print(bool([]))\n",
    "print(bool(0))\n",
    "print(bool(None))\n",
    "print(bool({}))\n",
    "print(bool(False))\n"
   ]
  },
  {
   "cell_type": "code",
   "execution_count": 12,
   "id": "15878aad",
   "metadata": {},
   "outputs": [
    {
     "name": "stdout",
     "output_type": "stream",
     "text": [
      "Yes\n",
      "No\n"
     ]
    }
   ],
   "source": [
    "#wirte a boolean function \n",
    "\n",
    "def myfunction():\n",
    " return True\n",
    "\n",
    "if myfunction():\n",
    "    print(\"Yes\")\n",
    "else :\n",
    "    print(\"No\")\n",
    "    \n",
    "###################\n",
    "def yofunction():\n",
    " return False\n",
    "\n",
    "if yofunction():\n",
    "    print(\"Yes\")\n",
    "else :\n",
    "    print(\"No\")"
   ]
  },
  {
   "cell_type": "code",
   "execution_count": 10,
   "id": "23e8a23a",
   "metadata": {},
   "outputs": [
    {
     "name": "stdout",
     "output_type": "stream",
     "text": [
      "True\n",
      "True\n",
      "False\n",
      "True\n"
     ]
    }
   ],
   "source": [
    "# isinstance is Python's built in function that can  be used to check wheater the type of function is true or false\n",
    "\n",
    "x=200\n",
    "y=2.00\n",
    "z=1j\n",
    "print(isinstance(x,int))\n",
    "print(isinstance(y,float))\n",
    "print(isinstance(z,str))\n",
    "print(isinstance(z,complex))"
   ]
  },
  {
   "cell_type": "code",
   "execution_count": null,
   "id": "4973cb0c",
   "metadata": {},
   "outputs": [],
   "source": []
  }
 ],
 "metadata": {
  "kernelspec": {
   "display_name": "Python 3",
   "language": "python",
   "name": "python3"
  },
  "language_info": {
   "codemirror_mode": {
    "name": "ipython",
    "version": 3
   },
   "file_extension": ".py",
   "mimetype": "text/x-python",
   "name": "python",
   "nbconvert_exporter": "python",
   "pygments_lexer": "ipython3",
   "version": "3.8.8"
  }
 },
 "nbformat": 4,
 "nbformat_minor": 5
}
