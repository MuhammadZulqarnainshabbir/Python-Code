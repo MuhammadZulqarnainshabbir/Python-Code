{
 "cells": [
  {
   "cell_type": "markdown",
   "id": "a5e19375",
   "metadata": {},
   "source": [
    "- For loop is used for iterating over a sequence that is either list, tuple or dictionary, a set or string"
   ]
  },
  {
   "cell_type": "markdown",
   "id": "a8105a53",
   "metadata": {},
   "source": [
    "**task** : Print each fruit in fruit list"
   ]
  },
  {
   "cell_type": "code",
   "execution_count": 2,
   "id": "3fc6ccf9",
   "metadata": {},
   "outputs": [
    {
     "name": "stdout",
     "output_type": "stream",
     "text": [
      "Apple\n",
      "Mango\n",
      "Cherry\n"
     ]
    }
   ],
   "source": [
    "fruitlist = [\"Apple\", \"Mango\", \"Cherry\"]\n",
    "for x in fruitlist:\n",
    "    print(x)"
   ]
  },
  {
   "cell_type": "markdown",
   "id": "90e54732",
   "metadata": {},
   "source": [
    "**task** :loop through the letters of the word banana"
   ]
  },
  {
   "cell_type": "code",
   "execution_count": 3,
   "id": "be845c21",
   "metadata": {},
   "outputs": [
    {
     "name": "stdout",
     "output_type": "stream",
     "text": [
      "B\n",
      "a\n",
      "n\n",
      "a\n",
      "n\n",
      "a\n"
     ]
    }
   ],
   "source": [
    "for x in \"Banana\":\n",
    "    print(x)"
   ]
  },
  {
   "cell_type": "markdown",
   "id": "42a6ce7d",
   "metadata": {},
   "source": [
    "- **break** statement will stop the loop before it has looped through all the items"
   ]
  },
  {
   "cell_type": "code",
   "execution_count": 5,
   "id": "fed8814c",
   "metadata": {},
   "outputs": [
    {
     "name": "stdout",
     "output_type": "stream",
     "text": [
      "Apple\n",
      "Chery\n"
     ]
    }
   ],
   "source": [
    "fruits=[\"Apple\",\"Chery\",\"Mango\"]\n",
    "for x in fruits:\n",
    "    print(x)\n",
    "    if x== \"Chery\":\n",
    "        break"
   ]
  },
  {
   "cell_type": "markdown",
   "id": "217c7b5b",
   "metadata": {},
   "source": [
    "- **range()**"
   ]
  },
  {
   "cell_type": "markdown",
   "id": "b5546f05",
   "metadata": {},
   "source": [
    "- The range() function returns a sequence of number starting from 0 by default and increments by 1 by default and ends at specific number"
   ]
  },
  {
   "cell_type": "code",
   "execution_count": 9,
   "id": "4cffca5c",
   "metadata": {},
   "outputs": [
    {
     "name": "stdout",
     "output_type": "stream",
     "text": [
      "0\n",
      "1\n",
      "2\n",
      "3\n",
      "4\n",
      "5\n"
     ]
    }
   ],
   "source": [
    "for x in range(6):\n",
    " print(x)"
   ]
  },
  {
   "cell_type": "markdown",
   "id": "726ebb39",
   "metadata": {},
   "source": [
    "**custom range**"
   ]
  },
  {
   "cell_type": "code",
   "execution_count": 10,
   "id": "eadcbc5d",
   "metadata": {},
   "outputs": [
    {
     "name": "stdout",
     "output_type": "stream",
     "text": [
      "2\n",
      "3\n",
      "4\n",
      "5\n"
     ]
    }
   ],
   "source": [
    "for x in range(2,6):\n",
    "    print(x)"
   ]
  },
  {
   "cell_type": "markdown",
   "id": "f33e6fc2",
   "metadata": {},
   "source": [
    "**custom range and custom incriment**"
   ]
  },
  {
   "cell_type": "code",
   "execution_count": 11,
   "id": "39aa3e71",
   "metadata": {},
   "outputs": [
    {
     "name": "stdout",
     "output_type": "stream",
     "text": [
      "2\n",
      "4\n",
      "6\n",
      "8\n"
     ]
    }
   ],
   "source": [
    "for x in range(2,10,2):\n",
    "    print(x)"
   ]
  },
  {
   "cell_type": "markdown",
   "id": "cef203db",
   "metadata": {},
   "source": [
    "**Nested For Loop**"
   ]
  },
  {
   "cell_type": "code",
   "execution_count": 12,
   "id": "ca634b3c",
   "metadata": {},
   "outputs": [
    {
     "name": "stdout",
     "output_type": "stream",
     "text": [
      "red Apple\n",
      "red eggplant\n",
      "red pineaple\n",
      "Blue Apple\n",
      "Blue eggplant\n",
      "Blue pineaple\n",
      "Green Apple\n",
      "Green eggplant\n",
      "Green pineaple\n"
     ]
    }
   ],
   "source": [
    "adj = [\"red\",\"Blue\",\"Green\"]\n",
    "fruits =[\"Apple\",\"eggplant\",\"pineaple\"]\n",
    "for x in adj:\n",
    "    for y in fruits:\n",
    "        print(x,y)"
   ]
  },
  {
   "cell_type": "code",
   "execution_count": null,
   "id": "ee71a1d0",
   "metadata": {},
   "outputs": [],
   "source": []
  }
 ],
 "metadata": {
  "kernelspec": {
   "display_name": "Python 3",
   "language": "python",
   "name": "python3"
  },
  "language_info": {
   "codemirror_mode": {
    "name": "ipython",
    "version": 3
   },
   "file_extension": ".py",
   "mimetype": "text/x-python",
   "name": "python",
   "nbconvert_exporter": "python",
   "pygments_lexer": "ipython3",
   "version": "3.8.8"
  }
 },
 "nbformat": 4,
 "nbformat_minor": 5
}
