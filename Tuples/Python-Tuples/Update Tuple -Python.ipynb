{
 "cells": [
  {
   "cell_type": "markdown",
   "id": "ccb47cde",
   "metadata": {},
   "source": [
    "# Update a Tuple in Pyhton"
   ]
  },
  {
   "cell_type": "markdown",
   "id": "aff0a66c",
   "metadata": {},
   "source": [
    "- Tuples are **Unchangeable and immutable**\n",
    "\n",
    "- But there is a way\n",
    "\n",
    "- We can convert the Tuple to List and Make changes and convert it back to a Tuple"
   ]
  },
  {
   "cell_type": "code",
   "execution_count": 2,
   "id": "ab6b9cfa",
   "metadata": {},
   "outputs": [
    {
     "name": "stdout",
     "output_type": "stream",
     "text": [
      "[1, 2, 3, 4, 5, 6]\n"
     ]
    }
   ],
   "source": [
    "x=tuple((1,2,3,4,5))\n",
    "y=list(x)\n",
    "y.append(6)\n",
    "print(y)"
   ]
  },
  {
   "cell_type": "markdown",
   "id": "97c29c73",
   "metadata": {},
   "source": [
    "### we can add two tuple\n",
    "\n",
    "- it is basically concatenating two Tuples"
   ]
  },
  {
   "cell_type": "code",
   "execution_count": 4,
   "id": "9523dbb7",
   "metadata": {},
   "outputs": [
    {
     "name": "stdout",
     "output_type": "stream",
     "text": [
      "(1, 2, 3, 4, 3)\n"
     ]
    }
   ],
   "source": [
    "thisT=(1,2,3,4)\n",
    "yt=(3,)\n",
    "thisT+=yt\n",
    "print(thisT)"
   ]
  },
  {
   "cell_type": "markdown",
   "id": "d11bff6c",
   "metadata": {},
   "source": [
    "### Delete a Tuple\n",
    "\n",
    "- del keyword is use to delete a tuple completely"
   ]
  },
  {
   "cell_type": "code",
   "execution_count": 5,
   "id": "f294f6ea",
   "metadata": {},
   "outputs": [
    {
     "name": "stdout",
     "output_type": "stream",
     "text": [
      "('Apple', 'MS', 'FB')\n"
     ]
    },
    {
     "ename": "NameError",
     "evalue": "name 'iTuple' is not defined",
     "output_type": "error",
     "traceback": [
      "\u001b[1;31m---------------------------------------------------------------------------\u001b[0m",
      "\u001b[1;31mNameError\u001b[0m                                 Traceback (most recent call last)",
      "\u001b[1;32m<ipython-input-5-e3a65c592eaa>\u001b[0m in \u001b[0;36m<module>\u001b[1;34m\u001b[0m\n\u001b[0;32m      2\u001b[0m \u001b[0mprint\u001b[0m\u001b[1;33m(\u001b[0m\u001b[0miTuple\u001b[0m\u001b[1;33m)\u001b[0m\u001b[1;33m\u001b[0m\u001b[1;33m\u001b[0m\u001b[0m\n\u001b[0;32m      3\u001b[0m \u001b[1;32mdel\u001b[0m \u001b[0miTuple\u001b[0m\u001b[1;33m\u001b[0m\u001b[1;33m\u001b[0m\u001b[0m\n\u001b[1;32m----> 4\u001b[1;33m \u001b[0mprint\u001b[0m\u001b[1;33m(\u001b[0m\u001b[0miTuple\u001b[0m\u001b[1;33m)\u001b[0m\u001b[1;33m\u001b[0m\u001b[1;33m\u001b[0m\u001b[0m\n\u001b[0m",
      "\u001b[1;31mNameError\u001b[0m: name 'iTuple' is not defined"
     ]
    }
   ],
   "source": [
    "iTuple = ('Apple',\"MS\",\"FB\")\n",
    "print(iTuple) #First It will print the output\n",
    "del iTuple\n",
    "print(iTuple) # After del It will say not iTuple is defined"
   ]
  }
 ],
 "metadata": {
  "kernelspec": {
   "display_name": "Python 3",
   "language": "python",
   "name": "python3"
  },
  "language_info": {
   "codemirror_mode": {
    "name": "ipython",
    "version": 3
   },
   "file_extension": ".py",
   "mimetype": "text/x-python",
   "name": "python",
   "nbconvert_exporter": "python",
   "pygments_lexer": "ipython3",
   "version": "3.8.8"
  }
 },
 "nbformat": 4,
 "nbformat_minor": 5
}
