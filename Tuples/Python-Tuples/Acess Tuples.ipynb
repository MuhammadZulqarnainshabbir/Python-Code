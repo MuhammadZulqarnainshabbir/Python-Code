{
 "cells": [
  {
   "cell_type": "markdown",
   "id": "002e48b4",
   "metadata": {},
   "source": [
    "# Accessing Tuples In Python\n",
    "\n",
    "-  we can access elements in a Tuple using the index number in square Brackets"
   ]
  },
  {
   "cell_type": "code",
   "execution_count": 1,
   "id": "766455d4",
   "metadata": {},
   "outputs": [
    {
     "name": "stdout",
     "output_type": "stream",
     "text": [
      "3\n"
     ]
    }
   ],
   "source": [
    "myTuple = (1,2,3,4,5)\n",
    "print(myTuple[2])\n",
    "\n",
    "\n",
    "# the output will be 3, the element at the 2nd element tuple "
   ]
  },
  {
   "cell_type": "markdown",
   "id": "e420310d",
   "metadata": {},
   "source": [
    "### We can also use the Negative Indexing here \n",
    "- [-1] like this can be use to access the last element on the Tuple"
   ]
  },
  {
   "cell_type": "code",
   "execution_count": 2,
   "id": "f5120912",
   "metadata": {},
   "outputs": [
    {
     "name": "stdout",
     "output_type": "stream",
     "text": [
      "5\n"
     ]
    }
   ],
   "source": [
    "myTuple = (1,2,3,4,5)\n",
    "print(myTuple[-1])\n",
    "\n",
    "# the output will be 5,beacuse we have 5 at [-1] index "
   ]
  },
  {
   "cell_type": "markdown",
   "id": "38330097",
   "metadata": {},
   "source": [
    "###  We can give range of index of element to access the multiple items of Tuples\n",
    "\n",
    "- if give the range of 1-3, element at the index of 1,2 will be output but not the 3rd one beacuse the python range exclude it"
   ]
  },
  {
   "cell_type": "code",
   "execution_count": 5,
   "id": "c7b47701",
   "metadata": {},
   "outputs": [
    {
     "name": "stdout",
     "output_type": "stream",
     "text": [
      "('B', 'C')\n"
     ]
    }
   ],
   "source": [
    "myTuple =('A','B','C','D')\n",
    "print(myTuple[1:3])"
   ]
  },
  {
   "cell_type": "markdown",
   "id": "cb323be4",
   "metadata": {},
   "source": [
    "### Check if certian item exist in a Touple \n",
    "\n",
    "- we can **in**  keyword to check if an element exist in a Tuple"
   ]
  },
  {
   "cell_type": "code",
   "execution_count": null,
   "id": "bae6a253",
   "metadata": {},
   "outputs": [],
   "source": []
  }
 ],
 "metadata": {
  "kernelspec": {
   "display_name": "Python 3",
   "language": "python",
   "name": "python3"
  },
  "language_info": {
   "codemirror_mode": {
    "name": "ipython",
    "version": 3
   },
   "file_extension": ".py",
   "mimetype": "text/x-python",
   "name": "python",
   "nbconvert_exporter": "python",
   "pygments_lexer": "ipython3",
   "version": "3.8.8"
  }
 },
 "nbformat": 4,
 "nbformat_minor": 5
}
