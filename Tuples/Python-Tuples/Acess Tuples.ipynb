{
 "cells": [
  {
   "cell_type": "markdown",
   "id": "a8d368c0",
   "metadata": {},
   "source": [
    "# Accessing Tuples In Python\n",
    "\n",
    "-  we can access elements in a Tuple using the index number in square Brackets"
   ]
  },
  {
   "cell_type": "code",
   "execution_count": 1,
   "id": "467539cd",
   "metadata": {},
   "outputs": [
    {
     "name": "stdout",
     "output_type": "stream",
     "text": [
      "3\n"
     ]
    }
   ],
   "source": [
    "myTuple = (1,2,3,4,5)\n",
    "print(myTuple[2])\n",
    "\n",
    "\n",
    "# the output will be 3, the element at the 2nd element tuple "
   ]
  },
  {
   "cell_type": "markdown",
   "id": "2a249932",
   "metadata": {},
   "source": [
    "### We can also use the Negative Indexing here \n",
    "- [-1] like this can be use to access the last element on the Tuple"
   ]
  },
  {
   "cell_type": "code",
   "execution_count": 2,
   "id": "c1ef3ff9",
   "metadata": {},
   "outputs": [
    {
     "name": "stdout",
     "output_type": "stream",
     "text": [
      "5\n"
     ]
    }
   ],
   "source": [
    "myTuple = (1,2,3,4,5)\n",
    "print(myTuple[-1])\n",
    "\n",
    "# the output will be 5,beacuse we have 5 at [-1] index "
   ]
  },
  {
   "cell_type": "markdown",
   "id": "c6bbb0ca",
   "metadata": {},
   "source": [
    "###  We can give range of index of element to access the multiple items of Tuples\n",
    "\n",
    "- if give the range of 1-3, element at the index of 1,2 will be output but not the 3rd one beacuse the python range exclude it"
   ]
  },
  {
   "cell_type": "code",
   "execution_count": 5,
   "id": "524839ea",
   "metadata": {},
   "outputs": [
    {
     "name": "stdout",
     "output_type": "stream",
     "text": [
      "('B', 'C')\n"
     ]
    }
   ],
   "source": [
    "myTuple =('A','B','C','D')\n",
    "print(myTuple[1:3])"
   ]
  },
  {
   "cell_type": "markdown",
   "id": "7fbbb616",
   "metadata": {},
   "source": [
    "### Check if certian item exist in a Touple \n",
    "\n",
    "- we can **in**  keyword to check if an element exist in a Tuple"
   ]
  },
  {
   "cell_type": "code",
   "execution_count": 6,
   "id": "e04445e3",
   "metadata": {},
   "outputs": [
    {
     "name": "stdout",
     "output_type": "stream",
     "text": [
      "Yes the apple exist in this Tuple\n"
     ]
    }
   ],
   "source": [
    "thistuple = (\"apple\", \"banana\", \"cherry\")\n",
    "if \"apple\" in thistuple:\n",
    "    print(\"Yes the apple exist in this Tuple\")"
   ]
  }
 ],
 "metadata": {
  "kernelspec": {
   "display_name": "Python 3",
   "language": "python",
   "name": "python3"
  },
  "language_info": {
   "codemirror_mode": {
    "name": "ipython",
    "version": 3
   },
   "file_extension": ".py",
   "mimetype": "text/x-python",
   "name": "python",
   "nbconvert_exporter": "python",
   "pygments_lexer": "ipython3",
   "version": "3.8.8"
  }
 },
 "nbformat": 4,
 "nbformat_minor": 5
}
