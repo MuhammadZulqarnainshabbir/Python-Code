{
 "cells": [
  {
   "cell_type": "markdown",
   "id": "96b52a6b",
   "metadata": {},
   "source": [
    "# Loops In Tuples In Python\n",
    "\n",
    "- **for loops**"
   ]
  },
  {
   "cell_type": "code",
   "execution_count": 2,
   "id": "772d2217",
   "metadata": {},
   "outputs": [
    {
     "name": "stdout",
     "output_type": "stream",
     "text": [
      "apple\n",
      "banana\n",
      "cherry\n"
     ]
    }
   ],
   "source": [
    "thistuple =(\"apple\", \"banana\", \"cherry\")\n",
    "for x in thistuple:\n",
    "    print(x)\n",
    "    "
   ]
  },
  {
   "cell_type": "code",
   "execution_count": 4,
   "id": "7a2f0a14",
   "metadata": {},
   "outputs": [
    {
     "name": "stdout",
     "output_type": "stream",
     "text": [
      "0 : Shaheen\n",
      "1 : Hassan\n",
      "2 : Shadab\n"
     ]
    }
   ],
   "source": [
    "thisplayer =(\"Shaheen\", \"Hassan\", \"Shadab\")\n",
    "for i in range(len(thisplayer)):\n",
    "    print(i,\":\",thisplayer[i])"
   ]
  },
  {
   "cell_type": "markdown",
   "id": "8b4175d0",
   "metadata": {},
   "source": [
    "### While loop in Tuples"
   ]
  },
  {
   "cell_type": "code",
   "execution_count": null,
   "id": "3137cbc2",
   "metadata": {},
   "outputs": [],
   "source": [
    "thispoli =(\"james\",\"Anderson\",\"roots\")\n",
    "i=0\n",
    "while i>len(thispoli):\n",
    "    print(i,\": \",thispoli[i])\n",
    "    i+1"
   ]
  },
  {
   "cell_type": "code",
   "execution_count": null,
   "id": "828a6f28",
   "metadata": {},
   "outputs": [],
   "source": []
  }
 ],
 "metadata": {
  "kernelspec": {
   "display_name": "Python 3",
   "language": "python",
   "name": "python3"
  },
  "language_info": {
   "codemirror_mode": {
    "name": "ipython",
    "version": 3
   },
   "file_extension": ".py",
   "mimetype": "text/x-python",
   "name": "python",
   "nbconvert_exporter": "python",
   "pygments_lexer": "ipython3",
   "version": "3.8.8"
  }
 },
 "nbformat": 4,
 "nbformat_minor": 5
}
