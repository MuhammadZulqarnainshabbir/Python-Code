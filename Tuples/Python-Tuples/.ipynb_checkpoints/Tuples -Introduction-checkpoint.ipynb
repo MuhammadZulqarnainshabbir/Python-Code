{
 "cells": [
  {
   "cell_type": "markdown",
   "id": "3b26861c",
   "metadata": {},
   "source": [
    "# Python Tuples\n",
    "\n",
    "- Tuple is also use to store collection of data\n",
    "- Tuples are written with round brackets\n",
    "- Tuples are ordered and unchangeable"
   ]
  },
  {
   "cell_type": "markdown",
   "id": "d2a13447",
   "metadata": {},
   "source": [
    "Lets Create a Touple"
   ]
  },
  {
   "cell_type": "code",
   "execution_count": 18,
   "id": "c1ffb9b5",
   "metadata": {},
   "outputs": [
    {
     "name": "stdout",
     "output_type": "stream",
     "text": [
      "('A', 'B', 'C')\n"
     ]
    }
   ],
   "source": [
    "mytuple =(\"A\",\"B\",\"C\")\n",
    "print(mytuple)"
   ]
  },
  {
   "cell_type": "markdown",
   "id": "cc829698",
   "metadata": {},
   "source": [
    "- As I mentioned above Tuple items are ordered and unchageable \n",
    "- Its index start with **[0]** and so on...\n",
    "\n",
    "\n",
    "## Ordered\n",
    "- Tuples have defined ordered and that order cannot be changed\n",
    "\n",
    "\n",
    "## unchangeable\n",
    "- once a tuple created it cannot be chnaged whch mean we cannot assign values of an index once a tuple is create\n",
    "\n",
    "\n",
    "## Allow Duplicate values\n",
    "- Tuples Allow Duplicate values at differnet indexes"
   ]
  },
  {
   "cell_type": "code",
   "execution_count": 19,
   "id": "63ed37d4",
   "metadata": {},
   "outputs": [
    {
     "name": "stdout",
     "output_type": "stream",
     "text": [
      "1\n"
     ]
    },
    {
     "ename": "TypeError",
     "evalue": "'tuple' object does not support item assignment",
     "output_type": "error",
     "traceback": [
      "\u001b[1;31m---------------------------------------------------------------------------\u001b[0m",
      "\u001b[1;31mTypeError\u001b[0m                                 Traceback (most recent call last)",
      "\u001b[1;32m<ipython-input-19-a1842b1a9128>\u001b[0m in \u001b[0;36m<module>\u001b[1;34m\u001b[0m\n\u001b[0;32m      5\u001b[0m \u001b[0mtemp2\u001b[0m\u001b[1;33m=\u001b[0m\u001b[0mnumTuple\u001b[0m\u001b[1;33m[\u001b[0m\u001b[1;36m1\u001b[0m\u001b[1;33m]\u001b[0m\u001b[1;33m\u001b[0m\u001b[1;33m\u001b[0m\u001b[0m\n\u001b[0;32m      6\u001b[0m \u001b[0mprint\u001b[0m\u001b[1;33m(\u001b[0m\u001b[0mtemp\u001b[0m\u001b[1;33m)\u001b[0m\u001b[1;33m\u001b[0m\u001b[1;33m\u001b[0m\u001b[0m\n\u001b[1;32m----> 7\u001b[1;33m \u001b[0mnumTuple\u001b[0m\u001b[1;33m[\u001b[0m\u001b[1;36m1\u001b[0m\u001b[1;33m]\u001b[0m\u001b[1;33m=\u001b[0m \u001b[0mtemp\u001b[0m\u001b[1;33m\u001b[0m\u001b[1;33m\u001b[0m\u001b[0m\n\u001b[0m\u001b[0;32m      8\u001b[0m \u001b[0mnumTuple\u001b[0m\u001b[1;33m[\u001b[0m\u001b[1;36m2\u001b[0m\u001b[1;33m]\u001b[0m\u001b[1;33m=\u001b[0m \u001b[0mtemp2\u001b[0m\u001b[1;33m\u001b[0m\u001b[1;33m\u001b[0m\u001b[0m\n\u001b[0;32m      9\u001b[0m \u001b[0mprint\u001b[0m\u001b[1;33m(\u001b[0m\u001b[0mnumTuple\u001b[0m\u001b[1;33m)\u001b[0m\u001b[1;33m\u001b[0m\u001b[1;33m\u001b[0m\u001b[0m\n",
      "\u001b[1;31mTypeError\u001b[0m: 'tuple' object does not support item assignment"
     ]
    }
   ],
   "source": [
    "# Example of ordered:\n",
    "\n",
    "numTuple =(1,2,3,4,5)\n",
    "temp=numTuple[0]\n",
    "temp2=numTuple[1]\n",
    "print(temp)\n",
    "numTuple[1]= temp\n",
    "numTuple[2]= temp2\n",
    "print(numTuple)\n",
    "\n",
    "\n",
    "\n",
    "# When we will run this we will get an error saying: 'tuple' object does not support item assignment.\n",
    "# it proves both ordered and unchangeable points\n",
    "    "
   ]
  },
  {
   "cell_type": "markdown",
   "id": "d0b74f48",
   "metadata": {},
   "source": [
    "<!-- Duplicate Values Example -->"
   ]
  },
  {
   "cell_type": "code",
   "execution_count": null,
   "id": "40ea2ae2",
   "metadata": {},
   "outputs": [],
   "source": [
    "# Duplicate Values Example\n",
    "intTuple = (1,2,3,4,5,5)\n",
    "print(intTuple)\n",
    "\n",
    "#This code will run sucessfully and shows that tuples can accamodate the duplicate values\n"
   ]
  },
  {
   "cell_type": "markdown",
   "id": "b5d29c38",
   "metadata": {},
   "source": [
    "### len() Fuction is use to check the length of a Tuple\n"
   ]
  },
  {
   "cell_type": "code",
   "execution_count": null,
   "id": "e1653acc",
   "metadata": {},
   "outputs": [],
   "source": [
    "tuple1 = (\"apple\", \"banana\", \"cherry\")\n",
    "len(tuple1) \n",
    "\n",
    "#The output will return 3 beacuse we have three elements in our touple"
   ]
  },
  {
   "cell_type": "markdown",
   "id": "794a59e7",
   "metadata": {},
   "source": [
    "### Tuples can have any Data Types: Boolean, string, int \n"
   ]
  },
  {
   "cell_type": "code",
   "execution_count": 20,
   "id": "98264b4e",
   "metadata": {},
   "outputs": [
    {
     "name": "stdout",
     "output_type": "stream",
     "text": [
      "('apple', 'banana', 'cherry')\n",
      "(1, 2, 3, 4, 5)\n",
      "(True, False)\n"
     ]
    }
   ],
   "source": [
    "tuple1 = (\"apple\", \"banana\", \"cherry\")\n",
    "tuple2 = (1,2,3,4,5)\n",
    "tuple3 = (True,False)\n",
    "\n",
    "print(tuple1)\n",
    "print(tuple2)\n",
    "print(tuple3)\n"
   ]
  },
  {
   "cell_type": "markdown",
   "id": "8f3b98a0",
   "metadata": {},
   "source": [
    "### A Tuple can store differnt data types at the same time\n"
   ]
  },
  {
   "cell_type": "code",
   "execution_count": 21,
   "id": "27324fcb",
   "metadata": {},
   "outputs": [
    {
     "name": "stdout",
     "output_type": "stream",
     "text": [
      "(1, 'Snack', False)\n"
     ]
    }
   ],
   "source": [
    "top1= (1,'Snack',False)\n",
    "print(top1)"
   ]
  },
  {
   "cell_type": "markdown",
   "id": "7de00027",
   "metadata": {},
   "source": [
    "### Its Also Posible to create a tuple in python using the tuple() constructor"
   ]
  },
  {
   "cell_type": "code",
   "execution_count": 22,
   "id": "f1630389",
   "metadata": {},
   "outputs": [
    {
     "name": "stdout",
     "output_type": "stream",
     "text": [
      "(1, 2, 3, 4)\n"
     ]
    }
   ],
   "source": [
    "thisT= tuple((1,2,3,4))\n",
    "print(thisT)"
   ]
  }
 ],
 "metadata": {
  "kernelspec": {
   "display_name": "Python 3",
   "language": "python",
   "name": "python3"
  },
  "language_info": {
   "codemirror_mode": {
    "name": "ipython",
    "version": 3
   },
   "file_extension": ".py",
   "mimetype": "text/x-python",
   "name": "python",
   "nbconvert_exporter": "python",
   "pygments_lexer": "ipython3",
   "version": "3.8.8"
  }
 },
 "nbformat": 4,
 "nbformat_minor": 5
}
