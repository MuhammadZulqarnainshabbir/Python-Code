{
 "cells": [
  {
   "cell_type": "markdown",
   "id": "fa4d4f0f",
   "metadata": {},
   "source": [
    "## We can join two or more tuples using **+** sign"
   ]
  },
  {
   "cell_type": "code",
   "execution_count": 1,
   "id": "4e13b46a",
   "metadata": {},
   "outputs": [
    {
     "name": "stdout",
     "output_type": "stream",
     "text": [
      "('a', 'b', 'c', 1, 2, 3)\n"
     ]
    }
   ],
   "source": [
    "tuple1 = (\"a\", \"b\" , \"c\")\n",
    "tuple2 = (1, 2, 3)\n",
    "tuple3= tuple1+tuple2\n",
    "print(tuple3)"
   ]
  },
  {
   "cell_type": "markdown",
   "id": "b760efd1",
   "metadata": {},
   "source": [
    "### We can also use * method to multiply a tuple : which basically means if we multiply a tuple by 2 its element will be written 2 times\n"
   ]
  },
  {
   "cell_type": "code",
   "execution_count": 2,
   "id": "5ce511c8",
   "metadata": {},
   "outputs": [
    {
     "name": "stdout",
     "output_type": "stream",
     "text": [
      "('apple', 'banana', 'cherry', 'apple', 'banana', 'cherry')\n"
     ]
    }
   ],
   "source": [
    "fruits = (\"apple\", \"banana\", \"cherry\")\n",
    "mytuple = fruits * 2\n",
    "print(mytuple)"
   ]
  },
  {
   "cell_type": "markdown",
   "id": "1c2fc103",
   "metadata": {},
   "source": [
    "### Count Method\n",
    "\n",
    "- The count Method returns the number of time a value has accurred in a Tuple"
   ]
  },
  {
   "cell_type": "code",
   "execution_count": 5,
   "id": "5d42104e",
   "metadata": {},
   "outputs": [
    {
     "name": "stdout",
     "output_type": "stream",
     "text": [
      "2\n"
     ]
    }
   ],
   "source": [
    "fruits = (\"apple\", \"banana\", \"cherry\",\"cherry\")\n",
    "print(fruits.count(\"cherry\"))"
   ]
  },
  {
   "cell_type": "markdown",
   "id": "e07227ff",
   "metadata": {},
   "source": [
    "### Index() Function\n",
    "search a perticular value and return the index "
   ]
  }
 ],
 "metadata": {
  "kernelspec": {
   "display_name": "Python 3",
   "language": "python",
   "name": "python3"
  },
  "language_info": {
   "codemirror_mode": {
    "name": "ipython",
    "version": 3
   },
   "file_extension": ".py",
   "mimetype": "text/x-python",
   "name": "python",
   "nbconvert_exporter": "python",
   "pygments_lexer": "ipython3",
   "version": "3.8.8"
  }
 },
 "nbformat": 4,
 "nbformat_minor": 5
}
