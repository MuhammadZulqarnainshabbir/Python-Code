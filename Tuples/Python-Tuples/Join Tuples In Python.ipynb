{
 "cells": [
  {
   "cell_type": "markdown",
   "id": "1d107bd8",
   "metadata": {},
   "source": [
    "## We can join two or more tuples using **+** sign"
   ]
  },
  {
   "cell_type": "code",
   "execution_count": 1,
   "id": "08a5cac9",
   "metadata": {},
   "outputs": [
    {
     "name": "stdout",
     "output_type": "stream",
     "text": [
      "('a', 'b', 'c', 1, 2, 3)\n"
     ]
    }
   ],
   "source": [
    "tuple1 = (\"a\", \"b\" , \"c\")\n",
    "tuple2 = (1, 2, 3)\n",
    "tuple3= tuple1+tuple2\n",
    "print(tuple3)"
   ]
  },
  {
   "cell_type": "markdown",
   "id": "626bd48c",
   "metadata": {},
   "source": [
    "### We can also use * method to multiply a tuple : which basically means if we multiply a tuple by 2 its element will be written 2 times\n"
   ]
  },
  {
   "cell_type": "code",
   "execution_count": null,
   "id": "5746d219",
   "metadata": {},
   "outputs": [],
   "source": []
  }
 ],
 "metadata": {
  "kernelspec": {
   "display_name": "Python 3",
   "language": "python",
   "name": "python3"
  },
  "language_info": {
   "codemirror_mode": {
    "name": "ipython",
    "version": 3
   },
   "file_extension": ".py",
   "mimetype": "text/x-python",
   "name": "python",
   "nbconvert_exporter": "python",
   "pygments_lexer": "ipython3",
   "version": "3.8.8"
  }
 },
 "nbformat": 4,
 "nbformat_minor": 5
}
