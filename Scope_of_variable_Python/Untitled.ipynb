{
 "cells": [
  {
   "cell_type": "markdown",
   "id": "2210e55c",
   "metadata": {},
   "source": [
    "# Pyhton Scope"
   ]
  },
  {
   "cell_type": "markdown",
   "id": "bbdb67df",
   "metadata": {},
   "source": [
    "- A variable is only available inside the region it is created.This is called Scope "
   ]
  },
  {
   "cell_type": "markdown",
   "id": "f5db036a",
   "metadata": {},
   "source": [
    "A variable created inside a function is avialable inside that function"
   ]
  },
  {
   "cell_type": "code",
   "execution_count": 2,
   "id": "2dadbad2",
   "metadata": {},
   "outputs": [
    {
     "name": "stdout",
     "output_type": "stream",
     "text": [
      "300\n"
     ]
    },
    {
     "ename": "NameError",
     "evalue": "name 'x' is not defined",
     "output_type": "error",
     "traceback": [
      "\u001b[1;31m---------------------------------------------------------------------------\u001b[0m",
      "\u001b[1;31mNameError\u001b[0m                                 Traceback (most recent call last)",
      "\u001b[1;32m<ipython-input-2-619bc18aaace>\u001b[0m in \u001b[0;36m<module>\u001b[1;34m\u001b[0m\n\u001b[0;32m      6\u001b[0m \u001b[1;31m#the above code will run fine\u001b[0m\u001b[1;33m\u001b[0m\u001b[1;33m\u001b[0m\u001b[1;33m\u001b[0m\u001b[0m\n\u001b[0;32m      7\u001b[0m \u001b[1;31m#but if we try to get the x out of the scope of myfunct() we will get an error\u001b[0m\u001b[1;33m\u001b[0m\u001b[1;33m\u001b[0m\u001b[1;33m\u001b[0m\u001b[0m\n\u001b[1;32m----> 8\u001b[1;33m \u001b[0mprint\u001b[0m\u001b[1;33m(\u001b[0m\u001b[0mx\u001b[0m\u001b[1;33m)\u001b[0m\u001b[1;33m\u001b[0m\u001b[1;33m\u001b[0m\u001b[0m\n\u001b[0m",
      "\u001b[1;31mNameError\u001b[0m: name 'x' is not defined"
     ]
    }
   ],
   "source": [
    "def myfunct():\n",
    "    x=300\n",
    "    print(x)\n",
    "myfunct()   \n",
    "\n",
    "#the above code will run fine \n",
    "#but if we try to get the x out of the scope of myfunct() we will get an error\n",
    "\n",
    "print(x)\n"
   ]
  },
  {
   "cell_type": "markdown",
   "id": "9dccf005",
   "metadata": {},
   "source": [
    "# Function Inside a Function\n",
    "\n",
    "- the local variable of a function let say F() can be accessed by function which inside is created inside the function F() "
   ]
  },
  {
   "cell_type": "code",
   "execution_count": 3,
   "id": "6694a297",
   "metadata": {},
   "outputs": [
    {
     "name": "stdout",
     "output_type": "stream",
     "text": [
      "300\n"
     ]
    }
   ],
   "source": [
    "def myfunc():\n",
    "    x= 300\n",
    "    def nfunc():\n",
    "        print(x)\n",
    "    nfunc()\n",
    "myfunc()\n",
    "\n",
    "#the local variable x of myfunc() can be accessed by inner function nfunc()\n"
   ]
  },
  {
   "cell_type": "markdown",
   "id": "fd672388",
   "metadata": {},
   "source": [
    "# Global Scope"
   ]
  },
  {
   "cell_type": "markdown",
   "id": "2d5d206b",
   "metadata": {},
   "source": [
    "- Global variables are available throughout the program and the are not scope bounded and can be use by anyone in that program"
   ]
  },
  {
   "cell_type": "code",
   "execution_count": 4,
   "id": "f2ef4951",
   "metadata": {},
   "outputs": [
    {
     "name": "stdout",
     "output_type": "stream",
     "text": [
      "300\n",
      "300\n"
     ]
    }
   ],
   "source": [
    "x = 300\n",
    "def myf():\n",
    "    print(x)\n",
    "myf()\n",
    "print(x)"
   ]
  },
  {
   "cell_type": "markdown",
   "id": "7d1ed6e3",
   "metadata": {},
   "source": [
    "# Naming Variable"
   ]
  },
  {
   "cell_type": "markdown",
   "id": "23e486e9",
   "metadata": {},
   "source": [
    "- if we have two variable one with the same name one in local scope and other in global scope than python will treat both of them differntly"
   ]
  },
  {
   "cell_type": "code",
   "execution_count": 6,
   "id": "df85cca4",
   "metadata": {},
   "outputs": [
    {
     "name": "stdout",
     "output_type": "stream",
     "text": [
      "100\n",
      "300\n"
     ]
    }
   ],
   "source": [
    "x= 300\n",
    "\n",
    "def nmyf():\n",
    "    x=100\n",
    "    print(x)\n",
    "nmyf()\n",
    "print(x)\n",
    "\n",
    "# results shows python will treate them differntly "
   ]
  },
  {
   "cell_type": "markdown",
   "id": "d48a9359",
   "metadata": {},
   "source": [
    "# Global Keyword"
   ]
  },
  {
   "cell_type": "markdown",
   "id": "a071c57b",
   "metadata": {},
   "source": [
    "- we can also use global keyword to create a global variable"
   ]
  },
  {
   "cell_type": "code",
   "execution_count": 9,
   "id": "3c1801a1",
   "metadata": {},
   "outputs": [
    {
     "name": "stdout",
     "output_type": "stream",
     "text": [
      "200\n",
      "200\n"
     ]
    }
   ],
   "source": [
    "def myfunction():\n",
    "    global x\n",
    "    x= 200\n",
    "    print(x)\n",
    "myfunction()\n",
    "print(x)"
   ]
  },
  {
   "cell_type": "code",
   "execution_count": null,
   "id": "4fde38a6",
   "metadata": {},
   "outputs": [],
   "source": []
  }
 ],
 "metadata": {
  "kernelspec": {
   "display_name": "Python 3",
   "language": "python",
   "name": "python3"
  },
  "language_info": {
   "codemirror_mode": {
    "name": "ipython",
    "version": 3
   },
   "file_extension": ".py",
   "mimetype": "text/x-python",
   "name": "python",
   "nbconvert_exporter": "python",
   "pygments_lexer": "ipython3",
   "version": "3.8.8"
  }
 },
 "nbformat": 4,
 "nbformat_minor": 5
}
