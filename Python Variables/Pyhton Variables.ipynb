{
 "cells": [
  {
   "cell_type": "code",
   "execution_count": 1,
   "id": "9f6d6fd9",
   "metadata": {},
   "outputs": [],
   "source": [
    "Python Variables"
   ]
  },
  {
   "cell_type": "code",
   "execution_count": 3,
   "id": "ea4c4411",
   "metadata": {},
   "outputs": [
    {
     "name": "stdout",
     "output_type": "stream",
     "text": [
      "11\n"
     ]
    }
   ],
   "source": [
    "\n",
    "# Pyhton dont have a command for declaring variable\n",
    "# A variable is created the momment you assign first value to it\n",
    "# varibale need not to be declared by any particular type and type can changed even after they have been set\n",
    "X= 5\n",
    "Y=6\n",
    "Z= X+Y\n",
    "print(Z)"
   ]
  },
  {
   "cell_type": "code",
   "execution_count": 6,
   "id": "d2603aa9",
   "metadata": {},
   "outputs": [
    {
     "name": "stdout",
     "output_type": "stream",
     "text": [
      "3 5 7.0\n"
     ]
    }
   ],
   "source": [
    "#if you want to specify a type of data it can be done through casting \n",
    "x= str(3)\n",
    "y= int(5)\n",
    "z= float(7)\n",
    "print(x,y,z)"
   ]
  },
  {
   "cell_type": "code",
   "execution_count": 13,
   "id": "89dec39f",
   "metadata": {},
   "outputs": [
    {
     "name": "stdout",
     "output_type": "stream",
     "text": [
      "<class 'str'>\n",
      "<class 'int'>\n"
     ]
    }
   ],
   "source": [
    "# How to get the type of a varibale in Python?\n",
    "X= 5\n",
    "Y= \"Hello World\"\n",
    "print(type(x))\n",
    "print(type(y))"
   ]
  },
  {
   "cell_type": "code",
   "execution_count": 16,
   "id": "1e05314b",
   "metadata": {},
   "outputs": [
    {
     "name": "stdout",
     "output_type": "stream",
     "text": [
      "JhoneDoe\n"
     ]
    }
   ],
   "source": [
    "# String Variables can be declare either by singl qoutes or double qoutes\n",
    "\n",
    "X= 'Jhone'\n",
    "Y= \"Doe\"\n",
    "print(X+Y)"
   ]
  },
  {
   "cell_type": "code",
   "execution_count": 18,
   "id": "339fdb7c",
   "metadata": {},
   "outputs": [
    {
     "name": "stdout",
     "output_type": "stream",
     "text": [
      "4\n",
      "6\n"
     ]
    }
   ],
   "source": [
    "# Are variable names are case sensitvies in Python?\n",
    "# Yes, the variable names are case sensitives in Python\n",
    "a= 4\n",
    "A= 6\n",
    "print(a) #Both vales of a and A will be differnt\n",
    "print(A)"
   ]
  },
  {
   "cell_type": "code",
   "execution_count": 19,
   "id": "92de7622",
   "metadata": {},
   "outputs": [
    {
     "ename": "SyntaxError",
     "evalue": "invalid syntax (<ipython-input-19-0af82fa00714>, line 5)",
     "output_type": "error",
     "traceback": [
      "\u001b[1;36m  File \u001b[1;32m\"<ipython-input-19-0af82fa00714>\"\u001b[1;36m, line \u001b[1;32m5\u001b[0m\n\u001b[1;33m    2myName='Ali' #will give error\u001b[0m\n\u001b[1;37m     ^\u001b[0m\n\u001b[1;31mSyntaxError\u001b[0m\u001b[1;31m:\u001b[0m invalid syntax\n"
     ]
    }
   ],
   "source": [
    "# Variable name should not start with number neither do they can have a space between them \n",
    "# varibales can only have alpha numeric values (A-z)(0-9)(_)\n",
    "# Varible names are case sensitives (Age, age, AGE are 3 differnt varibales)\n",
    "\n",
    "2myName='Ali' #will give error\n",
    "My Name= 'Ahmed' #will also give error\n"
   ]
  },
  {
   "cell_type": "code",
   "execution_count": 20,
   "id": "d5c7de0d",
   "metadata": {},
   "outputs": [],
   "source": [
    "# Camel Case variable name: Each letter of word is capital excpt the first letter of first word\n",
    "# Pascal Case: Each word start with a capital letter\n",
    "#Snake case :Each word is seprated by _ underscore "
   ]
  },
  {
   "cell_type": "code",
   "execution_count": 22,
   "id": "898c6b1a",
   "metadata": {},
   "outputs": [
    {
     "name": "stdout",
     "output_type": "stream",
     "text": [
      "1\n",
      "2\n",
      "Jhon\n"
     ]
    }
   ],
   "source": [
    "# Do python allow you to assign multiple values to multipe variables in one line?\n",
    "# Yes it does\n",
    "x,y,z = 1,2,\"Jhon\"\n",
    "print(x)\n",
    "print(y)\n",
    "print(z)"
   ]
  },
  {
   "cell_type": "code",
   "execution_count": 25,
   "id": "6617392f",
   "metadata": {},
   "outputs": [
    {
     "name": "stdout",
     "output_type": "stream",
     "text": [
      "Orange\n",
      "Orange\n",
      "Orange\n"
     ]
    }
   ],
   "source": [
    "# We can also assign same value to multiple variables\n",
    "fruits= vegitables= tobel= \"Orange\"\n",
    "print(fruits)\n",
    "print(vegitables)\n",
    "print(tobel)"
   ]
  },
  {
   "cell_type": "code",
   "execution_count": 27,
   "id": "ed6808b4",
   "metadata": {},
   "outputs": [
    {
     "name": "stdout",
     "output_type": "stream",
     "text": [
      "apple\n",
      "Banana\n",
      "Strawberry\n"
     ]
    }
   ],
   "source": [
    "# Unpacking the collection\n",
    "# If we have collection , tupel python allows you to unpack it and extract the values to variables\n",
    "\n",
    "fruits =[\"apple\", \"Banana\", \"Strawberry\"]\n",
    "x,y,z= fruits\n",
    "print(x)\n",
    "print(y)\n",
    "print(z)"
   ]
  },
  {
   "cell_type": "code",
   "execution_count": 28,
   "id": "9fde19d1",
   "metadata": {},
   "outputs": [
    {
     "name": "stdout",
     "output_type": "stream",
     "text": [
      "5 Jhone Doe\n"
     ]
    }
   ],
   "source": [
    "# Python gives you error when you try to concatenate numbers with string in print using ( + ) statement but we can conacatenate\n",
    "# with ( , ) operator\n",
    "\n",
    "A=5\n",
    "B= \"Jhone Doe\"\n",
    "print(A,B)"
   ]
  },
  {
   "cell_type": "code",
   "execution_count": 34,
   "id": "4cc6f636",
   "metadata": {},
   "outputs": [
    {
     "name": "stdout",
     "output_type": "stream",
     "text": [
      "Python is a snake\n"
     ]
    }
   ],
   "source": [
    "# Global Variables\n",
    "# Global varibales are created outside the scope of a function \n",
    "# Global variables can be used by everyone and everywhere(both inside and outside the function)\n",
    "\n",
    "X= \"Python\"\n",
    "def myfunction():\n",
    "    print(X+ \" is a snake\")\n",
    "    \n",
    "myfunction()    "
   ]
  },
  {
   "cell_type": "code",
   "execution_count": 39,
   "id": "a8396fde",
   "metadata": {},
   "outputs": [
    {
     "name": "stdout",
     "output_type": "stream",
     "text": [
      "His name is Ali\n",
      "His name is Junaid\n"
     ]
    }
   ],
   "source": [
    "# If we created a variable inside a function that will a local variable and cannot be used outside the scope of a function\n",
    "x= \"Junaid\"\n",
    "def function():\n",
    "    x=\"Ali\"\n",
    "    print(\"His name is \" + x)\n",
    "function()    \n",
    "print(\"His name is \"+ x)    "
   ]
  },
  {
   "cell_type": "code",
   "execution_count": 41,
   "id": "3ca6b725",
   "metadata": {},
   "outputs": [
    {
     "name": "stdout",
     "output_type": "stream",
     "text": [
      "Not Hatim\n",
      "Not Hatim\n"
     ]
    }
   ],
   "source": [
    "# Normally when we create a variable inside a function it is local function and can only be used inside that function\n",
    "# But we can make global by using the keyword global\n",
    "# And to change the value of a global variable inside a function (Global) keyword can also be used\n",
    "\n",
    "x= \"Hatim\"\n",
    "def myfunction():\n",
    "    global x\n",
    "    x=\"Not Hatim\"\n",
    "    print(x)\n",
    "myfunction()    \n",
    "print(x)\n"
   ]
  }
 ],
 "metadata": {
  "kernelspec": {
   "display_name": "Python 3",
   "language": "python",
   "name": "python3"
  },
  "language_info": {
   "codemirror_mode": {
    "name": "ipython",
    "version": 3
   },
   "file_extension": ".py",
   "mimetype": "text/x-python",
   "name": "python",
   "nbconvert_exporter": "python",
   "pygments_lexer": "ipython3",
   "version": "3.8.8"
  }
 },
 "nbformat": 4,
 "nbformat_minor": 5
}
