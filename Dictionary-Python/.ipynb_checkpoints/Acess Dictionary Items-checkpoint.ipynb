{
 "cells": [
  {
   "cell_type": "markdown",
   "id": "e44a6948",
   "metadata": {},
   "source": [
    "Get the value of the \"model\" key:"
   ]
  },
  {
   "cell_type": "code",
   "execution_count": 2,
   "id": "4c05dad4",
   "metadata": {},
   "outputs": [
    {
     "name": "stdout",
     "output_type": "stream",
     "text": [
      "Mustang\n"
     ]
    }
   ],
   "source": [
    "thisdict = {\n",
    "  \"brand\": \"Ford\",\n",
    "  \"model\": \"Mustang\",\n",
    "  \"year\": 1964\n",
    "}\n",
    "print(thisdict['model'])\n"
   ]
  },
  {
   "cell_type": "markdown",
   "id": "3bdd6251",
   "metadata": {},
   "source": [
    "### we can also achive this using the get() method"
   ]
  },
  {
   "cell_type": "markdown",
   "id": "e46b3924",
   "metadata": {},
   "source": [
    "get the value of \"brand\" key"
   ]
  },
  {
   "cell_type": "code",
   "execution_count": 3,
   "id": "045276f5",
   "metadata": {},
   "outputs": [
    {
     "name": "stdout",
     "output_type": "stream",
     "text": [
      "Ford\n"
     ]
    }
   ],
   "source": [
    "x= thisdict.get(\"brand\")\n",
    "print(x)"
   ]
  },
  {
   "cell_type": "markdown",
   "id": "899673d0",
   "metadata": {},
   "source": [
    "### the key method will return the all the keys in a dictionary"
   ]
  },
  {
   "cell_type": "code",
   "execution_count": 4,
   "id": "b8ba06aa",
   "metadata": {},
   "outputs": [
    {
     "name": "stdout",
     "output_type": "stream",
     "text": [
      "dict_keys(['brand', 'model', 'year'])\n"
     ]
    }
   ],
   "source": [
    "print(thisdict.keys())\n"
   ]
  },
  {
   "cell_type": "markdown",
   "id": "5186f3e1",
   "metadata": {},
   "source": [
    "### Add a new key to dictionary and see that key list gets updated as well"
   ]
  },
  {
   "cell_type": "code",
   "execution_count": 6,
   "id": "e8142a9a",
   "metadata": {},
   "outputs": [],
   "source": [
    "thisdict['color'] = 'Royal Blue'"
   ]
  },
  {
   "cell_type": "code",
   "execution_count": 8,
   "id": "b74e5bfc",
   "metadata": {},
   "outputs": [
    {
     "name": "stdout",
     "output_type": "stream",
     "text": [
      "dict_keys(['brand', 'model', 'year', 'color'])\n"
     ]
    }
   ],
   "source": [
    "print(thisdict.keys())"
   ]
  },
  {
   "cell_type": "code",
   "execution_count": null,
   "id": "5fff0a01",
   "metadata": {},
   "outputs": [],
   "source": []
  }
 ],
 "metadata": {
  "kernelspec": {
   "display_name": "Python 3",
   "language": "python",
   "name": "python3"
  },
  "language_info": {
   "codemirror_mode": {
    "name": "ipython",
    "version": 3
   },
   "file_extension": ".py",
   "mimetype": "text/x-python",
   "name": "python",
   "nbconvert_exporter": "python",
   "pygments_lexer": "ipython3",
   "version": "3.8.8"
  }
 },
 "nbformat": 4,
 "nbformat_minor": 5
}
