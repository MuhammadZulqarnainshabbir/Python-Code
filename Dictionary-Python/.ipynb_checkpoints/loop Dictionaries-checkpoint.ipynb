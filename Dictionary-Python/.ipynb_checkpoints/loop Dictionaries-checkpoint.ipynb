{
 "cells": [
  {
   "cell_type": "markdown",
   "id": "434bae8f",
   "metadata": {},
   "source": [
    "# loop Throught a Dictionary\n",
    "\n",
    "- values()\n",
    "- keys()\n",
    "- items"
   ]
  },
  {
   "cell_type": "code",
   "execution_count": 2,
   "id": "ebe8eeee",
   "metadata": {},
   "outputs": [
    {
     "name": "stdout",
     "output_type": "stream",
     "text": [
      "brand : Ford\n",
      "model : Mustang\n",
      "year : 1964\n"
     ]
    }
   ],
   "source": [
    "thisdict = {\n",
    "  \"brand\": \"Ford\",\n",
    "  \"model\": \"Mustang\",\n",
    "  \"year\": 1964\n",
    "}\n",
    "\n",
    "for x in thisdict:\n",
    "    print(x,\":\",thisdict[x])"
   ]
  },
  {
   "cell_type": "markdown",
   "id": "a87c79f9",
   "metadata": {},
   "source": [
    "# values()"
   ]
  },
  {
   "cell_type": "markdown",
   "id": "e134ccef",
   "metadata": {},
   "source": [
    "### we can also use the values() method to return values of dictionary"
   ]
  },
  {
   "cell_type": "code",
   "execution_count": 4,
   "id": "6e58989d",
   "metadata": {},
   "outputs": [
    {
     "name": "stdout",
     "output_type": "stream",
     "text": [
      "Ford\n",
      "Mustang\n",
      "1964\n"
     ]
    }
   ],
   "source": [
    "for i in thisdict.values():\n",
    "    print(i)"
   ]
  },
  {
   "cell_type": "markdown",
   "id": "14f287f1",
   "metadata": {},
   "source": [
    "# Keys()"
   ]
  },
  {
   "cell_type": "markdown",
   "id": "69eec5c5",
   "metadata": {},
   "source": [
    "- we can use the key() method to return keys of dictionary"
   ]
  },
  {
   "cell_type": "code",
   "execution_count": 6,
   "id": "dfc94618",
   "metadata": {},
   "outputs": [
    {
     "name": "stdout",
     "output_type": "stream",
     "text": [
      "brand\n",
      "model\n",
      "year\n"
     ]
    }
   ],
   "source": [
    "for k in thisdict.keys():\n",
    "    print(k)"
   ]
  },
  {
   "cell_type": "markdown",
   "id": "3320b710",
   "metadata": {},
   "source": [
    "# items()"
   ]
  },
  {
   "cell_type": "markdown",
   "id": "cfffa1cc",
   "metadata": {},
   "source": [
    "- we can loop through both keys and values at same time using items() method"
   ]
  },
  {
   "cell_type": "code",
   "execution_count": 11,
   "id": "c961a985",
   "metadata": {},
   "outputs": [
    {
     "name": "stdout",
     "output_type": "stream",
     "text": [
      "('brand', 'Ford')\n",
      "('model', 'Mustang')\n",
      "('year', 1964)\n"
     ]
    }
   ],
   "source": [
    "for t in thisdict.items():\n",
    "    print(t)"
   ]
  },
  {
   "cell_type": "code",
   "execution_count": null,
   "id": "251fd910",
   "metadata": {},
   "outputs": [],
   "source": []
  }
 ],
 "metadata": {
  "kernelspec": {
   "display_name": "Python 3",
   "language": "python",
   "name": "python3"
  },
  "language_info": {
   "codemirror_mode": {
    "name": "ipython",
    "version": 3
   },
   "file_extension": ".py",
   "mimetype": "text/x-python",
   "name": "python",
   "nbconvert_exporter": "python",
   "pygments_lexer": "ipython3",
   "version": "3.8.8"
  }
 },
 "nbformat": 4,
 "nbformat_minor": 5
}
