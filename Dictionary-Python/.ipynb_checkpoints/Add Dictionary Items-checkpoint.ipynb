{
 "cells": [
  {
   "cell_type": "markdown",
   "id": "18d3860d",
   "metadata": {},
   "source": [
    "# Adding Items\n",
    "\n",
    "- Adding an item to dictionary can be done using a new index key and assigning a value to it."
   ]
  },
  {
   "cell_type": "code",
   "execution_count": 1,
   "id": "58985d3f",
   "metadata": {},
   "outputs": [
    {
     "name": "stdout",
     "output_type": "stream",
     "text": [
      "{'brand': 'Ford', 'model': 'Mustang', 'year': 1964, 'color': 'White'}\n"
     ]
    }
   ],
   "source": [
    "thisdict = {\n",
    "  \"brand\": \"Ford\",\n",
    "  \"model\": \"Mustang\",\n",
    "  \"year\": 1964\n",
    "}\n",
    "thisdict['color'] =\"White\"\n",
    "print(thisdict)"
   ]
  },
  {
   "cell_type": "markdown",
   "id": "e86dba55",
   "metadata": {},
   "source": [
    "# Update Dictionary"
   ]
  },
  {
   "cell_type": "markdown",
   "id": "347d953a",
   "metadata": {},
   "source": [
    "- The update() method will update an item with goven argument, if the item does not exist, the item will added"
   ]
  },
  {
   "cell_type": "markdown",
   "id": "656090d5",
   "metadata": {},
   "source": [
    "- Again, the argument to update() method should be dictionary or any other iterable"
   ]
  }
 ],
 "metadata": {
  "kernelspec": {
   "display_name": "Python 3",
   "language": "python",
   "name": "python3"
  },
  "language_info": {
   "codemirror_mode": {
    "name": "ipython",
    "version": 3
   },
   "file_extension": ".py",
   "mimetype": "text/x-python",
   "name": "python",
   "nbconvert_exporter": "python",
   "pygments_lexer": "ipython3",
   "version": "3.8.8"
  }
 },
 "nbformat": 4,
 "nbformat_minor": 5
}
