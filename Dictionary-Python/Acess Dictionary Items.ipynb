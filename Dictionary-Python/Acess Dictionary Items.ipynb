{
 "cells": [
  {
   "cell_type": "markdown",
   "id": "f3a49843",
   "metadata": {},
   "source": [
    "**Question:** Get the value of the \"model\" key:"
   ]
  },
  {
   "cell_type": "code",
   "execution_count": 2,
   "id": "0e267365",
   "metadata": {},
   "outputs": [
    {
     "name": "stdout",
     "output_type": "stream",
     "text": [
      "Mustang\n"
     ]
    }
   ],
   "source": [
    "thisdict = {\n",
    "  \"brand\": \"Ford\",\n",
    "  \"model\": \"Mustang\",\n",
    "  \"year\": 1964\n",
    "}\n",
    "print(thisdict['model'])\n"
   ]
  },
  {
   "cell_type": "markdown",
   "id": "7c6641b5",
   "metadata": {},
   "source": [
    "### we can also achive this using the get() method"
   ]
  },
  {
   "cell_type": "markdown",
   "id": "91d73f1b",
   "metadata": {},
   "source": [
    "**Question:** get the value of \"brand\" key"
   ]
  },
  {
   "cell_type": "code",
   "execution_count": 3,
   "id": "0b34d89c",
   "metadata": {},
   "outputs": [
    {
     "name": "stdout",
     "output_type": "stream",
     "text": [
      "Ford\n"
     ]
    }
   ],
   "source": [
    "x= thisdict.get(\"brand\")\n",
    "print(x)"
   ]
  },
  {
   "cell_type": "markdown",
   "id": "b8a8355d",
   "metadata": {},
   "source": [
    "### the key method will return the all the keys in a dictionary"
   ]
  },
  {
   "cell_type": "code",
   "execution_count": 4,
   "id": "61f3fb41",
   "metadata": {},
   "outputs": [
    {
     "name": "stdout",
     "output_type": "stream",
     "text": [
      "dict_keys(['brand', 'model', 'year'])\n"
     ]
    }
   ],
   "source": [
    "print(thisdict.keys())\n"
   ]
  },
  {
   "cell_type": "markdown",
   "id": "bf22df39",
   "metadata": {},
   "source": [
    "### Add a new key to dictionary and see that key list gets updated as well"
   ]
  },
  {
   "cell_type": "code",
   "execution_count": 6,
   "id": "8cb9f82a",
   "metadata": {},
   "outputs": [],
   "source": [
    "thisdict['color'] = 'Royal Blue'"
   ]
  },
  {
   "cell_type": "code",
   "execution_count": 8,
   "id": "35fc300d",
   "metadata": {},
   "outputs": [
    {
     "name": "stdout",
     "output_type": "stream",
     "text": [
      "dict_keys(['brand', 'model', 'year', 'color'])\n"
     ]
    }
   ],
   "source": [
    "print(thisdict.keys())"
   ]
  },
  {
   "cell_type": "markdown",
   "id": "623e1758",
   "metadata": {},
   "source": [
    "### The values() method will return a list of all the values in the dictionary"
   ]
  },
  {
   "cell_type": "markdown",
   "id": "d7fea19a",
   "metadata": {},
   "source": [
    "Question: Get a list of the values"
   ]
  },
  {
   "cell_type": "code",
   "execution_count": 11,
   "id": "586a2da5",
   "metadata": {},
   "outputs": [
    {
     "name": "stdout",
     "output_type": "stream",
     "text": [
      "dict_values(['Ford', 'Mustang', 1964, 'Royal Blue'])\n"
     ]
    }
   ],
   "source": [
    "y= thisdict.values()\n",
    "print(y)"
   ]
  },
  {
   "cell_type": "markdown",
   "id": "ca651fd8",
   "metadata": {},
   "source": [
    "### The items() method will return each item in a dictionary as tuples in a list"
   ]
  },
  {
   "cell_type": "markdown",
   "id": "cdd93bcd",
   "metadata": {},
   "source": [
    "Get a list of key: value par"
   ]
  },
  {
   "cell_type": "code",
   "execution_count": 12,
   "id": "ba1e849b",
   "metadata": {},
   "outputs": [
    {
     "name": "stdout",
     "output_type": "stream",
     "text": [
      "dict_items([('brand', 'Ford'), ('model', 'Mustang'), ('year', 1964), ('color', 'Royal Blue')])\n"
     ]
    }
   ],
   "source": [
    "z = thisdict.items()\n",
    "print(z)"
   ]
  },
  {
   "cell_type": "markdown",
   "id": "7fdacb61",
   "metadata": {},
   "source": [
    "- the output will be tuples inside a list consisting of keys and value pair of dictionary "
   ]
  },
  {
   "cell_type": "markdown",
   "id": "b8bb259f",
   "metadata": {},
   "source": [
    "**Question:** Check if \"model\" is present in the dictionary"
   ]
  },
  {
   "cell_type": "code",
   "execution_count": 16,
   "id": "9332b9f0",
   "metadata": {},
   "outputs": [
    {
     "name": "stdout",
     "output_type": "stream",
     "text": [
      "model\n",
      "Yes model exist\n"
     ]
    }
   ],
   "source": [
    "s= input()\n",
    "if s in thisdict:\n",
    "    print(\"Yes\",s ,\"exist\")"
   ]
  },
  {
   "cell_type": "code",
   "execution_count": null,
   "id": "23d46e32",
   "metadata": {},
   "outputs": [],
   "source": []
  }
 ],
 "metadata": {
  "kernelspec": {
   "display_name": "Python 3",
   "language": "python",
   "name": "python3"
  },
  "language_info": {
   "codemirror_mode": {
    "name": "ipython",
    "version": 3
   },
   "file_extension": ".py",
   "mimetype": "text/x-python",
   "name": "python",
   "nbconvert_exporter": "python",
   "pygments_lexer": "ipython3",
   "version": "3.8.8"
  }
 },
 "nbformat": 4,
 "nbformat_minor": 5
}
