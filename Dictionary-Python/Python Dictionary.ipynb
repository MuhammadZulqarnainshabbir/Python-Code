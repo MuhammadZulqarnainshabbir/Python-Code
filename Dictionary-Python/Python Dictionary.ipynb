{
 "cells": [
  {
   "cell_type": "markdown",
   "id": "c853af32",
   "metadata": {},
   "source": [
    "**Question:** Print the data type of a dictionary"
   ]
  },
  {
   "cell_type": "code",
   "execution_count": 4,
   "id": "18a49506",
   "metadata": {},
   "outputs": [
    {
     "name": "stdout",
     "output_type": "stream",
     "text": [
      "{'name': 'BMW', 'Model': '1024', 'Year': '2022', 'color': 'Black'}\n"
     ]
    }
   ],
   "source": [
    "car={\n",
    "    \"name\" : \"BMW\",\n",
    "    \"Model\": \"1024\",\n",
    "    \"Year\" :\"2022\",\n",
    "    \"color\": \"Black\"\n",
    "}\n",
    "print(car)"
   ]
  },
  {
   "cell_type": "code",
   "execution_count": 3,
   "id": "95ca9075",
   "metadata": {},
   "outputs": [
    {
     "name": "stdout",
     "output_type": "stream",
     "text": [
      "BMW\n"
     ]
    }
   ],
   "source": [
    "print(car['name'])"
   ]
  },
  {
   "cell_type": "markdown",
   "id": "a0ab9fa7",
   "metadata": {},
   "source": [
    "### if we want to check the length of a dictionary we can use the len() function"
   ]
  },
  {
   "cell_type": "code",
   "execution_count": 5,
   "id": "50596e08",
   "metadata": {},
   "outputs": [
    {
     "name": "stdout",
     "output_type": "stream",
     "text": [
      "4\n"
     ]
    }
   ],
   "source": [
    "print(len(car))"
   ]
  },
  {
   "cell_type": "markdown",
   "id": "5e884e1c",
   "metadata": {},
   "source": [
    "### The values inside dictionary can be of any datatypes\n",
    "\n",
    "- String, int, boolean and list data types"
   ]
  },
  {
   "cell_type": "code",
   "execution_count": 6,
   "id": "1fc3b76a",
   "metadata": {},
   "outputs": [
    {
     "ename": "SyntaxError",
     "evalue": "invalid syntax (<ipython-input-6-7d04a3897fd4>, line 5)",
     "output_type": "error",
     "traceback": [
      "\u001b[1;36m  File \u001b[1;32m\"<ipython-input-6-7d04a3897fd4>\"\u001b[1;36m, line \u001b[1;32m5\u001b[0m\n\u001b[1;33m    \"color\" : [\"red\",\"blue\",\"Black\"]\u001b[0m\n\u001b[1;37m    ^\u001b[0m\n\u001b[1;31mSyntaxError\u001b[0m\u001b[1;31m:\u001b[0m invalid syntax\n"
     ]
    }
   ],
   "source": [
    "thisdict ={\n",
    "    \"Brand\" :\"Ford\",\n",
    "    \"Electric\" : False,\n",
    "    \"year\" : 2020\n",
    "    \"color\" : [\"red\",\"blue\",\"Black\"]\n",
    "\n",
    "}\n",
    "print(thisdict['color'])"
   ]
  },
  {
   "cell_type": "code",
   "execution_count": null,
   "id": "f3f18473",
   "metadata": {},
   "outputs": [],
   "source": []
  }
 ],
 "metadata": {
  "kernelspec": {
   "display_name": "Python 3",
   "language": "python",
   "name": "python3"
  },
  "language_info": {
   "codemirror_mode": {
    "name": "ipython",
    "version": 3
   },
   "file_extension": ".py",
   "mimetype": "text/x-python",
   "name": "python",
   "nbconvert_exporter": "python",
   "pygments_lexer": "ipython3",
   "version": "3.8.8"
  }
 },
 "nbformat": 4,
 "nbformat_minor": 5
}
