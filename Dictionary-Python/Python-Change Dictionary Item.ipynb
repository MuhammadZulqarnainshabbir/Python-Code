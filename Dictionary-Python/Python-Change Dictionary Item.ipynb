{
 "cells": [
  {
   "cell_type": "markdown",
   "id": "8de49023",
   "metadata": {},
   "source": [
    "### we can change value of specific item by referring to its key name"
   ]
  },
  {
   "cell_type": "markdown",
   "id": "b54dbe42",
   "metadata": {},
   "source": [
    "- Change the \"year\" to 2018"
   ]
  },
  {
   "cell_type": "code",
   "execution_count": 1,
   "id": "f7ab2d59",
   "metadata": {},
   "outputs": [
    {
     "name": "stdout",
     "output_type": "stream",
     "text": [
      "{'brand': 'Ford', 'model': 'Mustang', 'year': 2018}\n"
     ]
    }
   ],
   "source": [
    "thisdict = {\n",
    "  \"brand\": \"Ford\",\n",
    "  \"model\": \"Mustang\",\n",
    "  \"year\": 1964\n",
    "}\n",
    "\n",
    "thisdict['year']=2018\n",
    "print(thisdict)"
   ]
  },
  {
   "cell_type": "markdown",
   "id": "0527d012",
   "metadata": {},
   "source": [
    "- As you can see we have successfully changed the year values to 2018"
   ]
  },
  {
   "cell_type": "markdown",
   "id": "a8e73952",
   "metadata": {},
   "source": [
    " ###   🔴: the update() method will update the dictionary with the items from the given argument"
   ]
  },
  {
   "cell_type": "markdown",
   "id": "edfc48b9",
   "metadata": {},
   "source": [
    "- The argument must be a dictionary or an iterable object with key:value pair"
   ]
  },
  {
   "cell_type": "markdown",
   "id": "c9f71b66",
   "metadata": {},
   "source": [
    "- lets update year of the car using update() method"
   ]
  },
  {
   "cell_type": "code",
   "execution_count": 4,
   "id": "6d7a8906",
   "metadata": {},
   "outputs": [
    {
     "name": "stdout",
     "output_type": "stream",
     "text": [
      "{'brand': 'Ford', 'model': 'Mustang', 'year': 2020}\n"
     ]
    }
   ],
   "source": [
    "car = {\n",
    "  \"brand\": \"Ford\",\n",
    "  \"model\": \"Mustang\",\n",
    "  \"year\": 1964\n",
    "}\n",
    "car.update({\"year\": 2020})\n",
    "print(car)"
   ]
  },
  {
   "cell_type": "code",
   "execution_count": null,
   "id": "a7fa1a2b",
   "metadata": {},
   "outputs": [],
   "source": []
  }
 ],
 "metadata": {
  "kernelspec": {
   "display_name": "Python 3",
   "language": "python",
   "name": "python3"
  },
  "language_info": {
   "codemirror_mode": {
    "name": "ipython",
    "version": 3
   },
   "file_extension": ".py",
   "mimetype": "text/x-python",
   "name": "python",
   "nbconvert_exporter": "python",
   "pygments_lexer": "ipython3",
   "version": "3.8.8"
  }
 },
 "nbformat": 4,
 "nbformat_minor": 5
}
