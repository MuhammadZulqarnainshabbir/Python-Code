{
 "cells": [
  {
   "cell_type": "markdown",
   "id": "6fafd9f0",
   "metadata": {},
   "source": [
    "# Removing Items"
   ]
  },
  {
   "cell_type": "markdown",
   "id": "c465cfaa",
   "metadata": {},
   "source": [
    "There are several Methods of Removing from dictionary:\n",
    "\n",
    "- **pop()**\n",
    "- **popitem()**\n",
    "- **clear()**\n",
    "- **del**"
   ]
  },
  {
   "cell_type": "markdown",
   "id": "6e15b6b4",
   "metadata": {},
   "source": [
    "### pop()"
   ]
  },
  {
   "cell_type": "markdown",
   "id": "cd55e8bf",
   "metadata": {},
   "source": [
    "- The pop() method removes the item with specified key name"
   ]
  },
  {
   "cell_type": "code",
   "execution_count": 2,
   "id": "0e53a7bf",
   "metadata": {},
   "outputs": [
    {
     "name": "stdout",
     "output_type": "stream",
     "text": [
      "{'brand': 'Ford', 'model': 'Mustang'}\n"
     ]
    }
   ],
   "source": [
    "thisdict = {\n",
    "  \"brand\": \"Ford\",\n",
    "  \"model\": \"Mustang\",\n",
    "  \"year\": 1964\n",
    "}\n",
    "thisdict.pop(\"year\")\n",
    "print(thisdict)"
   ]
  },
  {
   "cell_type": "markdown",
   "id": "b0906807",
   "metadata": {},
   "source": [
    "### popitem()"
   ]
  },
  {
   "cell_type": "markdown",
   "id": "407a4884",
   "metadata": {},
   "source": [
    "- popitem() removes the last inserted item from dictionary"
   ]
  },
  {
   "cell_type": "code",
   "execution_count": 4,
   "id": "ad1fb288",
   "metadata": {},
   "outputs": [
    {
     "name": "stdout",
     "output_type": "stream",
     "text": [
      "{'brand': 'Ford', 'model': 'Mustang'}\n"
     ]
    }
   ],
   "source": [
    "mydict = {\n",
    "  \"brand\": \"Ford\",\n",
    "  \"model\": \"Mustang\",\n",
    "  \"year\": 1964\n",
    "}\n",
    "mydict.popitem()\n",
    "print(mydict)"
   ]
  },
  {
   "cell_type": "markdown",
   "id": "3cdf4a8c",
   "metadata": {},
   "source": [
    "### clear()"
   ]
  },
  {
   "cell_type": "markdown",
   "id": "78140667",
   "metadata": {},
   "source": [
    "- clear() method clear the whole dictionary/ empties the dictionary"
   ]
  },
  {
   "cell_type": "code",
   "execution_count": 6,
   "id": "5b31837a",
   "metadata": {},
   "outputs": [
    {
     "name": "stdout",
     "output_type": "stream",
     "text": [
      "{}\n"
     ]
    }
   ],
   "source": [
    "cdict = {\n",
    "  \"brand\": \"Ford\",\n",
    "  \"model\": \"Mustang\",\n",
    "  \"year\": 1964\n",
    "}\n",
    "cdict.clear()\n",
    "print(cdict)"
   ]
  },
  {
   "cell_type": "markdown",
   "id": "0860b58c",
   "metadata": {},
   "source": [
    "- it result an empty dictionary when we run our code"
   ]
  },
  {
   "cell_type": "markdown",
   "id": "5703aa63",
   "metadata": {},
   "source": [
    "### del"
   ]
  },
  {
   "cell_type": "markdown",
   "id": "fde6665b",
   "metadata": {},
   "source": [
    "- the del keyword deletes the whole dictionary"
   ]
  },
  {
   "cell_type": "code",
   "execution_count": 8,
   "id": "5d599dcc",
   "metadata": {},
   "outputs": [
    {
     "ename": "NameError",
     "evalue": "name 'ddict' is not defined",
     "output_type": "error",
     "traceback": [
      "\u001b[1;31m---------------------------------------------------------------------------\u001b[0m",
      "\u001b[1;31mNameError\u001b[0m                                 Traceback (most recent call last)",
      "\u001b[1;32m<ipython-input-8-c3cab96cb2eb>\u001b[0m in \u001b[0;36m<module>\u001b[1;34m\u001b[0m\n\u001b[0;32m      5\u001b[0m }\n\u001b[0;32m      6\u001b[0m \u001b[1;32mdel\u001b[0m \u001b[0mddict\u001b[0m\u001b[1;33m\u001b[0m\u001b[1;33m\u001b[0m\u001b[0m\n\u001b[1;32m----> 7\u001b[1;33m \u001b[0mprint\u001b[0m\u001b[1;33m(\u001b[0m\u001b[0mddict\u001b[0m\u001b[1;33m)\u001b[0m\u001b[1;33m\u001b[0m\u001b[1;33m\u001b[0m\u001b[0m\n\u001b[0m",
      "\u001b[1;31mNameError\u001b[0m: name 'ddict' is not defined"
     ]
    }
   ],
   "source": [
    "ddict = {\n",
    "  \"brand\": \"Ford\",\n",
    "  \"model\": \"Mustang\",\n",
    "  \"year\": 1964\n",
    "}\n",
    "del ddict\n",
    "print(ddict)"
   ]
  },
  {
   "cell_type": "markdown",
   "id": "15524621",
   "metadata": {},
   "source": [
    "- it will give us an error when we will run the code beacuse the we have all the deleted the dictionary using the del keyword and trying to print it after"
   ]
  }
 ],
 "metadata": {
  "kernelspec": {
   "display_name": "Python 3",
   "language": "python",
   "name": "python3"
  },
  "language_info": {
   "codemirror_mode": {
    "name": "ipython",
    "version": 3
   },
   "file_extension": ".py",
   "mimetype": "text/x-python",
   "name": "python",
   "nbconvert_exporter": "python",
   "pygments_lexer": "ipython3",
   "version": "3.8.8"
  }
 },
 "nbformat": 4,
 "nbformat_minor": 5
}
