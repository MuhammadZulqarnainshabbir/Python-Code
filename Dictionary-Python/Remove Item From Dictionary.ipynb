{
 "cells": [
  {
   "cell_type": "markdown",
   "id": "7940bd24",
   "metadata": {},
   "source": [
    "# Removing Items"
   ]
  },
  {
   "cell_type": "markdown",
   "id": "1fb0ef60",
   "metadata": {},
   "source": [
    "There are several Methods of Removing from dictionary:\n",
    "\n",
    "- **pop()**\n",
    "- **popitem()**\n",
    "- **clear()**\n",
    "- **del**"
   ]
  },
  {
   "cell_type": "markdown",
   "id": "2848e0b9",
   "metadata": {},
   "source": [
    "### pop()"
   ]
  },
  {
   "cell_type": "markdown",
   "id": "7d45ba9f",
   "metadata": {},
   "source": [
    "- The pop() method removes the item with specified key name"
   ]
  },
  {
   "cell_type": "code",
   "execution_count": 2,
   "id": "fd4f58af",
   "metadata": {},
   "outputs": [
    {
     "name": "stdout",
     "output_type": "stream",
     "text": [
      "{'brand': 'Ford', 'model': 'Mustang'}\n"
     ]
    }
   ],
   "source": [
    "thisdict = {\n",
    "  \"brand\": \"Ford\",\n",
    "  \"model\": \"Mustang\",\n",
    "  \"year\": 1964\n",
    "}\n",
    "thisdict.pop(\"year\")\n",
    "print(thisdict)"
   ]
  },
  {
   "cell_type": "markdown",
   "id": "12e74dc1",
   "metadata": {},
   "source": [
    "### popitem()"
   ]
  },
  {
   "cell_type": "markdown",
   "id": "1ed9e727",
   "metadata": {},
   "source": [
    "- popitem() removes the last inserted item from dictionary"
   ]
  },
  {
   "cell_type": "code",
   "execution_count": 4,
   "id": "c2300b5a",
   "metadata": {},
   "outputs": [
    {
     "name": "stdout",
     "output_type": "stream",
     "text": [
      "{'brand': 'Ford', 'model': 'Mustang'}\n"
     ]
    }
   ],
   "source": [
    "mydict = {\n",
    "  \"brand\": \"Ford\",\n",
    "  \"model\": \"Mustang\",\n",
    "  \"year\": 1964\n",
    "}\n",
    "mydict.popitem()\n",
    "print(mydict)"
   ]
  },
  {
   "cell_type": "markdown",
   "id": "cc02f976",
   "metadata": {},
   "source": [
    "### clear()"
   ]
  },
  {
   "cell_type": "markdown",
   "id": "bf06aa0b",
   "metadata": {},
   "source": [
    "- clear() method clear the whole dictionary/ empties the dictionary"
   ]
  },
  {
   "cell_type": "code",
   "execution_count": 6,
   "id": "4d9203dd",
   "metadata": {},
   "outputs": [
    {
     "name": "stdout",
     "output_type": "stream",
     "text": [
      "{}\n"
     ]
    }
   ],
   "source": [
    "cdict = {\n",
    "  \"brand\": \"Ford\",\n",
    "  \"model\": \"Mustang\",\n",
    "  \"year\": 1964\n",
    "}\n",
    "cdict.clear()\n",
    "print(cdict)"
   ]
  },
  {
   "cell_type": "markdown",
   "id": "eb127e89",
   "metadata": {},
   "source": [
    "- it result an empty dictionary when we run our code"
   ]
  },
  {
   "cell_type": "markdown",
   "id": "e61bc94a",
   "metadata": {},
   "source": [
    "### del"
   ]
  },
  {
   "cell_type": "markdown",
   "id": "5fc5bbad",
   "metadata": {},
   "source": [
    "- the del keyword deletes the whole dictionary"
   ]
  },
  {
   "cell_type": "code",
   "execution_count": 7,
   "id": "29ba6517",
   "metadata": {},
   "outputs": [
    {
     "ename": "SyntaxError",
     "evalue": "invalid syntax (<ipython-input-7-bdf568404fc5>, line 6)",
     "output_type": "error",
     "traceback": [
      "\u001b[1;36m  File \u001b[1;32m\"<ipython-input-7-bdf568404fc5>\"\u001b[1;36m, line \u001b[1;32m6\u001b[0m\n\u001b[1;33m    ddict.del()\u001b[0m\n\u001b[1;37m          ^\u001b[0m\n\u001b[1;31mSyntaxError\u001b[0m\u001b[1;31m:\u001b[0m invalid syntax\n"
     ]
    }
   ],
   "source": [
    "ddict = {\n",
    "  \"brand\": \"Ford\",\n",
    "  \"model\": \"Mustang\",\n",
    "  \"year\": 1964\n",
    "}\n",
    "ddict.del()\n",
    "print(ddict)"
   ]
  },
  {
   "cell_type": "code",
   "execution_count": null,
   "id": "7ec87ce8",
   "metadata": {},
   "outputs": [],
   "source": []
  }
 ],
 "metadata": {
  "kernelspec": {
   "display_name": "Python 3",
   "language": "python",
   "name": "python3"
  },
  "language_info": {
   "codemirror_mode": {
    "name": "ipython",
    "version": 3
   },
   "file_extension": ".py",
   "mimetype": "text/x-python",
   "name": "python",
   "nbconvert_exporter": "python",
   "pygments_lexer": "ipython3",
   "version": "3.8.8"
  }
 },
 "nbformat": 4,
 "nbformat_minor": 5
}
