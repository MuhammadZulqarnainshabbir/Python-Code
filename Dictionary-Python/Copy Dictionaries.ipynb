{
 "cells": [
  {
   "cell_type": "markdown",
   "id": "51b4c12e",
   "metadata": {},
   "source": [
    "# Copy a Dictionary"
   ]
  },
  {
   "cell_type": "markdown",
   "id": "c77cfe6f",
   "metadata": {},
   "source": [
    "- copy()\n",
    "- dict()"
   ]
  },
  {
   "cell_type": "markdown",
   "id": "223d2ae5",
   "metadata": {},
   "source": [
    "- we cannot simply copy a dictionary to another by typing dictone = dicttwo, this will just simply create dicttwo reference to dictone and when changes are in dicttwo there will be an automatically change in dictone and we dont want that."
   ]
  },
  {
   "cell_type": "markdown",
   "id": "8c93f434",
   "metadata": {},
   "source": [
    "# Copy()"
   ]
  },
  {
   "cell_type": "markdown",
   "id": "bf9c7058",
   "metadata": {},
   "source": [
    "- we will use copy method to copy one dictionary to another"
   ]
  },
  {
   "cell_type": "code",
   "execution_count": 1,
   "id": "e754b1ff",
   "metadata": {},
   "outputs": [
    {
     "name": "stdout",
     "output_type": "stream",
     "text": [
      "{'brand': 'Ford', 'model': 'Mustang', 'year': 1964}\n"
     ]
    }
   ],
   "source": [
    "thisdict = {\n",
    "  \"brand\": \"Ford\",\n",
    "  \"model\": \"Mustang\",\n",
    "  \"year\": 1964\n",
    "}\n",
    "mydict= thisdict.copy()\n",
    "print(mydict)"
   ]
  },
  {
   "cell_type": "markdown",
   "id": "e62c3b0e",
   "metadata": {},
   "source": [
    "- As we can see we have sucessfully copied one dictionary to another"
   ]
  },
  {
   "cell_type": "markdown",
   "id": "0b881674",
   "metadata": {},
   "source": [
    "# dict()"
   ]
  },
  {
   "cell_type": "markdown",
   "id": "81709503",
   "metadata": {},
   "source": [
    "- we can use another method to copy one dictionary to another"
   ]
  },
  {
   "cell_type": "code",
   "execution_count": 2,
   "id": "a8ce196d",
   "metadata": {},
   "outputs": [
    {
     "name": "stdout",
     "output_type": "stream",
     "text": [
      "{'brand': 'Ford', 'model': 'Mustang', 'year': 1964}\n"
     ]
    }
   ],
   "source": [
    "copydict=dict(thisdict)\n",
    "print(copydict)"
   ]
  },
  {
   "cell_type": "code",
   "execution_count": null,
   "id": "6a0aa928",
   "metadata": {},
   "outputs": [],
   "source": [
    "as we witness we have successfully copied a dictiona"
   ]
  }
 ],
 "metadata": {
  "kernelspec": {
   "display_name": "Python 3",
   "language": "python",
   "name": "python3"
  },
  "language_info": {
   "codemirror_mode": {
    "name": "ipython",
    "version": 3
   },
   "file_extension": ".py",
   "mimetype": "text/x-python",
   "name": "python",
   "nbconvert_exporter": "python",
   "pygments_lexer": "ipython3",
   "version": "3.8.8"
  }
 },
 "nbformat": 4,
 "nbformat_minor": 5
}
