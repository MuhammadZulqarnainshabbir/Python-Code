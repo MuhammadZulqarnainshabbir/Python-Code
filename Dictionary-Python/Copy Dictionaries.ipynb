{
 "cells": [
  {
   "cell_type": "markdown",
   "id": "f98da796",
   "metadata": {},
   "source": [
    "# Copy a Dictionary"
   ]
  },
  {
   "cell_type": "markdown",
   "id": "527a8b03",
   "metadata": {},
   "source": [
    "- copy()\n",
    "- dict()"
   ]
  },
  {
   "cell_type": "markdown",
   "id": "1c400843",
   "metadata": {},
   "source": [
    "- we cannot simply copy a dictionary to another by typing dictone = dicttwo, this will just simply create dicttwo reference to dictone and when changes are in dicttwo there will be an automatically change in dictone and we dont want that."
   ]
  },
  {
   "cell_type": "markdown",
   "id": "bcd4ace9",
   "metadata": {},
   "source": [
    "# Copy()"
   ]
  },
  {
   "cell_type": "markdown",
   "id": "36b4aba5",
   "metadata": {},
   "source": [
    "- we will use copy method to copy one dictionary to another"
   ]
  },
  {
   "cell_type": "code",
   "execution_count": 1,
   "id": "af250d9c",
   "metadata": {},
   "outputs": [
    {
     "name": "stdout",
     "output_type": "stream",
     "text": [
      "{'brand': 'Ford', 'model': 'Mustang', 'year': 1964}\n"
     ]
    }
   ],
   "source": [
    "thisdict = {\n",
    "  \"brand\": \"Ford\",\n",
    "  \"model\": \"Mustang\",\n",
    "  \"year\": 1964\n",
    "}\n",
    "mydict= thisdict.copy()\n",
    "print(mydict)"
   ]
  },
  {
   "cell_type": "markdown",
   "id": "b3e48326",
   "metadata": {},
   "source": [
    "- As we can see we have sucessfully copied one dictionary to another"
   ]
  },
  {
   "cell_type": "markdown",
   "id": "cbd2299b",
   "metadata": {},
   "source": [
    "# dict()"
   ]
  },
  {
   "cell_type": "markdown",
   "id": "92eb14e2",
   "metadata": {},
   "source": [
    "- we can use another method to copy one dictionary to another"
   ]
  },
  {
   "cell_type": "code",
   "execution_count": 3,
   "id": "85c0be1d",
   "metadata": {},
   "outputs": [
    {
     "name": "stdout",
     "output_type": "stream",
     "text": [
      "{'brand': 'Ford', 'model': 'Mustang', 'year': 1964}\n"
     ]
    }
   ],
   "source": [
    "copydict={}\n",
    "copydict=dict(thisdict)\n",
    "print(copydict)"
   ]
  },
  {
   "cell_type": "markdown",
   "id": "618a4c8e",
   "metadata": {},
   "source": [
    "- As we witness we have successfully copied a dictionary to another"
   ]
  },
  {
   "cell_type": "code",
   "execution_count": null,
   "id": "7d803f90",
   "metadata": {},
   "outputs": [],
   "source": []
  }
 ],
 "metadata": {
  "kernelspec": {
   "display_name": "Python 3",
   "language": "python",
   "name": "python3"
  },
  "language_info": {
   "codemirror_mode": {
    "name": "ipython",
    "version": 3
   },
   "file_extension": ".py",
   "mimetype": "text/x-python",
   "name": "python",
   "nbconvert_exporter": "python",
   "pygments_lexer": "ipython3",
   "version": "3.8.8"
  }
 },
 "nbformat": 4,
 "nbformat_minor": 5
}
