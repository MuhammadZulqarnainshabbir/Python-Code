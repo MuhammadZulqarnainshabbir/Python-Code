{
 "cells": [
  {
   "cell_type": "markdown",
   "id": "d8e6dc56",
   "metadata": {},
   "source": [
    "# Adding Items\n",
    "\n",
    "- Adding an item to dictionary can be done using a new index key and assigning a value to it."
   ]
  },
  {
   "cell_type": "code",
   "execution_count": 1,
   "id": "0546fcd9",
   "metadata": {},
   "outputs": [
    {
     "name": "stdout",
     "output_type": "stream",
     "text": [
      "{'brand': 'Ford', 'model': 'Mustang', 'year': 1964, 'color': 'White'}\n"
     ]
    }
   ],
   "source": [
    "thisdict = {\n",
    "  \"brand\": \"Ford\",\n",
    "  \"model\": \"Mustang\",\n",
    "  \"year\": 1964\n",
    "}\n",
    "thisdict['color'] =\"White\"\n",
    "print(thisdict)"
   ]
  },
  {
   "cell_type": "markdown",
   "id": "278b1c0e",
   "metadata": {},
   "source": [
    "# Update Dictionary"
   ]
  },
  {
   "cell_type": "markdown",
   "id": "cca14a9f",
   "metadata": {},
   "source": [
    "- The update() method will update an item with goven argument, if the item does not exist, the item will added"
   ]
  },
  {
   "cell_type": "markdown",
   "id": "2db44958",
   "metadata": {},
   "source": [
    "- Again, the argument to update() method should be dictionary or any other iterable"
   ]
  },
  {
   "cell_type": "code",
   "execution_count": 2,
   "id": "9f55ddf2",
   "metadata": {},
   "outputs": [
    {
     "name": "stdout",
     "output_type": "stream",
     "text": [
      "{'brand': 'Ford', 'model': 'Mustang', 'year': 1964, 'color': 'White', 'owner': 'Jhon'}\n"
     ]
    }
   ],
   "source": [
    "thisdict.update({\"owner\":\"Jhon\"})\n",
    "print(thisdict)"
   ]
  },
  {
   "cell_type": "code",
   "execution_count": null,
   "id": "6219bf80",
   "metadata": {},
   "outputs": [],
   "source": []
  }
 ],
 "metadata": {
  "kernelspec": {
   "display_name": "Python 3",
   "language": "python",
   "name": "python3"
  },
  "language_info": {
   "codemirror_mode": {
    "name": "ipython",
    "version": 3
   },
   "file_extension": ".py",
   "mimetype": "text/x-python",
   "name": "python",
   "nbconvert_exporter": "python",
   "pygments_lexer": "ipython3",
   "version": "3.8.8"
  }
 },
 "nbformat": 4,
 "nbformat_minor": 5
}
