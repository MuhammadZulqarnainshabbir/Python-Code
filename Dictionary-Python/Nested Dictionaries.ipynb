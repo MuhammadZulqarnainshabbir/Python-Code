{
 "cells": [
  {
   "cell_type": "markdown",
   "id": "9393fc66",
   "metadata": {},
   "source": [
    "# Nested Dictionaries"
   ]
  },
  {
   "cell_type": "markdown",
   "id": "4668990c",
   "metadata": {},
   "source": [
    "- A dictionary can conatain dictionaries, this is called nested dictionaries"
   ]
  },
  {
   "cell_type": "code",
   "execution_count": 8,
   "id": "6e4ab7dd",
   "metadata": {},
   "outputs": [
    {
     "name": "stdout",
     "output_type": "stream",
     "text": [
      "{'Man': {'name': 'Jhon', 'eye_color': 'Brown'}, 'Women': {'name': 'Tina', 'eye_color': 'Black'}}\n"
     ]
    }
   ],
   "source": [
    "myfamily ={\n",
    "    \"Man\":{\n",
    "        \"name\" : \"Jhon\",\n",
    "        \"eye_color\": \"Brown\"\n",
    "    },\n",
    "    \"Women\":{\n",
    "         \"name\" : \"Tina\",\n",
    "        \"eye_color\": \"Black\"\n",
    "    },\n",
    "    \n",
    "}\n",
    "print(myfamily)"
   ]
  },
  {
   "cell_type": "markdown",
   "id": "691b22bb",
   "metadata": {},
   "source": [
    "- we can add furthur dictionaries to a nested dictionary as shown follows"
   ]
  },
  {
   "cell_type": "code",
   "execution_count": 6,
   "id": "d28a0502",
   "metadata": {},
   "outputs": [],
   "source": [
    "child1 ={\n",
    "    \"name\":\"Tim\",\n",
    "    \"eye_color\": \"Brown\"\n",
    "}\n",
    "myfamily.update({\"child1\":child1})\n"
   ]
  },
  {
   "cell_type": "code",
   "execution_count": 7,
   "id": "b05d8c2e",
   "metadata": {},
   "outputs": [
    {
     "name": "stdout",
     "output_type": "stream",
     "text": [
      "{'Man': {'name': 'Jhon', 'eye_color': 'Brown'}, 'Women': {'name': 'Tina', 'eye_color': 'Black'}, 'name': 'Tim', 'eye_color': 'Brown', 'child1': {'name': 'Tim', 'eye_color': 'Brown'}}\n"
     ]
    }
   ],
   "source": [
    "print(myfamily\n",
    "     )"
   ]
  },
  {
   "cell_type": "code",
   "execution_count": null,
   "id": "9d0b2abc",
   "metadata": {},
   "outputs": [],
   "source": []
  }
 ],
 "metadata": {
  "kernelspec": {
   "display_name": "Python 3",
   "language": "python",
   "name": "python3"
  },
  "language_info": {
   "codemirror_mode": {
    "name": "ipython",
    "version": 3
   },
   "file_extension": ".py",
   "mimetype": "text/x-python",
   "name": "python",
   "nbconvert_exporter": "python",
   "pygments_lexer": "ipython3",
   "version": "3.8.8"
  }
 },
 "nbformat": 4,
 "nbformat_minor": 5
}
