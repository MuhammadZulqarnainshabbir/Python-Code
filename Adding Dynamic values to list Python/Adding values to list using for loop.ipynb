{
 "cells": [
  {
   "cell_type": "code",
   "execution_count": 2,
   "id": "0c90fda2",
   "metadata": {},
   "outputs": [
    {
     "name": "stdout",
     "output_type": "stream",
     "text": [
      "please enter the size of your list:  5\n",
      "please enter the values of your list:  1\n",
      "please enter the values of your list:  2\n",
      "please enter the values of your list:  3\n",
      "please enter the values of your list:  4\n",
      "please enter the values of your list:  5\n",
      "[1, 2, 3, 4, 5]\n"
     ]
    }
   ],
   "source": [
    "# Taking dynamic values from user to create the list \n",
    "\n",
    "a=[]  #a is empty list where we will add our values for list\n",
    "\n",
    "\n",
    "size=int(input(\"please enter the size of your list:  \")) #size is the size of list which will given us from the user\n",
    "\n",
    "for i in range(size): #For loop will be use to enter values in the list \n",
    "    \n",
    "    val=int(input(\"please enter the values in  your list:  \")) # value that user at each iteration will be saved in val\n",
    "    \n",
    "    a.append(val) # we append the list and add values to it at each iteration\n",
    "\n",
    "print(a)    "
   ]
  }
 ],
 "metadata": {
  "kernelspec": {
   "display_name": "Python 3",
   "language": "python",
   "name": "python3"
  },
  "language_info": {
   "codemirror_mode": {
    "name": "ipython",
    "version": 3
   },
   "file_extension": ".py",
   "mimetype": "text/x-python",
   "name": "python",
   "nbconvert_exporter": "python",
   "pygments_lexer": "ipython3",
   "version": "3.8.8"
  }
 },
 "nbformat": 4,
 "nbformat_minor": 5
}
