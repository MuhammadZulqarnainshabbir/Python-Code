{
 "cells": [
  {
   "cell_type": "code",
   "execution_count": 10,
   "id": "818318bc",
   "metadata": {},
   "outputs": [
    {
     "name": "stdout",
     "output_type": "stream",
     "text": [
      "5 is greater than 2\n"
     ]
    }
   ],
   "source": [
    "\n",
    "# Python uses whitespaces to define the scope of a program or block of code\n",
    "if 5>2:\n",
    "   print (\"5 is greater than 2\")"
   ]
  },
  {
   "cell_type": "code",
   "execution_count": 13,
   "id": "98aed7da",
   "metadata": {},
   "outputs": [
    {
     "ename": "IndentationError",
     "evalue": "expected an indented block (<ipython-input-13-de17b47c65f2>, line 3)",
     "output_type": "error",
     "traceback": [
      "\u001b[1;36m  File \u001b[1;32m\"<ipython-input-13-de17b47c65f2>\"\u001b[1;36m, line \u001b[1;32m3\u001b[0m\n\u001b[1;33m    print (\"5 is greater than 2\")\u001b[0m\n\u001b[1;37m    ^\u001b[0m\n\u001b[1;31mIndentationError\u001b[0m\u001b[1;31m:\u001b[0m expected an indented block\n"
     ]
    }
   ],
   "source": [
    "# python will give an error if you miss the indentation or whitespaces \n",
    "if 5>2:\n",
    "print (\"5 is greater than 2\")"
   ]
  },
  {
   "cell_type": "code",
   "execution_count": 14,
   "id": "41d615a8",
   "metadata": {},
   "outputs": [
    {
     "name": "stdout",
     "output_type": "stream",
     "text": [
      "5 is greater than 2\n",
      "7 is greater than 6\n"
     ]
    }
   ],
   "source": [
    "# The most common used is four spaces and but there should atleast one white space to define the scope of the project\n",
    "\n",
    "if 5>2:\n",
    " print(\"5 is greater than 2\")\n",
    "if 7>6:\n",
    "    print(\"7 is greater than 6\")    "
   ]
  },
  {
   "cell_type": "code",
   "execution_count": 16,
   "id": "6213fb5a",
   "metadata": {},
   "outputs": [
    {
     "ename": "IndentationError",
     "evalue": "unexpected indent (<ipython-input-16-f85afa337303>, line 4)",
     "output_type": "error",
     "traceback": [
      "\u001b[1;36m  File \u001b[1;32m\"<ipython-input-16-f85afa337303>\"\u001b[1;36m, line \u001b[1;32m4\u001b[0m\n\u001b[1;33m    print(\"Five is greater than two!\")\u001b[0m\n\u001b[1;37m    ^\u001b[0m\n\u001b[1;31mIndentationError\u001b[0m\u001b[1;31m:\u001b[0m unexpected indent\n"
     ]
    }
   ],
   "source": [
    "# we have to give the same number of spaces in same block of code otherwise it will give you an error\n",
    "if 5 > 2:\n",
    " print(\"Five is greater than two!\")\n",
    "        print(\"Five is greater than two!\")"
   ]
  },
  {
   "cell_type": "code",
   "execution_count": 20,
   "id": "209ae10f",
   "metadata": {},
   "outputs": [
    {
     "name": "stdout",
     "output_type": "stream",
     "text": [
      "Hello World 5\n"
     ]
    }
   ],
   "source": [
    "X=5\n",
    "Y=\"Hello World\"\n",
    "print(Y,X)"
   ]
  },
  {
   "cell_type": "code",
   "execution_count": null,
   "id": "8733f069",
   "metadata": {},
   "outputs": [],
   "source": [
    "\"Python will ignore the strings that are not assign to a varibale so we can use them to write comments on python code\""
   ]
  }
 ],
 "metadata": {
  "kernelspec": {
   "display_name": "Python 3",
   "language": "python",
   "name": "python3"
  },
  "language_info": {
   "codemirror_mode": {
    "name": "ipython",
    "version": 3
   },
   "file_extension": ".py",
   "mimetype": "text/x-python",
   "name": "python",
   "nbconvert_exporter": "python",
   "pygments_lexer": "ipython3",
   "version": "3.8.8"
  }
 },
 "nbformat": 4,
 "nbformat_minor": 5
}
