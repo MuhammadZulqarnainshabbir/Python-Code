{
 "cells": [
  {
   "cell_type": "markdown",
   "id": "92fa821a",
   "metadata": {},
   "source": [
    "### Find minimum number using min math library"
   ]
  },
  {
   "cell_type": "code",
   "execution_count": 14,
   "id": "ccc20fe5",
   "metadata": {},
   "outputs": [
    {
     "name": "stdout",
     "output_type": "stream",
     "text": [
      "5\n"
     ]
    }
   ],
   "source": [
    "x = min(5,10,20)\n",
    "print(x)"
   ]
  },
  {
   "cell_type": "markdown",
   "id": "d00d530f",
   "metadata": {},
   "source": [
    "### Finding max number using math library"
   ]
  },
  {
   "cell_type": "code",
   "execution_count": 13,
   "id": "b83cfd59",
   "metadata": {},
   "outputs": [
    {
     "name": "stdout",
     "output_type": "stream",
     "text": [
      "3\n"
     ]
    }
   ],
   "source": [
    "y= max(2,3,1)\n",
    "print(y)"
   ]
  },
  {
   "cell_type": "markdown",
   "id": "48535547",
   "metadata": {},
   "source": [
    "### Finding positive Absolute value using math library "
   ]
  },
  {
   "cell_type": "code",
   "execution_count": 10,
   "id": "0ba6d75b",
   "metadata": {},
   "outputs": [
    {
     "name": "stdout",
     "output_type": "stream",
     "text": [
      "1.0\n"
     ]
    }
   ],
   "source": [
    "z= abs(-1.0)\n",
    "print(z)\n"
   ]
  },
  {
   "cell_type": "markdown",
   "id": "6c3f8926",
   "metadata": {},
   "source": [
    "### Taking Squre using math library"
   ]
  },
  {
   "cell_type": "code",
   "execution_count": 11,
   "id": "1ada4d60",
   "metadata": {},
   "outputs": [
    {
     "name": "stdout",
     "output_type": "stream",
     "text": [
      "8\n"
     ]
    }
   ],
   "source": [
    "c= pow(2,3)\n",
    "print(c)"
   ]
  },
  {
   "cell_type": "markdown",
   "id": "58b51131",
   "metadata": {},
   "source": [
    "### Taking square Root using math library"
   ]
  },
  {
   "cell_type": "code",
   "execution_count": 9,
   "id": "78adc8fb",
   "metadata": {},
   "outputs": [
    {
     "name": "stdout",
     "output_type": "stream",
     "text": [
      "1.4142135623730951\n"
     ]
    }
   ],
   "source": [
    "import math as mt\n",
    "s=mt.sqrt(2)\n",
    "print(s)"
   ]
  },
  {
   "cell_type": "markdown",
   "id": "08b06030",
   "metadata": {},
   "source": [
    "### Applying ceiling and floor in Python"
   ]
  },
  {
   "cell_type": "code",
   "execution_count": 7,
   "id": "71a93bac",
   "metadata": {},
   "outputs": [
    {
     "name": "stdout",
     "output_type": "stream",
     "text": [
      "2\n",
      "0\n"
     ]
    }
   ],
   "source": [
    "i= mt.ceil(1.1)\n",
    "o= mt.floor(0.9)\n",
    "print(i)\n",
    "print(o)"
   ]
  },
  {
   "cell_type": "markdown",
   "id": "f8726a5b",
   "metadata": {},
   "source": [
    "## Checking the value of PI"
   ]
  },
  {
   "cell_type": "code",
   "execution_count": 8,
   "id": "ee7e6c9b",
   "metadata": {},
   "outputs": [
    {
     "name": "stdout",
     "output_type": "stream",
     "text": [
      "3.141592653589793\n"
     ]
    }
   ],
   "source": [
    "pi= mt.pi\n",
    "print(pi)"
   ]
  }
 ],
 "metadata": {
  "kernelspec": {
   "display_name": "Python 3",
   "language": "python",
   "name": "python3"
  },
  "language_info": {
   "codemirror_mode": {
    "name": "ipython",
    "version": 3
   },
   "file_extension": ".py",
   "mimetype": "text/x-python",
   "name": "python",
   "nbconvert_exporter": "python",
   "pygments_lexer": "ipython3",
   "version": "3.8.8"
  }
 },
 "nbformat": 4,
 "nbformat_minor": 5
}
