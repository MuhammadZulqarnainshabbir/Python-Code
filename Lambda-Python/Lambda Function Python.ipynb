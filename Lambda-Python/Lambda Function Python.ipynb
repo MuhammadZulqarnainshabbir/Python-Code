{
 "cells": [
  {
   "cell_type": "markdown",
   "id": "2ecc150c",
   "metadata": {},
   "source": [
    "- A lambda function is a small anonymous function.\n",
    "- A lambda Function can take any number of arguments but can have only one expression"
   ]
  },
  {
   "cell_type": "code",
   "execution_count": 1,
   "id": "654d8718",
   "metadata": {},
   "outputs": [
    {
     "name": "stdout",
     "output_type": "stream",
     "text": [
      "15\n"
     ]
    }
   ],
   "source": [
    "x= lambda a :a+10\n",
    "print(x(5))"
   ]
  },
  {
   "cell_type": "code",
   "execution_count": 3,
   "id": "9b15d0da",
   "metadata": {},
   "outputs": [
    {
     "name": "stdout",
     "output_type": "stream",
     "text": [
      "200\n"
     ]
    }
   ],
   "source": [
    "y = lambda a,b:a*b\n",
    "print(y(10,20))"
   ]
  },
  {
   "cell_type": "code",
   "execution_count": 4,
   "id": "aeadb316",
   "metadata": {},
   "outputs": [
    {
     "name": "stdout",
     "output_type": "stream",
     "text": [
      "20\n"
     ]
    }
   ],
   "source": [
    "def my_function(n):\n",
    "    return lambda a:a*n\n",
    "myfunc= my_function(10)\n",
    "print(myfunc(2))"
   ]
  },
  {
   "cell_type": "code",
   "execution_count": null,
   "id": "06a8483c",
   "metadata": {},
   "outputs": [],
   "source": [
    "use lambda functions when an anonymous function is required for short persio"
   ]
  }
 ],
 "metadata": {
  "kernelspec": {
   "display_name": "Python 3",
   "language": "python",
   "name": "python3"
  },
  "language_info": {
   "codemirror_mode": {
    "name": "ipython",
    "version": 3
   },
   "file_extension": ".py",
   "mimetype": "text/x-python",
   "name": "python",
   "nbconvert_exporter": "python",
   "pygments_lexer": "ipython3",
   "version": "3.8.8"
  }
 },
 "nbformat": 4,
 "nbformat_minor": 5
}
