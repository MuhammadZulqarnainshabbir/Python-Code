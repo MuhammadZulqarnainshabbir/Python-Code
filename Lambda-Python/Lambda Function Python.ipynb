{
 "cells": [
  {
   "cell_type": "markdown",
   "id": "1d8240f0",
   "metadata": {},
   "source": [
    "- A lambda function is a small anonymous function.\n",
    "- A lambda Function can take any number of arguments but can have only one expression"
   ]
  },
  {
   "cell_type": "code",
   "execution_count": 1,
   "id": "83d05e9c",
   "metadata": {},
   "outputs": [
    {
     "name": "stdout",
     "output_type": "stream",
     "text": [
      "15\n"
     ]
    }
   ],
   "source": [
    "x= lambda a :a+10\n",
    "print(x(5))"
   ]
  },
  {
   "cell_type": "code",
   "execution_count": 3,
   "id": "fe517b6e",
   "metadata": {},
   "outputs": [
    {
     "name": "stdout",
     "output_type": "stream",
     "text": [
      "200\n"
     ]
    }
   ],
   "source": [
    "y = lambda a,b:a*b\n",
    "print(y(10,20))"
   ]
  },
  {
   "cell_type": "code",
   "execution_count": 4,
   "id": "6557d635",
   "metadata": {},
   "outputs": [
    {
     "name": "stdout",
     "output_type": "stream",
     "text": [
      "20\n"
     ]
    }
   ],
   "source": [
    "def my_function(n):\n",
    "    return lambda a:a*n\n",
    "myfunc= my_function(10)\n",
    "print(myfunc(2))"
   ]
  },
  {
   "cell_type": "markdown",
   "id": "3d768f75",
   "metadata": {},
   "source": [
    "- use lambda functions when an anonymous function is required for short period of time"
   ]
  },
  {
   "cell_type": "code",
   "execution_count": null,
   "id": "a9a4302f",
   "metadata": {},
   "outputs": [],
   "source": []
  }
 ],
 "metadata": {
  "kernelspec": {
   "display_name": "Python 3",
   "language": "python",
   "name": "python3"
  },
  "language_info": {
   "codemirror_mode": {
    "name": "ipython",
    "version": 3
   },
   "file_extension": ".py",
   "mimetype": "text/x-python",
   "name": "python",
   "nbconvert_exporter": "python",
   "pygments_lexer": "ipython3",
   "version": "3.8.8"
  }
 },
 "nbformat": 4,
 "nbformat_minor": 5
}
