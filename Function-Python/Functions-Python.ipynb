{
 "cells": [
  {
   "cell_type": "code",
   "execution_count": 2,
   "id": "dce9071f",
   "metadata": {},
   "outputs": [
    {
     "name": "stdout",
     "output_type": "stream",
     "text": [
      "Hello From the first Function\n"
     ]
    }
   ],
   "source": [
    "def myfunction():\n",
    "    print(\"Hello From the first Function\")\n",
    "myfunction()"
   ]
  },
  {
   "cell_type": "code",
   "execution_count": 4,
   "id": "620341cf",
   "metadata": {},
   "outputs": [
    {
     "name": "stdout",
     "output_type": "stream",
     "text": [
      "Your First Name is:  Ali\n"
     ]
    }
   ],
   "source": [
    "def namefunction(fname):\n",
    "    print(\"Your First Name is: \", fname)\n",
    "namefunction(\"Ali\")"
   ]
  },
  {
   "cell_type": "code",
   "execution_count": 6,
   "id": "543e8712",
   "metadata": {},
   "outputs": [
    {
     "name": "stdout",
     "output_type": "stream",
     "text": [
      "Noman Ijaz\n"
     ]
    }
   ],
   "source": [
    "def ffunction(fname,lname):\n",
    "    print(fname +\" \"+lname)\n",
    "ffunction(\"Noman\", \"Ijaz\")"
   ]
  },
  {
   "cell_type": "markdown",
   "id": "acc8852d",
   "metadata": {},
   "source": [
    "### Arbitraty Aruguments"
   ]
  },
  {
   "cell_type": "code",
   "execution_count": 19,
   "id": "ae40ed78",
   "metadata": {},
   "outputs": [
    {
     "name": "stdout",
     "output_type": "stream",
     "text": [
      "This names of kid is: othman\n"
     ]
    }
   ],
   "source": [
    "def ifunction(*kids):\n",
    "    print(\"This names of kid is: \"+ kids[1])\n",
    "ifunction(\"Noman\",\"othman\",\"Zuman\")"
   ]
  },
  {
   "cell_type": "markdown",
   "id": "b2f55544",
   "metadata": {},
   "source": [
    "### Keyword Argument"
   ]
  },
  {
   "cell_type": "code",
   "execution_count": 20,
   "id": "136873bd",
   "metadata": {},
   "outputs": [
    {
     "name": "stdout",
     "output_type": "stream",
     "text": [
      "this is name of the child: Linus\n"
     ]
    }
   ],
   "source": [
    "def  familyfunction(child,child2,child3 ):\n",
    "    print(\"this is name of the child: \" + child3)\n",
    "familyfunction(child=\"emil\",child2=\"Tobia\",child3=\"Linus\")"
   ]
  },
  {
   "cell_type": "markdown",
   "id": "3df9ae6a",
   "metadata": {},
   "source": [
    "# Passing the list of arguments"
   ]
  },
  {
   "cell_type": "code",
   "execution_count": 21,
   "id": "76e28bc4",
   "metadata": {},
   "outputs": [
    {
     "name": "stdout",
     "output_type": "stream",
     "text": [
      "apple\n",
      "banana\n",
      "cherry\n"
     ]
    }
   ],
   "source": [
    "def my_function(food):\n",
    "    for x in food:\n",
    "        print(x)\n",
    "        \n",
    "fruits=[\"apple\",\"banana\",\"cherry\"]\n",
    "my_function(fruits)"
   ]
  },
  {
   "cell_type": "markdown",
   "id": "855c95e4",
   "metadata": {},
   "source": [
    "# Return values"
   ]
  },
  {
   "cell_type": "code",
   "execution_count": 22,
   "id": "9a99af84",
   "metadata": {},
   "outputs": [
    {
     "name": "stdout",
     "output_type": "stream",
     "text": [
      "15\n"
     ]
    }
   ],
   "source": [
    "def Rfunction(x):\n",
    "    return 5*x\n",
    "print(Rfunction(3))"
   ]
  },
  {
   "cell_type": "markdown",
   "id": "d9fd1637",
   "metadata": {},
   "source": [
    "# Pass Statement"
   ]
  },
  {
   "cell_type": "markdown",
   "id": "72793a35",
   "metadata": {},
   "source": [
    "-  Function body cannot be empty but for some reasons if you want it to be empty use pass statement"
   ]
  },
  {
   "cell_type": "code",
   "execution_count": 23,
   "id": "0c50e7fa",
   "metadata": {},
   "outputs": [],
   "source": [
    "def iffunction():\n",
    "    pass"
   ]
  },
  {
   "cell_type": "markdown",
   "id": "aeb9e174",
   "metadata": {},
   "source": [
    "# Recursion"
   ]
  },
  {
   "cell_type": "code",
   "execution_count": 27,
   "id": "c425f6d7",
   "metadata": {},
   "outputs": [
    {
     "name": "stdout",
     "output_type": "stream",
     "text": [
      "\n",
      "\n",
      "Recursion Example Results\n",
      "1\n",
      "3\n",
      "6\n",
      "10\n",
      "15\n"
     ]
    },
    {
     "data": {
      "text/plain": [
       "15"
      ]
     },
     "execution_count": 27,
     "metadata": {},
     "output_type": "execute_result"
    }
   ],
   "source": [
    "def tri_recursion(k):\n",
    "  if(k > 0):\n",
    "    result = k + tri_recursion(k - 1)\n",
    "    print(result)\n",
    "  else:\n",
    "    result = 0\n",
    "  return result\n",
    "\n",
    "print(\"\\n\\nRecursion Example Results\")\n",
    "tri_recursion(5)"
   ]
  },
  {
   "cell_type": "code",
   "execution_count": null,
   "id": "4f6b3986",
   "metadata": {},
   "outputs": [],
   "source": []
  }
 ],
 "metadata": {
  "kernelspec": {
   "display_name": "Python 3",
   "language": "python",
   "name": "python3"
  },
  "language_info": {
   "codemirror_mode": {
    "name": "ipython",
    "version": 3
   },
   "file_extension": ".py",
   "mimetype": "text/x-python",
   "name": "python",
   "nbconvert_exporter": "python",
   "pygments_lexer": "ipython3",
   "version": "3.8.8"
  }
 },
 "nbformat": 4,
 "nbformat_minor": 5
}
