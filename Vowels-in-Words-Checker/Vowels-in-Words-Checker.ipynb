{
 "cells": [
  {
   "cell_type": "code",
   "execution_count": 5,
   "id": "5f2fc253",
   "metadata": {},
   "outputs": [
    {
     "name": "stdout",
     "output_type": "stream",
     "text": [
      "ant\n",
      "the vowels in word are:  {'a'}\n",
      "After removing the vowels left over chracters are :  {'t', 'n'}\n"
     ]
    }
   ],
   "source": [
    "vowels = set(\"aiou\")\n",
    "word = set(input())\n",
    "\n",
    "result = word - vowels # results contains \n",
    "vow = vowels.intersection(word)\n",
    "print(\"the vowels in word are: \", vow)\n",
    "print(\"After removing the vowels left over chracters are : \",result)"
   ]
  },
  {
   "cell_type": "code",
   "execution_count": null,
   "id": "b061c963",
   "metadata": {},
   "outputs": [],
   "source": []
  }
 ],
 "metadata": {
  "kernelspec": {
   "display_name": "Python 3",
   "language": "python",
   "name": "python3"
  },
  "language_info": {
   "codemirror_mode": {
    "name": "ipython",
    "version": 3
   },
   "file_extension": ".py",
   "mimetype": "text/x-python",
   "name": "python",
   "nbconvert_exporter": "python",
   "pygments_lexer": "ipython3",
   "version": "3.8.8"
  }
 },
 "nbformat": 4,
 "nbformat_minor": 5
}
