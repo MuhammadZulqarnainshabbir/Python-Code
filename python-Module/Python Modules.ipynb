{
 "cells": [
  {
   "cell_type": "markdown",
   "id": "df73bdc3",
   "metadata": {},
   "source": [
    "# Python Modules\n",
    " - consider python modules to be same as a code library\n",
    " - A file containing a set of function you want to include in your application"
   ]
  },
  {
   "cell_type": "markdown",
   "id": "232967b4",
   "metadata": {},
   "source": [
    "## Create a Module"
   ]
  },
  {
   "cell_type": "markdown",
   "id": "ac30a911",
   "metadata": {},
   "source": [
    "- to create a module in python we should save fle with the extension of **.py**"
   ]
  },
  {
   "cell_type": "code",
   "execution_count": 2,
   "id": "6362908b",
   "metadata": {},
   "outputs": [],
   "source": [
    "import greetings"
   ]
  },
  {
   "cell_type": "code",
   "execution_count": 3,
   "id": "daa892fa",
   "metadata": {},
   "outputs": [
    {
     "name": "stdout",
     "output_type": "stream",
     "text": [
      "please enter you name\n",
      "Zulqarnain\n",
      "Welcome to our module : Zulqarnain\n"
     ]
    }
   ],
   "source": [
    "greetings.spgreetings()"
   ]
  },
  {
   "cell_type": "markdown",
   "id": "67dd40cd",
   "metadata": {},
   "source": [
    "## Naming a Module"
   ]
  },
  {
   "cell_type": "markdown",
   "id": "0e663862",
   "metadata": {},
   "source": [
    "- we can name the module file  whatever we want but it must have the file extension .py"
   ]
  },
  {
   "cell_type": "markdown",
   "id": "bc8fb4ff",
   "metadata": {},
   "source": [
    "## Re-naming a Module"
   ]
  },
  {
   "cell_type": "markdown",
   "id": "9947aa76",
   "metadata": {},
   "source": [
    " - we can create an alias when we import a module by using **as** Keyword"
   ]
  },
  {
   "cell_type": "code",
   "execution_count": 8,
   "id": "2dfdeb2a",
   "metadata": {},
   "outputs": [],
   "source": [
    "import platform as plt"
   ]
  },
  {
   "cell_type": "markdown",
   "id": "41c06027",
   "metadata": {},
   "source": [
    "## Built-in Modules"
   ]
  },
  {
   "cell_type": "markdown",
   "id": "0a9cc150",
   "metadata": {},
   "source": [
    "- there are many built-in modules in Python like pandas, numpy etc"
   ]
  },
  {
   "cell_type": "markdown",
   "id": "ea2b958b",
   "metadata": {},
   "source": [
    "## dir() Function "
   ]
  },
  {
   "cell_type": "markdown",
   "id": "3c7aadaf",
   "metadata": {},
   "source": [
    "- dir() function is an built in function which will list all the function name in a module"
   ]
  },
  {
   "cell_type": "code",
   "execution_count": 10,
   "id": "37ffa173",
   "metadata": {},
   "outputs": [
    {
     "name": "stdout",
     "output_type": "stream",
     "text": [
      "['BooleanDtype', 'Categorical', 'CategoricalDtype', 'CategoricalIndex', 'DataFrame', 'DateOffset', 'DatetimeIndex', 'DatetimeTZDtype', 'ExcelFile', 'ExcelWriter', 'Flags', 'Float32Dtype', 'Float64Dtype', 'Float64Index', 'Grouper', 'HDFStore', 'Index', 'IndexSlice', 'Int16Dtype', 'Int32Dtype', 'Int64Dtype', 'Int64Index', 'Int8Dtype', 'Interval', 'IntervalDtype', 'IntervalIndex', 'MultiIndex', 'NA', 'NaT', 'NamedAgg', 'Period', 'PeriodDtype', 'PeriodIndex', 'RangeIndex', 'Series', 'SparseDtype', 'StringDtype', 'Timedelta', 'TimedeltaIndex', 'Timestamp', 'UInt16Dtype', 'UInt32Dtype', 'UInt64Dtype', 'UInt64Index', 'UInt8Dtype', '__builtins__', '__cached__', '__doc__', '__docformat__', '__file__', '__getattr__', '__git_version__', '__loader__', '__name__', '__package__', '__path__', '__spec__', '__version__', '_config', '_hashtable', '_is_numpy_dev', '_lib', '_libs', '_np_version_under1p17', '_np_version_under1p18', '_testing', '_tslib', '_typing', '_version', 'api', 'array', 'arrays', 'bdate_range', 'compat', 'concat', 'core', 'crosstab', 'cut', 'date_range', 'describe_option', 'errors', 'eval', 'factorize', 'get_dummies', 'get_option', 'infer_freq', 'interval_range', 'io', 'isna', 'isnull', 'json_normalize', 'lreshape', 'melt', 'merge', 'merge_asof', 'merge_ordered', 'notna', 'notnull', 'offsets', 'option_context', 'options', 'pandas', 'period_range', 'pivot', 'pivot_table', 'plotting', 'qcut', 'read_clipboard', 'read_csv', 'read_excel', 'read_feather', 'read_fwf', 'read_gbq', 'read_hdf', 'read_html', 'read_json', 'read_orc', 'read_parquet', 'read_pickle', 'read_sas', 'read_spss', 'read_sql', 'read_sql_query', 'read_sql_table', 'read_stata', 'read_table', 'reset_option', 'set_eng_float_format', 'set_option', 'show_versions', 'test', 'testing', 'timedelta_range', 'to_datetime', 'to_numeric', 'to_pickle', 'to_timedelta', 'tseries', 'unique', 'util', 'value_counts', 'wide_to_long']\n"
     ]
    }
   ],
   "source": [
    "import pandas as pd\n",
    "print(dir(pd))"
   ]
  },
  {
   "cell_type": "markdown",
   "id": "f15d63ab",
   "metadata": {},
   "source": [
    "# Import from Module"
   ]
  },
  {
   "cell_type": "markdown",
   "id": "90a6609c",
   "metadata": {},
   "source": [
    "- We can choose what part of module we want to import from a module"
   ]
  },
  {
   "cell_type": "markdown",
   "id": "69875caa",
   "metadata": {},
   "source": [
    "- let say we have an module with differnt functions"
   ]
  },
  {
   "cell_type": "code",
   "execution_count": null,
   "id": "cdccb19b",
   "metadata": {},
   "outputs": [],
   "source": [
    "def greetingsMale():\n",
    "    print(\"Hello How are you Mr.\")\n",
    "def greetingFemale():\n",
    "    print(\"Hello How are you Miss\")\n",
    "    "
   ]
  },
  {
   "cell_type": "markdown",
   "id": "f9f90b9b",
   "metadata": {},
   "source": [
    "- now we can just import one or both methods from the greetings modules as per our likings"
   ]
  },
  {
   "cell_type": "code",
   "execution_count": null,
   "id": "489ef124",
   "metadata": {},
   "outputs": [],
   "source": [
    "from greetings import greetingsMale\n",
    "greetingMale()"
   ]
  },
  {
   "cell_type": "markdown",
   "id": "02daa638",
   "metadata": {},
   "source": [
    "- we should not use module name after importing when calling an element"
   ]
  },
  {
   "cell_type": "code",
   "execution_count": null,
   "id": "c5ad3658",
   "metadata": {},
   "outputs": [],
   "source": []
  }
 ],
 "metadata": {
  "kernelspec": {
   "display_name": "Python 3",
   "language": "python",
   "name": "python3"
  },
  "language_info": {
   "codemirror_mode": {
    "name": "ipython",
    "version": 3
   },
   "file_extension": ".py",
   "mimetype": "text/x-python",
   "name": "python",
   "nbconvert_exporter": "python",
   "pygments_lexer": "ipython3",
   "version": "3.8.8"
  },
  "vscode": {
   "interpreter": {
    "hash": "33ec601a1ca774353f1729133a7f46e5631e1d282611072a4d6bd5483d11fcce"
   }
  }
 },
 "nbformat": 4,
 "nbformat_minor": 5
}
