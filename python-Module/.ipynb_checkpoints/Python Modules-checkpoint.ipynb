{
 "cells": [
  {
   "cell_type": "markdown",
   "id": "df73bdc3",
   "metadata": {},
   "source": [
    "# Python Modules\n",
    " - consider python modules to be same as a code library\n",
    " - A file containing a set of function you want to include in your application"
   ]
  },
  {
   "cell_type": "markdown",
   "id": "232967b4",
   "metadata": {},
   "source": [
    "## Create a Module"
   ]
  },
  {
   "cell_type": "markdown",
   "id": "ac30a911",
   "metadata": {},
   "source": [
    "- to create a module in python we should save fle with the extension of **.py**"
   ]
  },
  {
   "cell_type": "code",
   "execution_count": 13,
   "id": "6362908b",
   "metadata": {},
   "outputs": [],
   "source": [
    "import greetings"
   ]
  },
  {
   "cell_type": "code",
   "execution_count": 14,
   "id": "c705a5fb",
   "metadata": {},
   "outputs": [
    {
     "name": "stdout",
     "output_type": "stream",
     "text": [
      "Hello World\n"
     ]
    }
   ],
   "source": [
    "greetings.greetings()"
   ]
  },
  {
   "cell_type": "code",
   "execution_count": 19,
   "id": "b89caf08",
   "metadata": {},
   "outputs": [],
   "source": [
    "import greetings"
   ]
  },
  {
   "cell_type": "code",
   "execution_count": 18,
   "id": "e5eda838",
   "metadata": {},
   "outputs": [
    {
     "ename": "AttributeError",
     "evalue": "module 'greetings' has no attribute 'spgreetings'",
     "output_type": "error",
     "traceback": [
      "\u001b[1;31m---------------------------------------------------------------------------\u001b[0m",
      "\u001b[1;31mAttributeError\u001b[0m                            Traceback (most recent call last)",
      "\u001b[1;32m<ipython-input-18-24b91fb65cb6>\u001b[0m in \u001b[0;36m<module>\u001b[1;34m\u001b[0m\n\u001b[1;32m----> 1\u001b[1;33m \u001b[0mgreetings\u001b[0m\u001b[1;33m.\u001b[0m\u001b[0mspgreetings\u001b[0m\u001b[1;33m(\u001b[0m\u001b[1;33m)\u001b[0m\u001b[1;33m\u001b[0m\u001b[1;33m\u001b[0m\u001b[0m\n\u001b[0m",
      "\u001b[1;31mAttributeError\u001b[0m: module 'greetings' has no attribute 'spgreetings'"
     ]
    }
   ],
   "source": [
    "greetings.spgreetings()"
   ]
  },
  {
   "cell_type": "code",
   "execution_count": null,
   "id": "77fc494b",
   "metadata": {},
   "outputs": [],
   "source": []
  }
 ],
 "metadata": {
  "kernelspec": {
   "display_name": "Python 3",
   "language": "python",
   "name": "python3"
  },
  "language_info": {
   "codemirror_mode": {
    "name": "ipython",
    "version": 3
   },
   "file_extension": ".py",
   "mimetype": "text/x-python",
   "name": "python",
   "nbconvert_exporter": "python",
   "pygments_lexer": "ipython3",
   "version": "3.8.8"
  }
 },
 "nbformat": 4,
 "nbformat_minor": 5
}
