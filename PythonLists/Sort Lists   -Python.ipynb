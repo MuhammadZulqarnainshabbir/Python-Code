{
 "cells": [
  {
   "cell_type": "markdown",
   "id": "f7ad451f",
   "metadata": {},
   "source": [
    "## Sort List Alphanumerically\n",
    "\n",
    "Sort the list Alphabetically:"
   ]
  },
  {
   "cell_type": "code",
   "execution_count": 16,
   "id": "cb48e03e",
   "metadata": {},
   "outputs": [
    {
     "name": "stdout",
     "output_type": "stream",
     "text": [
      "['Banana', 'Cherry', 'Orange', 'kiwi', 'mango', 'pineapple']\n"
     ]
    }
   ],
   "source": [
    "thisList =[\"Orange\",\"mango\",\"kiwi\",\"Cherry\",\"pineapple\",\"Banana\"]\n",
    "thisList.sort()\n",
    "print(thisList)"
   ]
  },
  {
   "cell_type": "markdown",
   "id": "b4fec18a",
   "metadata": {},
   "source": [
    "Sort the list numerically:"
   ]
  },
  {
   "cell_type": "code",
   "execution_count": 4,
   "id": "3d13ab9f",
   "metadata": {},
   "outputs": [
    {
     "name": "stdout",
     "output_type": "stream",
     "text": [
      "[30, 50, 100, 500, 1000]\n"
     ]
    }
   ],
   "source": [
    "nthislist =[100,500,50,30,1000]\n",
    "nthislist.sort()\n",
    "print(nthislist)"
   ]
  },
  {
   "cell_type": "markdown",
   "id": "4a461869",
   "metadata": {},
   "source": [
    "### Desecending Order List\n"
   ]
  },
  {
   "cell_type": "code",
   "execution_count": 21,
   "id": "6f395fc7",
   "metadata": {},
   "outputs": [
    {
     "name": "stdout",
     "output_type": "stream",
     "text": [
      "[1, 2, 3, 5, 7, 9]\n",
      "[9, 7, 5, 3, 2, 1]\n"
     ]
    }
   ],
   "source": [
    "hlist=[2,3,1,9,7,5]\n",
    "hlist.sort()\n",
    "print(hlist)\n",
    "hlist.reverse()\n",
    "print(hlist)"
   ]
  },
  {
   "cell_type": "code",
   "execution_count": null,
   "id": "5633f03f",
   "metadata": {},
   "outputs": [],
   "source": []
  }
 ],
 "metadata": {
  "kernelspec": {
   "display_name": "Python 3",
   "language": "python",
   "name": "python3"
  },
  "language_info": {
   "codemirror_mode": {
    "name": "ipython",
    "version": 3
   },
   "file_extension": ".py",
   "mimetype": "text/x-python",
   "name": "python",
   "nbconvert_exporter": "python",
   "pygments_lexer": "ipython3",
   "version": "3.8.8"
  }
 },
 "nbformat": 4,
 "nbformat_minor": 5
}
