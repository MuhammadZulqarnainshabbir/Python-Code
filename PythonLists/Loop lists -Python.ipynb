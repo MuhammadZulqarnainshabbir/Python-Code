{
 "cells": [
  {
   "cell_type": "markdown",
   "id": "cacd7b5d",
   "metadata": {},
   "source": [
    "# Loop lists -Python\n",
    "\n",
    "## we can loop through list items using a for loop"
   ]
  },
  {
   "cell_type": "code",
   "execution_count": 3,
   "id": "29967726",
   "metadata": {},
   "outputs": [
    {
     "name": "stdout",
     "output_type": "stream",
     "text": [
      "Apple\n",
      "Banana\n",
      "Cherry\n"
     ]
    }
   ],
   "source": [
    "mylist =[\"Apple\", \"Banana\",\"Cherry\"]\n",
    "for x in mylist:\n",
    "    print(x)"
   ]
  },
  {
   "cell_type": "code",
   "execution_count": 4,
   "id": "8b6a92c6",
   "metadata": {},
   "outputs": [
    {
     "name": "stdout",
     "output_type": "stream",
     "text": [
      "Python\n",
      "JvaaScript\n",
      "C++\n"
     ]
    }
   ],
   "source": [
    "mylistOne=[\"Python\", \"JvaaScript\", \"C++\"]\n",
    "for y in mylistOne:\n",
    "    print(y)"
   ]
  },
  {
   "cell_type": "markdown",
   "id": "5ab88727",
   "metadata": {},
   "source": [
    "# Loop Through The Index Numbers\n",
    "\n",
    "## we can loop throuh the list items by refering to their Index Number.\n",
    "\n",
    "## use the range() and len() functions to create a suitable iterable.\n",
    "\n",
    "Question: Print all items by referring to their index number"
   ]
  },
  {
   "cell_type": "code",
   "execution_count": 9,
   "id": "75723696",
   "metadata": {},
   "outputs": [
    {
     "name": "stdout",
     "output_type": "stream",
     "text": [
      "apple\n",
      "mango\n",
      "strawberry\n"
     ]
    }
   ],
   "source": [
    "myListE= [\"apple\", \"mango\", \"strawberry\"]\n",
    "for i in range(len(myListE)):\n",
    "    print(myListE[i])"
   ]
  },
  {
   "cell_type": "markdown",
   "id": "c08d3cf5",
   "metadata": {},
   "source": [
    "###  Question : Print all items, using while loop to go through all the index numbes?"
   ]
  },
  {
   "cell_type": "code",
   "execution_count": 11,
   "id": "abc94701",
   "metadata": {},
   "outputs": [
    {
     "name": "stdout",
     "output_type": "stream",
     "text": [
      "apple\n",
      "mango\n",
      "strawberry\n"
     ]
    }
   ],
   "source": [
    "myListE= [\"apple\", \"mango\", \"strawberry\"]\n",
    "i=0\n",
    "while(i< len(myListE)):\n",
    "      print(myListE[i])\n",
    "      i=i+1"
   ]
  },
  {
   "cell_type": "markdown",
   "id": "827fdb75",
   "metadata": {},
   "source": [
    "### Question: A short hand for loop that print all the items in a list?\n"
   ]
  },
  {
   "cell_type": "code",
   "execution_count": 12,
   "id": "8eb59c46",
   "metadata": {},
   "outputs": [
    {
     "name": "stdout",
     "output_type": "stream",
     "text": [
      "apple\n",
      "Banana\n",
      "Cherry\n"
     ]
    },
    {
     "data": {
      "text/plain": [
       "[None, None, None]"
      ]
     },
     "execution_count": 12,
     "metadata": {},
     "output_type": "execute_result"
    }
   ],
   "source": [
    "thismylist =[\"apple\", \"Banana\", \"Cherry\"]\n",
    "[print(x) for x in thismylist]"
   ]
  },
  {
   "cell_type": "code",
   "execution_count": null,
   "id": "03d1bd47",
   "metadata": {},
   "outputs": [],
   "source": []
  }
 ],
 "metadata": {
  "kernelspec": {
   "display_name": "Python 3",
   "language": "python",
   "name": "python3"
  },
  "language_info": {
   "codemirror_mode": {
    "name": "ipython",
    "version": 3
   },
   "file_extension": ".py",
   "mimetype": "text/x-python",
   "name": "python",
   "nbconvert_exporter": "python",
   "pygments_lexer": "ipython3",
   "version": "3.8.8"
  }
 },
 "nbformat": 4,
 "nbformat_minor": 5
}
