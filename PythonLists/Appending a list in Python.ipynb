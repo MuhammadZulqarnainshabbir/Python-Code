{
 "cells": [
  {
   "cell_type": "code",
   "execution_count": 19,
   "id": "627f8221",
   "metadata": {},
   "outputs": [
    {
     "name": "stdout",
     "output_type": "stream",
     "text": [
      "['Apple', 'Banana', 'Orange', 'Mango']\n"
     ]
    }
   ],
   "source": [
    "# To add an item to end of list use append() method\n",
    "thislist =[\"Apple\",\"Banana\",\"Orange\"]\n",
    "thislist.append(\"Mango\")\n",
    "print(thislist)\n",
    "\n",
    "# As we can see that we have added another fruit name at the end of thislist"
   ]
  },
  {
   "cell_type": "code",
   "execution_count": 6,
   "id": "2e2ee45b",
   "metadata": {},
   "outputs": [
    {
     "name": "stdout",
     "output_type": "stream",
     "text": [
      "['Apple', 'Banana', 'Papya', ' Orange']\n"
     ]
    }
   ],
   "source": [
    "# The insert() method insert items at specific index in  a list\n",
    "\n",
    "thislist =[\"Apple\",\"Banana\",\" Orange\"]\n",
    "thislist.insert(2, \"Papya\")\n",
    "print(thislist)"
   ]
  },
  {
   "cell_type": "code",
   "execution_count": 22,
   "id": "53c9211e",
   "metadata": {},
   "outputs": [
    {
     "name": "stdout",
     "output_type": "stream",
     "text": [
      "['Punjab', 'Sindh', 'Baluchistan', 'KPK', 'NewYork', 'California', 'Alabama']\n"
     ]
    }
   ],
   "source": [
    "# From Another list to appen current list use the extend() method\n",
    "# In otherword you can use extend() to concatenate two lists \n",
    "\n",
    "\n",
    "Pakistan= [\"Punjab\", \"Sindh\" , \"Baluchistan\", \"KPK\"]\n",
    "USA = [\"NewYork\", \"California\", \"Alabama\"]\n",
    "Pakistan.extend(USA)\n",
    "print(Pakistan)"
   ]
  },
  {
   "cell_type": "code",
   "execution_count": 23,
   "id": "819d635c",
   "metadata": {},
   "outputs": [
    {
     "name": "stdout",
     "output_type": "stream",
     "text": [
      "['Punjab', 'Sindh', 'Baluchistan', 'KPK', 'Punjab', 'Delhi']\n"
     ]
    }
   ],
   "source": [
    "# The extend method is not just to list you can also append other like iterables, touple, Dictionaries,sets\n",
    "\n",
    "Pakistan= [\"Punjab\", \"Sindh\" , \"Baluchistan\", \"KPK\"]\n",
    "India = (\"Punjab\",\"Delhi\")\n",
    "Pakistan.extend(India)\n",
    "print(Pakistan)"
   ]
  },
  {
   "cell_type": "code",
   "execution_count": null,
   "id": "b8dda00d",
   "metadata": {},
   "outputs": [],
   "source": []
  }
 ],
 "metadata": {
  "kernelspec": {
   "display_name": "Python 3",
   "language": "python",
   "name": "python3"
  },
  "language_info": {
   "codemirror_mode": {
    "name": "ipython",
    "version": 3
   },
   "file_extension": ".py",
   "mimetype": "text/x-python",
   "name": "python",
   "nbconvert_exporter": "python",
   "pygments_lexer": "ipython3",
   "version": "3.8.8"
  }
 },
 "nbformat": 4,
 "nbformat_minor": 5
}
