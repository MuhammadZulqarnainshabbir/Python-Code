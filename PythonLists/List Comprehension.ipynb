{
 "cells": [
  {
   "cell_type": "markdown",
   "id": "3a914ae6",
   "metadata": {},
   "source": [
    "### List Comprehension offers shorter syntax when you want to create a new list based on the values of an existing list."
   ]
  },
  {
   "cell_type": "markdown",
   "id": "58512404",
   "metadata": {},
   "source": [
    "Normal Method:"
   ]
  },
  {
   "cell_type": "code",
   "execution_count": 2,
   "id": "4576a142",
   "metadata": {},
   "outputs": [
    {
     "name": "stdout",
     "output_type": "stream",
     "text": [
      "['apple', 'banana', 'mango']\n"
     ]
    }
   ],
   "source": [
    "fruits = [\"apple\", \"banana\", \"cherry\", \"kiwi\", \"mango\"]\n",
    "subFruits =[ ]\n",
    "for i in fruits:\n",
    "    if \"a\" in i:\n",
    "        subFruits.append(i)\n",
    "     \n",
    "print(subFruits)    "
   ]
  },
  {
   "cell_type": "markdown",
   "id": "36a9f240",
   "metadata": {},
   "source": [
    "Comprehension Method:"
   ]
  },
  {
   "cell_type": "code",
   "execution_count": 3,
   "id": "f1c1c7ac",
   "metadata": {},
   "outputs": [
    {
     "name": "stdout",
     "output_type": "stream",
     "text": [
      "['apple', 'banana', 'mango']\n"
     ]
    }
   ],
   "source": [
    "fruits = [\"apple\", \"banana\", \"cherry\", \"kiwi\", \"mango\"]\n",
    "newSubFruits=[x for x in fruits if \"a\" in x]\n",
    "print(newSubFruits)"
   ]
  },
  {
   "cell_type": "markdown",
   "id": "afea7d17",
   "metadata": {},
   "source": [
    "#### One can ommit the if condition if they want to\n"
   ]
  },
  {
   "cell_type": "code",
   "execution_count": 4,
   "id": "cec1e466",
   "metadata": {},
   "outputs": [
    {
     "name": "stdout",
     "output_type": "stream",
     "text": [
      "['apple', 'banana', 'cherry', 'kiwi', 'mango']\n"
     ]
    }
   ],
   "source": [
    "fruits = [\"apple\", \"banana\", \"cherry\", \"kiwi\", \"mango\"]\n",
    "newlist =[x for x in fruits]\n",
    "print(newlist)"
   ]
  },
  {
   "cell_type": "markdown",
   "id": "33eb633a",
   "metadata": {},
   "source": []
  },
  {
   "cell_type": "markdown",
   "id": "cf88b063",
   "metadata": {},
   "source": []
  },
  {
   "cell_type": "code",
   "execution_count": 14,
   "id": "031b9439",
   "metadata": {},
   "outputs": [
    {
     "name": "stdout",
     "output_type": "stream",
     "text": [
      "['banana', 'kiwi', 'mango']\n"
     ]
    }
   ],
   "source": [
    "fruits = [\"apple\", \"banana\", \"cherry\", \"kiwi\", \"mango\"]\n",
    "newlist =[x for x in fruits if x!=\"apple\" and x!=\"cherry\"]\n",
    "print(newlist)"
   ]
  },
  {
   "cell_type": "markdown",
   "id": "a73daaab",
   "metadata": {},
   "source": [
    "### We can also use range() function to create an iterable:"
   ]
  },
  {
   "cell_type": "code",
   "execution_count": 16,
   "id": "54bb0290",
   "metadata": {},
   "outputs": [
    {
     "name": "stdout",
     "output_type": "stream",
     "text": [
      "[0, 1, 2, 3, 4, 5, 6, 7, 8, 9]\n"
     ]
    }
   ],
   "source": [
    "xnewlist=[x for x in range(10)]\n",
    "print(xnewlist)"
   ]
  },
  {
   "cell_type": "markdown",
   "id": "8a3b2bd4",
   "metadata": {},
   "source": [
    "### same example, but with a condition:\n",
    "\n",
    "Accept only numbers greater than 5"
   ]
  },
  {
   "cell_type": "code",
   "execution_count": 18,
   "id": "7e02998a",
   "metadata": {},
   "outputs": [
    {
     "name": "stdout",
     "output_type": "stream",
     "text": [
      "[6, 7, 8, 9]\n"
     ]
    }
   ],
   "source": [
    "ynewlist=[x for x in range(10) if x>5]\n",
    "print(ynewlist)"
   ]
  },
  {
   "cell_type": "markdown",
   "id": "2e8516c9",
   "metadata": {},
   "source": [
    "# Expression\n",
    "\n",
    "Set the values in the new list to upper case\n"
   ]
  },
  {
   "cell_type": "code",
   "execution_count": 19,
   "id": "ec6b1971",
   "metadata": {},
   "outputs": [
    {
     "name": "stdout",
     "output_type": "stream",
     "text": [
      "['APPLE', 'BANANA', 'CHERRY', 'KIWI', 'MANGO']\n"
     ]
    }
   ],
   "source": [
    "newlist=[x.upper() for x in fruits]\n",
    "print(newlist)"
   ]
  },
  {
   "cell_type": "markdown",
   "id": "ebf46174",
   "metadata": {},
   "source": [
    "Set all values in the new list to 'hello'"
   ]
  },
  {
   "cell_type": "code",
   "execution_count": 22,
   "id": "60055138",
   "metadata": {},
   "outputs": [
    {
     "name": "stdout",
     "output_type": "stream",
     "text": [
      "['hello', 'hello', 'hello', 'hello', 'hello']\n"
     ]
    }
   ],
   "source": [
    "newlist=['hello' for x in fruits]\n",
    "print(newlist)"
   ]
  },
  {
   "cell_type": "markdown",
   "id": "5a9194f3",
   "metadata": {},
   "source": [
    "### Question: Return the item if it is not banana, if it is banana return orange?"
   ]
  },
  {
   "cell_type": "code",
   "execution_count": 23,
   "id": "cf17a8be",
   "metadata": {},
   "outputs": [
    {
     "name": "stdout",
     "output_type": "stream",
     "text": [
      "['apple', 'orange', 'cherry', 'kiwi', 'mango']\n"
     ]
    }
   ],
   "source": [
    "fruits = [\"apple\", \"banana\", \"cherry\", \"kiwi\", \"mango\"]\n",
    "znewlist =[x if x!=\"banana\" else \"orange\" for x in fruits]\n",
    "print(znewlist)"
   ]
  },
  {
   "cell_type": "code",
   "execution_count": null,
   "id": "cf9eac05",
   "metadata": {},
   "outputs": [],
   "source": []
  }
 ],
 "metadata": {
  "kernelspec": {
   "display_name": "Python 3",
   "language": "python",
   "name": "python3"
  },
  "language_info": {
   "codemirror_mode": {
    "name": "ipython",
    "version": 3
   },
   "file_extension": ".py",
   "mimetype": "text/x-python",
   "name": "python",
   "nbconvert_exporter": "python",
   "pygments_lexer": "ipython3",
   "version": "3.8.8"
  }
 },
 "nbformat": 4,
 "nbformat_minor": 5
}
