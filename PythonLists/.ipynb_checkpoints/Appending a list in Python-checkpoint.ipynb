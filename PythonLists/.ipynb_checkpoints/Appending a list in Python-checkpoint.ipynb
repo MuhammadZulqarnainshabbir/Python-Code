{
 "cells": [
  {
   "cell_type": "code",
   "execution_count": 19,
   "id": "5f8a12cb",
   "metadata": {},
   "outputs": [
    {
     "name": "stdout",
     "output_type": "stream",
     "text": [
      "['Apple', 'Banana', 'Orange', 'Mango']\n"
     ]
    }
   ],
   "source": [
    "# To add an item to end of list use append() method\n",
    "thislist =[\"Apple\",\"Banana\",\"Orange\"]\n",
    "thislist.append(\"Mango\")\n",
    "print(thislist)\n",
    "\n",
    "# As we can see that we have added another fruit name at the end of thislist"
   ]
  },
  {
   "cell_type": "code",
   "execution_count": 6,
   "id": "33727ed3",
   "metadata": {},
   "outputs": [
    {
     "name": "stdout",
     "output_type": "stream",
     "text": [
      "['Apple', 'Banana', 'Papya', ' Orange']\n"
     ]
    }
   ],
   "source": [
    "# The insert() method insert items at specific index in  a list\n",
    "\n",
    "thislist =[\"Apple\",\"Banana\",\" Orange\"]\n",
    "thislist.insert(2, \"Papya\")\n",
    "print(thislist)"
   ]
  },
  {
   "cell_type": "code",
   "execution_count": 14,
   "id": "1adcfbbe",
   "metadata": {},
   "outputs": [
    {
     "name": "stdout",
     "output_type": "stream",
     "text": [
      "Apple\n",
      "Banana\n",
      "Papya\n",
      " Orange\n"
     ]
    }
   ],
   "source": []
  },
  {
   "cell_type": "code",
   "execution_count": 20,
   "id": "ab6a206b",
   "metadata": {},
   "outputs": [
    {
     "name": "stdout",
     "output_type": "stream",
     "text": [
      "0 Apple\n",
      "1 Banana\n",
      "2 Orange\n",
      "3 Mango\n"
     ]
    }
   ],
   "source": []
  },
  {
   "cell_type": "code",
   "execution_count": null,
   "id": "312e9ca2",
   "metadata": {},
   "outputs": [],
   "source": []
  }
 ],
 "metadata": {
  "kernelspec": {
   "display_name": "Python 3",
   "language": "python",
   "name": "python3"
  },
  "language_info": {
   "codemirror_mode": {
    "name": "ipython",
    "version": 3
   },
   "file_extension": ".py",
   "mimetype": "text/x-python",
   "name": "python",
   "nbconvert_exporter": "python",
   "pygments_lexer": "ipython3",
   "version": "3.8.8"
  }
 },
 "nbformat": 4,
 "nbformat_minor": 5
}
