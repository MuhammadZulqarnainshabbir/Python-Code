{
 "cells": [
  {
   "cell_type": "code",
   "execution_count": 8,
   "id": "ad00ca04",
   "metadata": {},
   "outputs": [
    {
     "name": "stdout",
     "output_type": "stream",
     "text": [
      "['Pakistan', 'Austria', 'Germany', 'Afghanistan']\n"
     ]
    }
   ],
   "source": [
    "# The remove() method removes specific item from the list\n",
    "Nations=['Pakistan', 'USA','Austria','Germany','Afghanistan']\n",
    "Nations.remove('USA')\n",
    "\n",
    "print(Nations)"
   ]
  },
  {
   "cell_type": "code",
   "execution_count": 9,
   "id": "6a27c6cf",
   "metadata": {},
   "outputs": [
    {
     "name": "stdout",
     "output_type": "stream",
     "text": [
      "['Pakistan', 'Austria', 'Afghanistan']\n"
     ]
    }
   ],
   "source": [
    "# The pop() method remove the item at specified Index\n",
    "Nations.pop(2)\n",
    "print(Nations)"
   ]
  },
  {
   "cell_type": "code",
   "execution_count": 10,
   "id": "311b0590",
   "metadata": {},
   "outputs": [],
   "source": [
    "# If we dont specify any index in pop() it will just automatically delete \n",
    "#last item"
   ]
  },
  {
   "cell_type": "code",
   "execution_count": 14,
   "id": "241637ce",
   "metadata": {},
   "outputs": [
    {
     "name": "stdout",
     "output_type": "stream",
     "text": [
      "['Summers', 'Winter', 'Spring']\n"
     ]
    }
   ],
   "source": [
    "# The del keyword  is also used to remove item at specific index \n",
    "seasons=['Summers','Winter','Autom','Spring']\n",
    "del seasons[2]\n",
    "print(seasons)\n",
    "\n",
    "\n",
    "\n",
    "# The del keyword can list compelety\n",
    "del seasons"
   ]
  },
  {
   "cell_type": "code",
   "execution_count": 17,
   "id": "daac55d6",
   "metadata": {},
   "outputs": [
    {
     "name": "stdout",
     "output_type": "stream",
     "text": [
      "List players before using clear method:  ['Babar', 'Rizwan', 'Shaheen', 'Hassan Ali']\n",
      "List players After using clear method:  []\n"
     ]
    }
   ],
   "source": [
    "# Clear() Method empites a list\n",
    "players =['Babar', 'Rizwan','Shaheen', 'Hassan Ali']\n",
    "print('List players before using clear method: ',players)\n",
    "players.clear()\n",
    "print('List players After using clear method: ',players)"
   ]
  }
 ],
 "metadata": {
  "kernelspec": {
   "display_name": "Python 3",
   "language": "python",
   "name": "python3"
  },
  "language_info": {
   "codemirror_mode": {
    "name": "ipython",
    "version": 3
   },
   "file_extension": ".py",
   "mimetype": "text/x-python",
   "name": "python",
   "nbconvert_exporter": "python",
   "pygments_lexer": "ipython3",
   "version": "3.8.8"
  }
 },
 "nbformat": 4,
 "nbformat_minor": 5
}
