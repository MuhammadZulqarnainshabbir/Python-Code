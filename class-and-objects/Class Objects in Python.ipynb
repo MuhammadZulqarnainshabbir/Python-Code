{
 "cells": [
  {
   "cell_type": "markdown",
   "id": "5cff2921",
   "metadata": {},
   "source": [
    "# Python Classes and Object"
   ]
  },
  {
   "cell_type": "markdown",
   "id": "eca61a7f",
   "metadata": {},
   "source": [
    "1: Create a Class"
   ]
  },
  {
   "cell_type": "code",
   "execution_count": 1,
   "id": "d7f852a0",
   "metadata": {},
   "outputs": [
    {
     "name": "stdout",
     "output_type": "stream",
     "text": [
      "5\n"
     ]
    }
   ],
   "source": [
    "class Myclass:\n",
    "    x=5"
   ]
  },
  {
   "cell_type": "markdown",
   "id": "9f8add2c",
   "metadata": {},
   "source": [
    "2: create an object of class"
   ]
  },
  {
   "cell_type": "code",
   "execution_count": 4,
   "id": "47932da9",
   "metadata": {},
   "outputs": [
    {
     "name": "stdout",
     "output_type": "stream",
     "text": [
      "5\n"
     ]
    }
   ],
   "source": [
    "obj1 = Myclass()\n",
    "print(obj1.x)"
   ]
  },
  {
   "cell_type": "code",
   "execution_count": 14,
   "id": "bafe0b7d",
   "metadata": {},
   "outputs": [
    {
     "name": "stdout",
     "output_type": "stream",
     "text": [
      "Ali\n",
      "('Ali', '20', 'li32@gmail.com')\n"
     ]
    }
   ],
   "source": [
    "class Student:\n",
    "    def __init__(self, name, age, email):\n",
    "        self.name=name\n",
    "        self.age= age\n",
    "        self.email= email\n",
    "    def alldata(self):\n",
    "        return self.name, self.age, self.email\n",
    "stud1 = Student(\"Ali\",\"20\",\"li32@gmail.com\")\n",
    "print(stud1.name)\n",
    "print(stud1.alldata() )"
   ]
  },
  {
   "cell_type": "code",
   "execution_count": null,
   "id": "386ea679",
   "metadata": {},
   "outputs": [],
   "source": []
  },
  {
   "cell_type": "markdown",
   "id": "067db0d0",
   "metadata": {},
   "source": [
    "# Modify the Object Properties"
   ]
  },
  {
   "cell_type": "markdown",
   "id": "24c1c8bc",
   "metadata": {},
   "source": [
    "- set the age of stud1 to 40"
   ]
  },
  {
   "cell_type": "code",
   "execution_count": 15,
   "id": "7217aa61",
   "metadata": {},
   "outputs": [],
   "source": [
    "stud1.age = 40"
   ]
  },
  {
   "cell_type": "code",
   "execution_count": 17,
   "id": "b1493b47",
   "metadata": {},
   "outputs": [
    {
     "name": "stdout",
     "output_type": "stream",
     "text": [
      "('Ali', 40, 'li32@gmail.com')\n"
     ]
    }
   ],
   "source": [
    "print(stud1.alldata())\n",
    "\n",
    "# after running this code we can see that the age has been modified"
   ]
  },
  {
   "cell_type": "markdown",
   "id": "e24fb351",
   "metadata": {},
   "source": [
    "# Delete Object properties"
   ]
  },
  {
   "cell_type": "markdown",
   "id": "aa940db9",
   "metadata": {},
   "source": [
    "- we can also delete properties of objects by using the **del** keyword"
   ]
  },
  {
   "cell_type": "code",
   "execution_count": 20,
   "id": "108f2f13",
   "metadata": {},
   "outputs": [
    {
     "ename": "AttributeError",
     "evalue": "age",
     "output_type": "error",
     "traceback": [
      "\u001b[1;31m---------------------------------------------------------------------------\u001b[0m",
      "\u001b[1;31mAttributeError\u001b[0m                            Traceback (most recent call last)",
      "\u001b[1;32m<ipython-input-20-212a41b632df>\u001b[0m in \u001b[0;36m<module>\u001b[1;34m\u001b[0m\n\u001b[1;32m----> 1\u001b[1;33m \u001b[1;32mdel\u001b[0m \u001b[0mstud1\u001b[0m\u001b[1;33m.\u001b[0m\u001b[0mage\u001b[0m\u001b[1;33m\u001b[0m\u001b[1;33m\u001b[0m\u001b[0m\n\u001b[0m\u001b[0;32m      2\u001b[0m \u001b[0mprint\u001b[0m\u001b[1;33m(\u001b[0m\u001b[0mstud1\u001b[0m\u001b[1;33m.\u001b[0m\u001b[0mage\u001b[0m \u001b[1;33m)\u001b[0m\u001b[1;33m\u001b[0m\u001b[1;33m\u001b[0m\u001b[0m\n\u001b[0;32m      3\u001b[0m \u001b[1;31m#error beacuse we already deleted the age\u001b[0m\u001b[1;33m\u001b[0m\u001b[1;33m\u001b[0m\u001b[1;33m\u001b[0m\u001b[0m\n",
      "\u001b[1;31mAttributeError\u001b[0m: age"
     ]
    }
   ],
   "source": [
    "del stud1.age\n",
    "print(stud1.age )\n",
    "#error beacuse we already deleted the atribute  age"
   ]
  },
  {
   "cell_type": "markdown",
   "id": "a05a7b45",
   "metadata": {},
   "source": [
    "# Delete The Objects of Class"
   ]
  },
  {
   "cell_type": "markdown",
   "id": "a752ad05",
   "metadata": {},
   "source": [
    "- we can also delete the objects of class by using the **del** keyword"
   ]
  },
  {
   "cell_type": "code",
   "execution_count": 22,
   "id": "17943c6e",
   "metadata": {},
   "outputs": [
    {
     "ename": "NameError",
     "evalue": "name 'stud1' is not defined",
     "output_type": "error",
     "traceback": [
      "\u001b[1;31m---------------------------------------------------------------------------\u001b[0m",
      "\u001b[1;31mNameError\u001b[0m                                 Traceback (most recent call last)",
      "\u001b[1;32m<ipython-input-22-de5893dbed94>\u001b[0m in \u001b[0;36m<module>\u001b[1;34m\u001b[0m\n\u001b[1;32m----> 1\u001b[1;33m \u001b[1;32mdel\u001b[0m \u001b[0mstud1\u001b[0m\u001b[1;33m\u001b[0m\u001b[1;33m\u001b[0m\u001b[0m\n\u001b[0m\u001b[0;32m      2\u001b[0m \u001b[1;33m\u001b[0m\u001b[0m\n\u001b[0;32m      3\u001b[0m \u001b[1;31m#it will delete the stud1 object of class student\u001b[0m\u001b[1;33m\u001b[0m\u001b[1;33m\u001b[0m\u001b[1;33m\u001b[0m\u001b[0m\n",
      "\u001b[1;31mNameError\u001b[0m: name 'stud1' is not defined"
     ]
    }
   ],
   "source": [
    "del stud1\n",
    "\n",
    "#it will delete the stud1 object of class student"
   ]
  },
  {
   "cell_type": "code",
   "execution_count": null,
   "id": "6bfb7f86",
   "metadata": {},
   "outputs": [],
   "source": []
  }
 ],
 "metadata": {
  "kernelspec": {
   "display_name": "Python 3",
   "language": "python",
   "name": "python3"
  },
  "language_info": {
   "codemirror_mode": {
    "name": "ipython",
    "version": 3
   },
   "file_extension": ".py",
   "mimetype": "text/x-python",
   "name": "python",
   "nbconvert_exporter": "python",
   "pygments_lexer": "ipython3",
   "version": "3.8.8"
  }
 },
 "nbformat": 4,
 "nbformat_minor": 5
}
