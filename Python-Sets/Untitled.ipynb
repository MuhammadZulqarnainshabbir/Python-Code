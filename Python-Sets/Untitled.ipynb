{
 "cells": [
  {
   "cell_type": "markdown",
   "id": "47b37c67",
   "metadata": {},
   "source": [
    "# Accessing Set Items\n",
    "\n",
    "- **Cannot Do** we cannot access the sets items by referring to the index number or key.\n",
    "\n",
    "- **Can Do** we can loop through the set items.\n",
    "\n"
   ]
  },
  {
   "cell_type": "code",
   "execution_count": 1,
   "id": "854c9b8e",
   "metadata": {},
   "outputs": [
    {
     "name": "stdout",
     "output_type": "stream",
     "text": [
      "Banana\n",
      "Mango\n",
      "Apple\n"
     ]
    }
   ],
   "source": [
    "thisset= {\"Apple\",\"Banana\",\"Mango\"}\n",
    "for x in thisset:\n",
    "    print(x)\n"
   ]
  },
  {
   "cell_type": "markdown",
   "id": "91839606",
   "metadata": {},
   "source": [
    "###  Check if the element Banana is present in a set"
   ]
  },
  {
   "cell_type": "code",
   "execution_count": 4,
   "id": "746e645c",
   "metadata": {},
   "outputs": [
    {
     "name": "stdout",
     "output_type": "stream",
     "text": [
      "the element you entered dosnt exist in myset\n"
     ]
    }
   ],
   "source": [
    "myset ={\"Apple\",\"Mango\",\"Cherry\"}\n",
    "if \"orange\" in myset:\n",
    "    print(\"cherry exist in myset\")\n",
    "    \n",
    "else:\n",
    "    print(\"the element you entered dosnt exist in myset\")"
   ]
  },
  {
   "cell_type": "code",
   "execution_count": null,
   "id": "4c7c53c9",
   "metadata": {},
   "outputs": [],
   "source": []
  }
 ],
 "metadata": {
  "kernelspec": {
   "display_name": "Python 3",
   "language": "python",
   "name": "python3"
  },
  "language_info": {
   "codemirror_mode": {
    "name": "ipython",
    "version": 3
   },
   "file_extension": ".py",
   "mimetype": "text/x-python",
   "name": "python",
   "nbconvert_exporter": "python",
   "pygments_lexer": "ipython3",
   "version": "3.8.8"
  }
 },
 "nbformat": 4,
 "nbformat_minor": 5
}
