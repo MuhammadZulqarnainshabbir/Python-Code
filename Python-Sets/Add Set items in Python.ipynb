{
 "cells": [
  {
   "cell_type": "markdown",
   "id": "c35f7353",
   "metadata": {},
   "source": [
    "# Add items to a set\n",
    "\n",
    "- once a set is created we cannot change its items but we can add new items to it.\n",
    "- To add new items to a set we use add() method"
   ]
  },
  {
   "cell_type": "code",
   "execution_count": 1,
   "id": "7caa2a1b",
   "metadata": {},
   "outputs": [
    {
     "name": "stdout",
     "output_type": "stream",
     "text": [
      "{'Jhon', 1, 'Snow', 'Pineapple'}\n"
     ]
    }
   ],
   "source": [
    "thisset= {1, \"Pineapple\",\"Jhon\"}\n",
    "thisset.add('Snow')\n",
    "print(thisset)"
   ]
  },
  {
   "cell_type": "markdown",
   "id": "9bfae384",
   "metadata": {},
   "source": [
    "###  - To add items from one set to another set, use the update() method"
   ]
  },
  {
   "cell_type": "markdown",
   "id": "cccb2da7",
   "metadata": {},
   "source": [
    "- Question :Add elements from tropical into myset?"
   ]
  },
  {
   "cell_type": "code",
   "execution_count": 2,
   "id": "40d3844c",
   "metadata": {},
   "outputs": [
    {
     "name": "stdout",
     "output_type": "stream",
     "text": [
      "{'papaya', 'mango', 'cherry', 'apple', 'banana', 'pineapple'}\n"
     ]
    }
   ],
   "source": [
    "myset ={\"apple\", \"banana\", \"cherry\"}\n",
    "tropical = {\"pineapple\", \"mango\", \"papaya\"}\n",
    "myset.update(tropical)\n",
    "print(myset)"
   ]
  },
  {
   "cell_type": "markdown",
   "id": "28262da5",
   "metadata": {},
   "source": [
    "### By using update method we can also add any iterable in set, it is not neccessary to have set object in it"
   ]
  },
  {
   "cell_type": "code",
   "execution_count": 3,
   "id": "4cee2c13",
   "metadata": {},
   "outputs": [
    {
     "name": "stdout",
     "output_type": "stream",
     "text": [
      "{'cherry', 'orange', 'apple', 'banana', 'kiwi'}\n"
     ]
    }
   ],
   "source": [
    "nset ={\"apple\", \"banana\", \"cherry\"}\n",
    "mylist =[\"kiwi\", \"orange\"]\n",
    "nset.update(mylist)\n",
    "print(nset)"
   ]
  },
  {
   "cell_type": "code",
   "execution_count": null,
   "id": "7ded3ac2",
   "metadata": {},
   "outputs": [],
   "source": []
  }
 ],
 "metadata": {
  "kernelspec": {
   "display_name": "Python 3",
   "language": "python",
   "name": "python3"
  },
  "language_info": {
   "codemirror_mode": {
    "name": "ipython",
    "version": 3
   },
   "file_extension": ".py",
   "mimetype": "text/x-python",
   "name": "python",
   "nbconvert_exporter": "python",
   "pygments_lexer": "ipython3",
   "version": "3.8.8"
  }
 },
 "nbformat": 4,
 "nbformat_minor": 5
}
