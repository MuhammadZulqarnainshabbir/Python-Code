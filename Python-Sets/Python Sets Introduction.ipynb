{
 "cells": [
  {
   "cell_type": "code",
   "execution_count": 1,
   "id": "905e5f9a",
   "metadata": {},
   "outputs": [
    {
     "name": "stdout",
     "output_type": "stream",
     "text": [
      "{'Banana', 'cherry', 'apple'}\n"
     ]
    }
   ],
   "source": [
    "myset ={\"apple\",\"Banana\",\"cherry\"}\n",
    "print(myset)"
   ]
  },
  {
   "cell_type": "markdown",
   "id": "2a702823",
   "metadata": {},
   "source": [
    "create a Set\n"
   ]
  },
  {
   "cell_type": "code",
   "execution_count": 2,
   "id": "de508d73",
   "metadata": {},
   "outputs": [
    {
     "name": "stdout",
     "output_type": "stream",
     "text": [
      "{'banana', 'cherry', 'apple'}\n"
     ]
    }
   ],
   "source": [
    "thisset ={\"apple\",\"banana\",\"cherry\"}\n",
    "print(thisset)"
   ]
  },
  {
   "cell_type": "markdown",
   "id": "e25dfa54",
   "metadata": {},
   "source": [
    "# Sets Items are unordered\n",
    "\n",
    "- sets items are unordered, unchangeable, and do not allow dublicate values.\n",
    "\n",
    "## unordered\n",
    " -  unordered means that the items in a set do not have a defined order\n",
    " - sets items can appear in a differnt order every time you use the and cannot    be reffered to by index or key.\n",
    " \n",
    "## unchageable \n",
    " - Set items are unchangeable, meaning that we cannot change the items after the set has been created"
   ]
  },
  {
   "cell_type": "code",
   "execution_count": 4,
   "id": "171c6ec5",
   "metadata": {},
   "outputs": [
    {
     "name": "stdout",
     "output_type": "stream",
     "text": [
      "{'Mango', '1', 'Apple'}\n"
     ]
    }
   ],
   "source": [
    "thisset=set({'1','Apple','Apple',\"Mango\"})\n",
    "print(thisset)"
   ]
  },
  {
   "cell_type": "markdown",
   "id": "f221f097",
   "metadata": {},
   "source": [
    "- As we can see set will ignore **duplicate values**. \n",
    "- The output has a **differnt order** from the order of input which shows sets dont follow a particular order.\n",
    "- **set()** constructor can be use to delcare the se\n"
   ]
  },
  {
   "cell_type": "code",
   "execution_count": null,
   "id": "cc07d185",
   "metadata": {},
   "outputs": [],
   "source": []
  }
 ],
 "metadata": {
  "kernelspec": {
   "display_name": "Python 3",
   "language": "python",
   "name": "python3"
  },
  "language_info": {
   "codemirror_mode": {
    "name": "ipython",
    "version": 3
   },
   "file_extension": ".py",
   "mimetype": "text/x-python",
   "name": "python",
   "nbconvert_exporter": "python",
   "pygments_lexer": "ipython3",
   "version": "3.8.8"
  }
 },
 "nbformat": 4,
 "nbformat_minor": 5
}
