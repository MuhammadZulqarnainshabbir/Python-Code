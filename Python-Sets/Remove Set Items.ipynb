{
 "cells": [
  {
   "cell_type": "markdown",
   "id": "ec83b306",
   "metadata": {},
   "source": [
    "### To remove an item in a set use the remove or the discard method"
   ]
  },
  {
   "cell_type": "markdown",
   "id": "b969d3a4",
   "metadata": {},
   "source": [
    "Question: Remove \"banana\" by using the remove() method?"
   ]
  },
  {
   "cell_type": "code",
   "execution_count": 1,
   "id": "e020582d",
   "metadata": {},
   "outputs": [
    {
     "name": "stdout",
     "output_type": "stream",
     "text": [
      "{'cherry', 'apple'}\n"
     ]
    }
   ],
   "source": [
    "fset ={\"apple\", \"banana\", \"cherry\"}\n",
    "fset.remove(\"banana\")\n",
    "print(fset)"
   ]
  },
  {
   "cell_type": "markdown",
   "id": "153d6d47",
   "metadata": {},
   "source": [
    "###  if the item we are trying to remove does not exist remove() will raise an error"
   ]
  },
  {
   "cell_type": "markdown",
   "id": "056c3472",
   "metadata": {},
   "source": [
    "### But if we use discard() instead of remove() it will not raise an error"
   ]
  },
  {
   "cell_type": "code",
   "execution_count": 2,
   "id": "aa6cca43",
   "metadata": {},
   "outputs": [
    {
     "name": "stdout",
     "output_type": "stream",
     "text": [
      "{'cherry', 'apple', 'banana'}\n"
     ]
    }
   ],
   "source": [
    "fset ={\"apple\", \"banana\", \"cherry\"}\n",
    "fset.discard(\"Mango\")\n",
    "print(fset)"
   ]
  },
  {
   "cell_type": "markdown",
   "id": "5a9514b5",
   "metadata": {},
   "source": [
    "### we call also use the pop() function to remove the element from set.\n",
    "### pop() will remove the last element of a set as we know that  the sets are unorderd so we will not know which item will be removed by using pop method"
   ]
  },
  {
   "cell_type": "markdown",
   "id": "7d551ce2",
   "metadata": {},
   "source": [
    "- The **clear()** method will empties the set:"
   ]
  },
  {
   "cell_type": "code",
   "execution_count": 3,
   "id": "38219f90",
   "metadata": {},
   "outputs": [
    {
     "name": "stdout",
     "output_type": "stream",
     "text": [
      "set()\n"
     ]
    }
   ],
   "source": [
    "cset ={\"apple\", \"banana\", \"cherry\"}\n",
    "cset.clear()\n",
    "print(cset)"
   ]
  },
  {
   "cell_type": "markdown",
   "id": "479aa590",
   "metadata": {},
   "source": [
    "- To delete a set we can use del keyword\n"
   ]
  },
  {
   "cell_type": "code",
   "execution_count": 4,
   "id": "ed88c135",
   "metadata": {},
   "outputs": [
    {
     "ename": "NameError",
     "evalue": "name 'dset' is not defined",
     "output_type": "error",
     "traceback": [
      "\u001b[1;31m---------------------------------------------------------------------------\u001b[0m",
      "\u001b[1;31mNameError\u001b[0m                                 Traceback (most recent call last)",
      "\u001b[1;32m<ipython-input-4-704d02bb57b5>\u001b[0m in \u001b[0;36m<module>\u001b[1;34m\u001b[0m\n\u001b[0;32m      1\u001b[0m \u001b[0mdset\u001b[0m\u001b[1;33m=\u001b[0m\u001b[1;33m{\u001b[0m\u001b[1;34m\"apple\"\u001b[0m\u001b[1;33m,\u001b[0m \u001b[1;34m\"banana\"\u001b[0m\u001b[1;33m,\u001b[0m \u001b[1;34m\"cherry\"\u001b[0m\u001b[1;33m}\u001b[0m\u001b[1;33m\u001b[0m\u001b[1;33m\u001b[0m\u001b[0m\n\u001b[0;32m      2\u001b[0m \u001b[1;32mdel\u001b[0m \u001b[0mdset\u001b[0m\u001b[1;33m\u001b[0m\u001b[1;33m\u001b[0m\u001b[0m\n\u001b[1;32m----> 3\u001b[1;33m \u001b[0mprint\u001b[0m\u001b[1;33m(\u001b[0m\u001b[0mdset\u001b[0m\u001b[1;33m)\u001b[0m\u001b[1;33m\u001b[0m\u001b[1;33m\u001b[0m\u001b[0m\n\u001b[0m",
      "\u001b[1;31mNameError\u001b[0m: name 'dset' is not defined"
     ]
    }
   ],
   "source": [
    "dset={\"apple\", \"banana\", \"cherry\"}\n",
    "del dset\n",
    "print(dset)"
   ]
  },
  {
   "cell_type": "code",
   "execution_count": null,
   "id": "31db51f9",
   "metadata": {},
   "outputs": [],
   "source": []
  }
 ],
 "metadata": {
  "kernelspec": {
   "display_name": "Python 3",
   "language": "python",
   "name": "python3"
  },
  "language_info": {
   "codemirror_mode": {
    "name": "ipython",
    "version": 3
   },
   "file_extension": ".py",
   "mimetype": "text/x-python",
   "name": "python",
   "nbconvert_exporter": "python",
   "pygments_lexer": "ipython3",
   "version": "3.8.8"
  }
 },
 "nbformat": 4,
 "nbformat_minor": 5
}
