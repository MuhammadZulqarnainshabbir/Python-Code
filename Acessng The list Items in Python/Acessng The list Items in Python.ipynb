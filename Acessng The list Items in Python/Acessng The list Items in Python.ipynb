{
 "cells": [
  {
   "cell_type": "code",
   "execution_count": 2,
   "id": "ddde924b",
   "metadata": {},
   "outputs": [
    {
     "name": "stdout",
     "output_type": "stream",
     "text": [
      "['apple', 'banana', 'cherry', 'orange', 'kiwi', 'melon', 'mango']\n"
     ]
    }
   ],
   "source": [
    "fruitsList=[\"apple\", \"banana\", \"cherry\", \"orange\", \"kiwi\", \"melon\", \"mango\"]\n",
    "print(fruitsList)"
   ]
  },
  {
   "cell_type": "code",
   "execution_count": 5,
   "id": "a0e88a80",
   "metadata": {},
   "outputs": [
    {
     "name": "stdout",
     "output_type": "stream",
     "text": [
      "apple\n"
     ]
    }
   ],
   "source": [
    "# Printing element at 0th Index\n",
    "print(fruitsList[0])"
   ]
  },
  {
   "cell_type": "code",
   "execution_count": 6,
   "id": "f1b80913",
   "metadata": {},
   "outputs": [
    {
     "name": "stdout",
     "output_type": "stream",
     "text": [
      "mango\n"
     ]
    }
   ],
   "source": [
    "# Printing element at last Index\n",
    "print(fruitsList[-1])"
   ]
  },
  {
   "cell_type": "code",
   "execution_count": 8,
   "id": "6ae3ac17",
   "metadata": {},
   "outputs": [
    {
     "name": "stdout",
     "output_type": "stream",
     "text": [
      "['banana', 'cherry', 'orange', 'kiwi']\n"
     ]
    }
   ],
   "source": [
    "# Printing elements by giving range\n",
    "# 1 will be included but not the 5th\n",
    "print(fruitsList[1:5])"
   ]
  },
  {
   "cell_type": "code",
   "execution_count": 11,
   "id": "d3fb4222",
   "metadata": {},
   "outputs": [
    {
     "name": "stdout",
     "output_type": "stream",
     "text": [
      "['cherry', 'orange', 'kiwi', 'melon']\n"
     ]
    }
   ],
   "source": [
    "# Printing elements by giving negative range\n",
    "# 1 will not be included but the 5th will be included\n",
    "print(fruitsList[-5:-1])"
   ]
  },
  {
   "cell_type": "code",
   "execution_count": 13,
   "id": "4a0d00ce",
   "metadata": {},
   "outputs": [
    {
     "name": "stdout",
     "output_type": "stream",
     "text": [
      "['apple', 'banana', 'cherry', 'orange', 'kiwi']\n"
     ]
    }
   ],
   "source": [
    "# Printing element from 0 to 5\n",
    "# it will not print melon on 5th Index\n",
    "print(fruitsList[:5])"
   ]
  },
  {
   "cell_type": "code",
   "execution_count": 15,
   "id": "f1a10e6d",
   "metadata": {},
   "outputs": [
    {
     "name": "stdout",
     "output_type": "stream",
     "text": [
      "['cherry', 'orange', 'kiwi', 'melon', 'mango']\n"
     ]
    }
   ],
   "source": [
    "# Printing element from 2 last\n",
    "# it will not print melon on 2nd Index\n",
    "print(fruitsList[2:])"
   ]
  },
  {
   "cell_type": "code",
   "execution_count": 16,
   "id": "919fa5aa",
   "metadata": {},
   "outputs": [
    {
     "name": "stdout",
     "output_type": "stream",
     "text": [
      "['melon', 'mango']\n"
     ]
    }
   ],
   "source": [
    "print(fruitsList[-2:])"
   ]
  },
  {
   "cell_type": "code",
   "execution_count": 17,
   "id": "0afbc85c",
   "metadata": {},
   "outputs": [
    {
     "name": "stdout",
     "output_type": "stream",
     "text": [
      "['apple', 'banana', 'cherry', 'orange', 'kiwi']\n"
     ]
    }
   ],
   "source": [
    "print(fruitsList[:-2])"
   ]
  },
  {
   "cell_type": "code",
   "execution_count": null,
   "id": "9b48319d",
   "metadata": {},
   "outputs": [],
   "source": []
  }
 ],
 "metadata": {
  "kernelspec": {
   "display_name": "Python 3",
   "language": "python",
   "name": "python3"
  },
  "language_info": {
   "codemirror_mode": {
    "name": "ipython",
    "version": 3
   },
   "file_extension": ".py",
   "mimetype": "text/x-python",
   "name": "python",
   "nbconvert_exporter": "python",
   "pygments_lexer": "ipython3",
   "version": "3.8.8"
  }
 },
 "nbformat": 4,
 "nbformat_minor": 5
}
