{
 "cells": [
  {
   "cell_type": "markdown",
   "id": "07b45b6b",
   "metadata": {},
   "source": [
    "# Inheritance in Python\n",
    "\n",
    "- person is our parent class "
   ]
  },
  {
   "cell_type": "code",
   "execution_count": 3,
   "id": "6da4fdc8",
   "metadata": {},
   "outputs": [
    {
     "name": "stdout",
     "output_type": "stream",
     "text": [
      "Mike   30\n"
     ]
    }
   ],
   "source": [
    "class person:\n",
    "    def __init__(self, name ,age):\n",
    "        self.name = name\n",
    "        self.age = age\n",
    "        \n",
    "    def printfunction(self):\n",
    "        print(self.name,\" \", self.age)\n",
    "        \n",
    "obj1 = person(\"Mike\",\"30\")\n",
    "obj1.printfunction()"
   ]
  },
  {
   "cell_type": "markdown",
   "id": "e8d347c2",
   "metadata": {},
   "source": [
    "- student is child class"
   ]
  },
  {
   "cell_type": "code",
   "execution_count": 5,
   "id": "5c9d921f",
   "metadata": {},
   "outputs": [
    {
     "name": "stdout",
     "output_type": "stream",
     "text": [
      "Ali   17\n"
     ]
    }
   ],
   "source": [
    "class student(person):\n",
    "    pass\n",
    "obj2 = student(\"Ali\",\"17\")\n",
    "obj2.printfunction()"
   ]
  },
  {
   "cell_type": "markdown",
   "id": "08980b9e",
   "metadata": {},
   "source": [
    "- if we make **__init__()** in child class it will overide the **__init__()** method of parent class, so to avoid that we will use person.**__init__()** method inside the child **__init__()** method "
   ]
  },
  {
   "cell_type": "code",
   "execution_count": 4,
   "id": "dc7d6f93",
   "metadata": {},
   "outputs": [
    {
     "name": "stdout",
     "output_type": "stream",
     "text": [
      "Muhammad   50\n"
     ]
    }
   ],
   "source": [
    "class teacher(person):\n",
    "    def __init__(self, name, age):\n",
    "        person.__init__(self, name,age)\n",
    "        \n",
    "obj3 = teacher(\"Muhammad\",\"50\")\n",
    "obj3.printfunction()"
   ]
  },
  {
   "cell_type": "markdown",
   "id": "8d4ed6cc",
   "metadata": {},
   "source": [
    "- Python also has a super() function that will make the child class inherit all the methods and properties from its parent"
   ]
  },
  {
   "cell_type": "code",
   "execution_count": 9,
   "id": "ce0fa68d",
   "metadata": {},
   "outputs": [
    {
     "name": "stdout",
     "output_type": "stream",
     "text": [
      "Ahmad   87\n"
     ]
    }
   ],
   "source": [
    "class Dean(person):\n",
    "    def __init__(self, name, age):\n",
    "        super().__init__(name, age)\n",
    "\n",
    "obj4 = Dean(\"Ahmad\",\"87\")\n",
    "obj4.printfunction()"
   ]
  },
  {
   "cell_type": "markdown",
   "id": "4761f9c1",
   "metadata": {},
   "source": [
    "# Add Properties"
   ]
  },
  {
   "cell_type": "code",
   "execution_count": 14,
   "id": "af9d57dd",
   "metadata": {},
   "outputs": [
    {
     "name": "stdout",
     "output_type": "stream",
     "text": [
      "usman   79\n"
     ]
    }
   ],
   "source": [
    "class helper(person):\n",
    "    def __init__(self, name,age, residence):\n",
    "        super().__init__(name, age)\n",
    "        self.residence = residence\n",
    "obj5= helper(\"usman\",\"79\",\"karachi\")\n",
    "obj5.printfunction()"
   ]
  },
  {
   "cell_type": "code",
   "execution_count": null,
   "id": "5bf028e1",
   "metadata": {},
   "outputs": [],
   "source": []
  }
 ],
 "metadata": {
  "kernelspec": {
   "display_name": "Python 3",
   "language": "python",
   "name": "python3"
  },
  "language_info": {
   "codemirror_mode": {
    "name": "ipython",
    "version": 3
   },
   "file_extension": ".py",
   "mimetype": "text/x-python",
   "name": "python",
   "nbconvert_exporter": "python",
   "pygments_lexer": "ipython3",
   "version": "3.8.8"
  }
 },
 "nbformat": 4,
 "nbformat_minor": 5
}
