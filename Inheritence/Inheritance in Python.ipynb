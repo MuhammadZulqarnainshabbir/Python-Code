{
 "cells": [
  {
   "cell_type": "markdown",
   "id": "07b45b6b",
   "metadata": {},
   "source": [
    "# Inheritance in Python\n",
    "\n",
    "- person is our parent class "
   ]
  },
  {
   "cell_type": "code",
   "execution_count": 3,
   "id": "6da4fdc8",
   "metadata": {},
   "outputs": [
    {
     "name": "stdout",
     "output_type": "stream",
     "text": [
      "Mike   30\n"
     ]
    }
   ],
   "source": [
    "class person:\n",
    "    def __init__(self, name ,age):\n",
    "        self.name = name\n",
    "        self.age = age\n",
    "        \n",
    "    def printfunction(self):\n",
    "        print(self.name,\" \", self.age)\n",
    "        \n",
    "obj1 = person(\"Mike\",\"30\")\n",
    "obj1.printfunction()"
   ]
  },
  {
   "cell_type": "markdown",
   "id": "e8d347c2",
   "metadata": {},
   "source": [
    "- student is child class"
   ]
  },
  {
   "cell_type": "code",
   "execution_count": 2,
   "id": "5c9d921f",
   "metadata": {},
   "outputs": [
    {
     "name": "stdout",
     "output_type": "stream",
     "text": [
      "Ali   17\n"
     ]
    }
   ],
   "source": [
    "class student(person):\n",
    "    pass\n",
    "obj2 = student(\"Ali\",\"17\")\n",
    "obj2.printfunction()"
   ]
  }
 ],
 "metadata": {
  "kernelspec": {
   "display_name": "Python 3",
   "language": "python",
   "name": "python3"
  },
  "language_info": {
   "codemirror_mode": {
    "name": "ipython",
    "version": 3
   },
   "file_extension": ".py",
   "mimetype": "text/x-python",
   "name": "python",
   "nbconvert_exporter": "python",
   "pygments_lexer": "ipython3",
   "version": "3.8.8"
  }
 },
 "nbformat": 4,
 "nbformat_minor": 5
}
